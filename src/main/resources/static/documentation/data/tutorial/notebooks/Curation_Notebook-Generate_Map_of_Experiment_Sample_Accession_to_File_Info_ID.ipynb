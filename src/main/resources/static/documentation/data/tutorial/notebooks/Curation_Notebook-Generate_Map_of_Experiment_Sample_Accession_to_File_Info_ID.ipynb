{
 "cells": [
  {
   "cell_type": "markdown",
   "metadata": {},
   "source": [
    "*Quick reminder:* To run the code in a cell, either click on the \"play\" icon above, or press Shift+Enter. Cells can be run as many times as needed."
   ]
  },
  {
   "cell_type": "code",
   "execution_count": null,
   "metadata": {
    "collapsed": true
   },
   "outputs": [],
   "source": [
    "import os"
   ]
  },
  {
   "cell_type": "markdown",
   "metadata": {},
   "source": [
    "# Generate File for Move Archive Tool\n",
    "<i><font size=2 color=\"grey\">Version 1.0, last modified September 2017<br>\n",
    "Python 3.6<br>\n",
    "</font></i>\n",
    "  \n",
    "  \n",
    "This notebook contains code to generate the file required by the 'Move Archive tool' -- to associate archived files with experiment sample accessions.    \n",
    "\n",
    "**<u>Expected input:</u>**  \n",
    "  \n",
    "- Database upload report received after upload of the files to move.  \n",
    "- Mapping of Experiment Sample Accession to file name - please provide a **plain text file**.  \n",
    "  \n",
    "**<u>Output:</u>**  \n",
    "\n",
    "Mapping file, SDYacc_EXPacces_ES_ACC_2_FID.txt, in directory containing the mapping file.   \n",
    "  \n",
    "**<u>Parameters:</u>**  \n",
    "<font color=\"DarkRed\"><strong>Please</strong></font> change the following parameters by commenting out or editing accordingly."
   ]
  },
  {
   "cell_type": "code",
   "execution_count": null,
   "metadata": {
    "collapsed": true
   },
   "outputs": [],
   "source": [
    "## Study accession:\n",
    "sdy_acc = \"SDYxxx\"\n",
    "\n",
    "## Experiment accession:\n",
    "exp_acc = \"EXPxxxxx\"\n",
    "\n",
    "## Path to upload database report -- this is the file in the confirmation email of successful upload\n",
    "upload_report = \"placeholder/path/to/upload_report/ImmPort.report.Database.xxxx.txt\"\n",
    "\n",
    "## What value to use for file detail?\n",
    "file_detail = \"Custom assay result\"\n",
    "#file_detail = \"Gene expression result\"\n",
    "#file_detail = \"RNA sequencing result\"\n",
    "#file_detail = \"Genotyping result\"\n",
    "#file_detail = \"TPM\"\n",
    "#file_detail = \"RPKM\"\n",
    "#file_detail = \"FPKM\"\n",
    "#file_detail = \"Custom\"\n",
    "#file_detail = \"FASTQ\"\n",
    "#file_detail = \"Illumina BeadArray\"\n",
    "#file_detail = \"Illumina GA\"\n",
    "\n",
    "## Path to mapping file containing correspondance between Experiment Sample Accession and File Name\n",
    "mapping_file = \"placeholder/path/to/mapping_file\"\n",
    "\n",
    "## How are the fields separated in the mapping file?\n",
    "sep_mapping = \"\\t\"\n",
    "#sep_mapping = \",\"\n",
    "\n",
    "## Which column contains the experiment sample accession in the mapping file? Count starts at 1.\n",
    "exp_sample_acc_mapping = 1\n",
    "\n",
    "## Which column contains the filename in the mapping file? Count starts at 1.\n",
    "filename_mapping = 2\n",
    "\n",
    "## Does the mapping file contain a header line?\n",
    "mapping_header = True\n",
    "#mapping_header = False "
   ]
  },
  {
   "cell_type": "markdown",
   "metadata": {},
   "source": [
    "The following lines of code go through the mapping file to associate Experiment Sample Accession to corresponding file names."
   ]
  },
  {
   "cell_type": "code",
   "execution_count": null,
   "metadata": {
    "collapsed": true
   },
   "outputs": [],
   "source": [
    "## Set up empty\n",
    "file_info = {}\n",
    "file_names = {}\n",
    "no_mapping = []\n",
    "\n",
    "## Set up parameters:\n",
    "es_index = exp_sample_acc_mapping - 1\n",
    "filename_index = filename_mapping - 1\n",
    "\n",
    "## Path for output mapping file:\n",
    "output_path_file = os.path.split(mapping_file)[0]\n",
    "fid_mapping_filename = \"_\".join([sdy_acc, exp_acc, \"ES_ACC_2_FID.txt\"])\n",
    "fid_mapping_path = os.path.join(output_path_file, fid_mapping_filename)\n",
    "\n",
    "## Go through mapping file:\n",
    "try:\n",
    "    with open(mapping_file, \"r\") as mf:\n",
    "        if mapping_header:\n",
    "            mf.readline()\n",
    "        for line in mf:\n",
    "            es = line.strip().split(sep_mapping)[es_index]\n",
    "            filename = line.strip().split(sep_mapping)[filename_index]\n",
    "            file_names[filename] = es\n",
    "except:\n",
    "    print(\"Could not get information from the mapping file. Please check parameters above.\")\n",
    "    print(\"Given path for the mapping file was %s\" % (mapping_file))"
   ]
  },
  {
   "cell_type": "markdown",
   "metadata": {},
   "source": [
    "The following lines of code go through the database report and generate the file mapping Experiment Sample Accessions to File Info ID, based on filenames."
   ]
  },
  {
   "cell_type": "code",
   "execution_count": null,
   "metadata": {
    "collapsed": true
   },
   "outputs": [],
   "source": [
    "try:\n",
    "    ## Go through data base report\n",
    "    with open(upload_report, \"r\") as ur:\n",
    "        for line in ur:\n",
    "            if line.startswith(\"Stored in:file_info\"):\n",
    "                path1 = line.split()[4]\n",
    "                fid  = path1.split(\".\")[-2]\n",
    "                name = line.split()[3]\n",
    "                file_info[name] = fid\n",
    "\n",
    "    try:\n",
    "        ## Generate mapping file experiment sample - file info ID\n",
    "        with open(fid_mapping_path, \"w\") as fm:\n",
    "            for files in file_info:\n",
    "                if files in file_names:\n",
    "                    fm.write(\"\\t\".join([file_info[files], file_names[files], file_detail]) + \"\\n\")\n",
    "                else:\n",
    "                    no_mapping.append(files)\n",
    "        print(\"The file to associate File Info IDs to Experiment Sample Accession was generated:\")\n",
    "        print(fid_mapping_path)\n",
    "        if no_mapping:\n",
    "            print(\"The following files were uploaded but don't have a corresponding Experiment Sample Accession \\\n",
    "                    in the file provided:\")\n",
    "            print(\"\\n\".join(no_mapping))\n",
    "        \n",
    "    except:\n",
    "        print(\"The file mapping File Info ID to Experiment Sample Accession could not be generated.\")\n",
    "        print(\"Please check that the database report is the right one.\")\n",
    "\n",
    "except:\n",
    "    print(\"The database report could not be read. Please check the path above.\")"
   ]
  }
 ],
 "metadata": {
  "anaconda-cloud": {},
  "kernelspec": {
   "display_name": "Python [conda root]",
   "language": "python",
   "name": "conda-root-py"
  },
  "language_info": {
   "codemirror_mode": {
    "name": "ipython",
    "version": 3
   },
   "file_extension": ".py",
   "mimetype": "text/x-python",
   "name": "python",
   "nbconvert_exporter": "python",
   "pygments_lexer": "ipython3",
   "version": "3.5.2"
  }
 },
 "nbformat": 4,
 "nbformat_minor": 1
}
