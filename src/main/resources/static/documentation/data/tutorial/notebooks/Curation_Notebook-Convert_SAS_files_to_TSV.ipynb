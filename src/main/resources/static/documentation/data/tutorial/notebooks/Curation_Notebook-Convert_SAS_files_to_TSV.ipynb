{
 "cells": [
  {
   "cell_type": "markdown",
   "metadata": {},
   "source": [
    "*Quick reminder:* To run the code in a cell, either click on the \"play\" icon above, or press Shift+Enter. Cells can be run as many times as needed."
   ]
  },
  {
   "cell_type": "code",
   "execution_count": null,
   "metadata": {
    "collapsed": true
   },
   "outputs": [],
   "source": [
    "import os\n",
    "import pandas as pd\n",
    "from sas7bdat import SAS7BDAT"
   ]
  },
  {
   "cell_type": "markdown",
   "metadata": {},
   "source": [
    "# Convert SAS files to TSV files  \n",
    "<i><font size=2 color=\"grey\">Version 1.0, last modified September 2017<br>\n",
    "Python 3.6<br>\n",
    "Pandas 0.19.2<br>\n",
    "sas7bdat 2.0.7<br>\n",
    "</font></i>\n",
    "  \n",
    "  \n",
    "This notebook contains code to convert SAS files to tab-separated files.\n",
    "\n",
    "**<u>Expected input:</u>**  \n",
    "  \n",
    "Path to directory containing SAS files. <font color=\"red\"><strong>Caution: </strong></font>The following script will try to convert every \\*.sas7bdat file in the directory.  \n",
    "  \n",
    "**<u>Output:</u>**  \n",
    "\n",
    "Directory containing tab-separated versions of the SAS files. This directory will be created if it doesn't exist in the directory containing the SAS files.    \n",
    "  \n",
    "  \n",
    "**<u>Parameters:</u>**  \n",
    "<font color=\"DarkRed\"><strong>Please</strong></font> change the following parameters by commenting out or editing accordingly."
   ]
  },
  {
   "cell_type": "code",
   "execution_count": null,
   "metadata": {
    "collapsed": true
   },
   "outputs": [],
   "source": [
    "## Path to SAS files directory:\n",
    "path_to_sass = \"placeholder/path/to/files\"\n",
    "\n",
    "## Output directory:\n",
    "output_dir = \"sas_to_text\""
   ]
  },
  {
   "cell_type": "markdown",
   "metadata": {},
   "source": [
    "The following lines of code parse the content of the input directory and rty to convert each file to a tab-separated text file."
   ]
  },
  {
   "cell_type": "code",
   "execution_count": null,
   "metadata": {
    "collapsed": true
   },
   "outputs": [],
   "source": [
    "new_files = []\n",
    "\n",
    "## Create output directory if it doesn't exist:\n",
    "txt_files_path = os.path.join(path_to_sass, output_dir)\n",
    "os.makedirs(txt_files_path, exist_ok=True)\n",
    "\n",
    "## Loop through content of input directory:\n",
    "for root, dirs, files in os.walk(path_to_sass):\n",
    "    for ind_file in files:\n",
    "\n",
    "        ## For each file, check the extension, and only proceed if it is a sas7bdat file:\n",
    "        extension = ind_file.split(\".\")[-1]\n",
    "        if extension == 'sas7bdat':\n",
    "            text_filename = \".\".join([ind_file, \"txt\"])\n",
    "            full_filepath = os.path.join(root, ind_file)\n",
    "            full_txtpath = os.path.join(txt_files_path, text_filename)\n",
    "\n",
    "            ## Convert sas file:\n",
    "            try:\n",
    "                with SAS7BDAT(full_filepath) as f:\n",
    "                    df = f.to_data_frame()\n",
    "                df.to_csv(full_txtpath, sep=\"\\t\")\n",
    "                new_files.append(full_txtpath)\n",
    "            except:\n",
    "                print(\"%s could not be converted\\n\" % ind_file)\n",
    "                \n",
    "    ## Only checking the first level in the directory so can break the loop:\n",
    "    break\n",
    "    \n",
    "print(\"%s files were created in %s:\\n\" % (len(new_files), txt_files_path))\n",
    "print(\"\\n\".join(new_files))"
   ]
  }
 ],
 "metadata": {
  "anaconda-cloud": {},
  "kernelspec": {
   "display_name": "Python [conda root]",
   "language": "python",
   "name": "conda-root-py"
  },
  "language_info": {
   "codemirror_mode": {
    "name": "ipython",
    "version": 3
   },
   "file_extension": ".py",
   "mimetype": "text/x-python",
   "name": "python",
   "nbconvert_exporter": "python",
   "pygments_lexer": "ipython3",
   "version": "3.5.2"
  }
 },
 "nbformat": 4,
 "nbformat_minor": 1
}
