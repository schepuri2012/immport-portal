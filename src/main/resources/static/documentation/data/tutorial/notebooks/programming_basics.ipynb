{
 "cells": [
  {
   "cell_type": "markdown",
   "metadata": {},
   "source": [
    "# Programming Basics"
   ]
  },
  {
   "cell_type": "markdown",
   "metadata": {},
   "source": [
    "## Resources:  \n",
    "Learn more about Jupyter and Jupyter notebook: [this](https://www.datacamp.com/community/tutorials/tutorial-jupyter-notebook#gs.tDs09io) is a good place to start, and [this](http://jupyter-notebook.readthedocs.io/en/latest/notebook.html) is the actual documentation.     \n",
    "Exhaustive compilation of notebooks on various topics [here](https://github.com/jupyter/jupyter/wiki/A-gallery-of-interesting-Jupyter-Notebooks).  \n",
    "[Python Data Science Handbook](https://github.com/jakevdp/PythonDataScienceHandbook) - very good resource for data analysis with jupyter notebooks.\n",
    "\n",
    "\n",
    "\n",
    "## Python Programming Syntax  \n",
    "[PEP8](https://www.python.org/dev/peps/pep-0008/) Python standard  "
   ]
  },
  {
   "cell_type": "code",
   "execution_count": null,
   "metadata": {},
   "outputs": [],
   "source": [
    "# This is a comment. The '#' as the first character of the line tells the interpreter to skip the line.\n",
    "# Other programming languages might use something else than '#'\n",
    "# Comments are good to annotate what your code does, both for you and for whoever will read your code.\n",
    "# Commenting out a line can also be useful to test or troubleshoot.\n",
    "\n",
    "# Going back to our GFP worms example:\n",
    "\n",
    "green_worms = []  # this is also a comment\n",
    "for worm in all_worms_on_the_plate:\n",
    "    if all_worms_on_the_plate[worm]['color'] == 'green':\n",
    "        #print(\"found a green worm!\")\n",
    "        green_worms.append(worm)\n",
    "\n",
    "# Also notice that if you try to run the code above as is, it will throw errors. \n",
    "# hopefully by the end of this workshop, you will understand why."
   ]
  },
  {
   "cell_type": "markdown",
   "metadata": {},
   "source": [
    "## Python Data types  \n",
    "more info [here](https://docs.python.org/3/library/stdtypes.html) on standard types.  \n",
    "\n",
    "- Strings"
   ]
  },
  {
   "cell_type": "code",
   "execution_count": null,
   "metadata": {
    "collapsed": true
   },
   "outputs": [],
   "source": [
    "worm_species = \"C. remanei\""
   ]
  },
  {
   "cell_type": "markdown",
   "metadata": {},
   "source": [
    "- Numbers"
   ]
  },
  {
   "cell_type": "code",
   "execution_count": null,
   "metadata": {
    "collapsed": true
   },
   "outputs": [],
   "source": [
    "worm_dev_stage = 3"
   ]
  },
  {
   "cell_type": "markdown",
   "metadata": {},
   "source": [
    "- Lists"
   ]
  },
  {
   "cell_type": "code",
   "execution_count": null,
   "metadata": {
    "collapsed": true
   },
   "outputs": [],
   "source": [
    "green_worms = []"
   ]
  },
  {
   "cell_type": "markdown",
   "metadata": {},
   "source": [
    "- Dictionary"
   ]
  },
  {
   "cell_type": "code",
   "execution_count": null,
   "metadata": {
    "collapsed": true
   },
   "outputs": [],
   "source": [
    "all_worms_on_the_plate = {}"
   ]
  },
  {
   "cell_type": "markdown",
   "metadata": {},
   "source": [
    "- Tuple"
   ]
  },
  {
   "cell_type": "code",
   "execution_count": null,
   "metadata": {
    "collapsed": true
   },
   "outputs": [],
   "source": [
    "dev_stages = (\"E\", \"L1\", \"L2\", \"L3\", \"L4\", \"A\", \"D\")"
   ]
  },
  {
   "cell_type": "markdown",
   "metadata": {},
   "source": [
    "## Lists and Tuples"
   ]
  },
  {
   "cell_type": "code",
   "execution_count": null,
   "metadata": {
    "collapsed": true
   },
   "outputs": [],
   "source": [
    "empty_list = []\n",
    "empty_tuple = ()\n",
    "prime_numbers = [1, 3, 5, 7, 9, 11, 13, 17]\n",
    "primary_colors = (\"red\", \"green\", \"blue\")\n",
    "# set up variables so that the next example works:\n",
    "var1 = var2 = var3 = 1\n",
    "list_of_variables = [var1, var2, var3]\n",
    "\n",
    "prime_numbers[2]"
   ]
  },
  {
   "cell_type": "code",
   "execution_count": null,
   "metadata": {
    "collapsed": true
   },
   "outputs": [],
   "source": [
    "primary_colors[0]"
   ]
  },
  {
   "cell_type": "code",
   "execution_count": null,
   "metadata": {
    "collapsed": true
   },
   "outputs": [],
   "source": [
    "list_of_lists = [[1,2], [3,4], [5,6], [7,8]]\n",
    "misc_list = [1, [2,3], {4:5, 6:7}, (8,[9,10])]\n",
    "misc_tuple = (1, [2,3])\n",
    "\n",
    "list_of_lists[2][0]"
   ]
  },
  {
   "cell_type": "code",
   "execution_count": null,
   "metadata": {
    "collapsed": true
   },
   "outputs": [],
   "source": [
    "misc_list[2][4]"
   ]
  },
  {
   "cell_type": "markdown",
   "metadata": {},
   "source": [
    "## Dictionaries"
   ]
  },
  {
   "cell_type": "code",
   "execution_count": null,
   "metadata": {
    "collapsed": true
   },
   "outputs": [],
   "source": [
    "empty_dict = {}\n",
    "snp_per_position = {\n",
    "    1013340 : \"A\",\n",
    "    1298347 : \"C\",\n",
    "    2348893 : \"A\"\n",
    "}\n",
    "\n",
    "snp_per_position[1298347]"
   ]
  },
  {
   "cell_type": "code",
   "execution_count": null,
   "metadata": {
    "collapsed": true
   },
   "outputs": [],
   "source": [
    "dict_of_lists = {\n",
    "    \"wormA\" : [\"dpy\",\"unc\",\"fem\"],\n",
    "    \"wormB\" : [\"gfp\",\"dpy\"],\n",
    "    \"wormC\" : [\"dpy\",\"unc\"]\n",
    "}\n",
    "\n",
    "dict_of_lists[\"wormB\"][0]"
   ]
  },
  {
   "cell_type": "code",
   "execution_count": null,
   "metadata": {
    "collapsed": true
   },
   "outputs": [],
   "source": [
    "dict_of_dicts = {\n",
    "    \"worm1\": {\n",
    "        \"sex\" : \"ND\",\n",
    "        \"dev_stage\" : 1,\n",
    "        \"GFP\" : False,\n",
    "        \"conditions\" : (\"20C\", \"OP50\") \n",
    "    },\n",
    "    \"worm2\": {\n",
    "        \"sex\" : \"ND\",\n",
    "        \"dev_stage\" : 2,\n",
    "        \"GFP\" : True,\n",
    "        \"conditions\" : (\"20C\", \"OP50\") \n",
    "    }\n",
    "}\n",
    "\n",
    "dict_of_dicts[\"worm1\"][\"sex\"]"
   ]
  },
  {
   "cell_type": "code",
   "execution_count": null,
   "metadata": {
    "collapsed": true
   },
   "outputs": [],
   "source": [
    "dict_of_dicts[\"worm2\"][\"conditions\"][0]"
   ]
  },
  {
   "cell_type": "markdown",
   "metadata": {},
   "source": [
    "[list](https://docs.python.org/3/reference/lexical_analysis.html\n",
    ") of reserved words."
   ]
  },
  {
   "cell_type": "markdown",
   "metadata": {},
   "source": [
    "## Functions  \n",
    "List of Python [built-in functions](https://docs.python.org/3/library/functions.html)  "
   ]
  },
  {
   "cell_type": "code",
   "execution_count": null,
   "metadata": {
    "collapsed": true
   },
   "outputs": [],
   "source": [
    "print(worm_species)"
   ]
  },
  {
   "cell_type": "code",
   "execution_count": null,
   "metadata": {
    "collapsed": true
   },
   "outputs": [],
   "source": [
    "def new_function(data):\n",
    "    # do something to data\n",
    "    # call it new data\n",
    "    new_data = data + 1\n",
    "    return new_data\n",
    "\n",
    "my_data = 3\n",
    "my_new_data = new_function(my_data)\n",
    "my_new_data"
   ]
  },
  {
   "cell_type": "markdown",
   "metadata": {},
   "source": [
    "## Variable Scope  \n",
    "good explanation [here](http://python-textbok.readthedocs.io/en/1.0/Variables_and_Scope.html#variable-scope-and-lifetime)"
   ]
  },
  {
   "cell_type": "code",
   "execution_count": null,
   "metadata": {
    "collapsed": true
   },
   "outputs": [],
   "source": [
    "a = 0\n",
    "def do_stuff(b):\n",
    "    c = b + 3\n",
    "    print(a + \" is defined here too!\")\n",
    "    return(c)\n",
    "print(a)\n",
    "print(b)\n",
    "print(c)"
   ]
  },
  {
   "cell_type": "code",
   "execution_count": null,
   "metadata": {
    "collapsed": true
   },
   "outputs": [],
   "source": [
    "aa = 0\n",
    "def do_something_else(bb):\n",
    "    aa = 3\n",
    "    print(aa + \" inside function\")\n",
    "\n",
    "print(aa + \" outside function\")"
   ]
  },
  {
   "cell_type": "markdown",
   "metadata": {},
   "source": [
    "## Modules  \n",
    "Some useful modules listed [here](https://wiki.python.org/moin/UsefulModules)   \n",
    "Python's [page](https://docs.python.org/3/tutorial/modules.html) on modules and packages   \n",
    "[Python Standard Library](https://docs.python.org/3/library/)  \n",
    "[Python Package Index](https://pypi.python.org/pypi)"
   ]
  },
  {
   "cell_type": "code",
   "execution_count": null,
   "metadata": {
    "collapsed": true
   },
   "outputs": [],
   "source": [
    "import package_name\n",
    "package_name.some_function()"
   ]
  },
  {
   "cell_type": "code",
   "execution_count": null,
   "metadata": {
    "collapsed": true
   },
   "outputs": [],
   "source": [
    "import package_name as pn\n",
    "pn.some_function()"
   ]
  },
  {
   "cell_type": "code",
   "execution_count": null,
   "metadata": {
    "collapsed": true
   },
   "outputs": [],
   "source": [
    "from package_name import some_function\n",
    "some_function()\n",
    "# avoid this:\n",
    "from package_name import *"
   ]
  },
  {
   "cell_type": "markdown",
   "metadata": {},
   "source": [
    "## Objects"
   ]
  },
  {
   "cell_type": "code",
   "execution_count": null,
   "metadata": {
    "collapsed": true
   },
   "outputs": [],
   "source": [
    "class Worm:\n",
    "    def __init__(self, name):\n",
    "        self.name = name\n",
    "        self.sister_sp = []\n",
    "        self.state = \"hungry\"\n",
    "        \n",
    "    def eat(self, food):\n",
    "        if food == 'OP-50':\n",
    "            self.state = \"happy\"\n",
    "        else:\n",
    "            self.state = \"grumpy\"\n",
    "            \n",
    "    def enter_dauer(self):\n",
    "        self.state = \"staaaaaarving\"\n",
    "        \n",
    "    def assessment(self):\n",
    "        print(\"I'm \" + self.state)"
   ]
  },
  {
   "cell_type": "code",
   "execution_count": null,
   "metadata": {
    "collapsed": true
   },
   "outputs": [],
   "source": [
    "harry = Worm(\"C. elegans\")"
   ]
  },
  {
   "cell_type": "code",
   "execution_count": null,
   "metadata": {
    "collapsed": true
   },
   "outputs": [],
   "source": [
    "harry.assessment()"
   ]
  },
  {
   "cell_type": "code",
   "execution_count": null,
   "metadata": {
    "collapsed": true
   },
   "outputs": [],
   "source": [
    "harry.eat(\"salad\")\n",
    "harry.assessment()"
   ]
  },
  {
   "cell_type": "code",
   "execution_count": null,
   "metadata": {
    "collapsed": true
   },
   "outputs": [],
   "source": [
    "harry.enter_dauer()\n",
    "harry.assessment()"
   ]
  },
  {
   "cell_type": "code",
   "execution_count": null,
   "metadata": {
    "collapsed": true
   },
   "outputs": [],
   "source": [
    "harry.eat(\"OP-50\")\n",
    "harry.assessment()"
   ]
  },
  {
   "cell_type": "code",
   "execution_count": null,
   "metadata": {
    "collapsed": true
   },
   "outputs": [],
   "source": [
    "print(harry.sister_sp)"
   ]
  },
  {
   "cell_type": "code",
   "execution_count": null,
   "metadata": {
    "collapsed": true
   },
   "outputs": [],
   "source": [
    "harry.sister_sp.append(\"C. briggsae\")\n",
    "print(harry.sister_sp)"
   ]
  },
  {
   "cell_type": "code",
   "execution_count": null,
   "metadata": {
    "collapsed": true
   },
   "outputs": [],
   "source": [
    "sally = Worm(\"C. elegans\")\n",
    "print(sally.sister_sp)"
   ]
  },
  {
   "cell_type": "markdown",
   "metadata": {},
   "source": [
    "## Numbers  \n",
    "Python [blurb](https://docs.python.org/3/library/stdtypes.html#numeric-types-int-float-complex)'s on numeric types "
   ]
  },
  {
   "cell_type": "code",
   "execution_count": null,
   "metadata": {
    "collapsed": true
   },
   "outputs": [],
   "source": [
    "int(3.8)"
   ]
  },
  {
   "cell_type": "code",
   "execution_count": null,
   "metadata": {
    "collapsed": true
   },
   "outputs": [],
   "source": [
    "float(3)"
   ]
  },
  {
   "cell_type": "markdown",
   "metadata": {},
   "source": [
    "## Strings  \n",
    "Python [list](https://docs.python.org/3/library/stdtypes.html#str) of string methods"
   ]
  },
  {
   "cell_type": "code",
   "execution_count": null,
   "metadata": {
    "collapsed": true
   },
   "outputs": [],
   "source": [
    "my_line = \" a simple example \"\n",
    "my_line"
   ]
  },
  {
   "cell_type": "code",
   "execution_count": null,
   "metadata": {
    "collapsed": true
   },
   "outputs": [],
   "source": [
    "new_line1 = my_line.strip()\n",
    "new_line1"
   ]
  },
  {
   "cell_type": "code",
   "execution_count": null,
   "metadata": {
    "collapsed": true
   },
   "outputs": [],
   "source": [
    "new_line2 = my_line.split()\n",
    "new_line2"
   ]
  },
  {
   "cell_type": "code",
   "execution_count": null,
   "metadata": {
    "collapsed": true
   },
   "outputs": [],
   "source": [
    "\"-\".join(new_line2)"
   ]
  },
  {
   "cell_type": "code",
   "execution_count": null,
   "metadata": {
    "collapsed": true
   },
   "outputs": [],
   "source": [
    "if new_line1.startswith('a'):\n",
    "    print('yay!')"
   ]
  },
  {
   "cell_type": "markdown",
   "metadata": {},
   "source": [
    "## Loops\n",
    "Python [doc](https://docs.python.org/3/reference/compound_stmts.html) on loops and conditional statements  "
   ]
  },
  {
   "cell_type": "code",
   "execution_count": null,
   "metadata": {
    "collapsed": true
   },
   "outputs": [],
   "source": [
    "for i in range(0, 10):\n",
    "    print(i)"
   ]
  },
  {
   "cell_type": "code",
   "execution_count": null,
   "metadata": {
    "collapsed": true
   },
   "outputs": [],
   "source": [
    "for letters in 'bananas':\n",
    "    print(letters)"
   ]
  },
  {
   "cell_type": "code",
   "execution_count": null,
   "metadata": {
    "collapsed": true
   },
   "outputs": [],
   "source": [
    "for colors in primary_colors:\n",
    "    print(colors)"
   ]
  },
  {
   "cell_type": "code",
   "execution_count": null,
   "metadata": {
    "collapsed": true
   },
   "outputs": [],
   "source": [
    "for j in range(0, len(prime_numbers)):\n",
    "    print(prime_numbers[j])"
   ]
  },
  {
   "cell_type": "code",
   "execution_count": null,
   "metadata": {
    "collapsed": true
   },
   "outputs": [],
   "source": [
    "for index, element in enumerate(primary_colors):\n",
    "    print(index, element, sep=\"\\t\")"
   ]
  },
  {
   "cell_type": "code",
   "execution_count": null,
   "metadata": {
    "collapsed": true
   },
   "outputs": [],
   "source": [
    "for word in some_dictionary:\n",
    "    print(word, some_dictionary[word], sep=\"\\t\")"
   ]
  },
  {
   "cell_type": "markdown",
   "metadata": {},
   "source": [
    "## Conditional Statements"
   ]
  },
  {
   "cell_type": "code",
   "execution_count": null,
   "metadata": {
    "collapsed": true
   },
   "outputs": [],
   "source": [
    "if i == 0:\n",
    "    print(\"i is null\")\n",
    "elif i == 1:\n",
    "    print(\"i is 1\")\n",
    "elif i > 1:\n",
    "    print(\"i is positive\")\n",
    "else:\n",
    "    print(\"i is negative. Or between 0 and 1\")"
   ]
  },
  {
   "cell_type": "code",
   "execution_count": null,
   "metadata": {
    "collapsed": true
   },
   "outputs": [],
   "source": [
    "if carrots:\n",
    "    print(\"let's make a salad\")\n",
    "else:\n",
    "    print(\"where is the rabbit?\")"
   ]
  },
  {
   "cell_type": "code",
   "execution_count": null,
   "metadata": {
    "collapsed": true
   },
   "outputs": [],
   "source": [
    "color = \"red\"\n",
    "if color in primary_colors:\n",
    "    print(color + \" is a primary color\")"
   ]
  },
  {
   "cell_type": "code",
   "execution_count": null,
   "metadata": {
    "collapsed": true
   },
   "outputs": [],
   "source": [
    "if color not in primary_colors:\n",
    "    print(color + \" is not a primary color\")"
   ]
  },
  {
   "cell_type": "markdown",
   "metadata": {},
   "source": [
    "## Standard data management in Python  \n",
    "### I/O operations  \n",
    "python [docs](https://docs.python.org/3.5/tutorial/inputoutput.html)  \n",
    "    \n",
    "### Regular expression  \n",
    "re module [doc](https://docs.python.org/3/library/re.html)  \n",
    "python regex [cheat sheet](https://www.debuggex.com/cheatsheet/regex/python)  \n",
    "regular expression [validator](http://www.pyregex.com/)  \n"
   ]
  },
  {
   "cell_type": "code",
   "execution_count": null,
   "metadata": {
    "collapsed": true
   },
   "outputs": [],
   "source": [
    "my_file_from_input = input(\"What file do you want to use? \")"
   ]
  },
  {
   "cell_type": "code",
   "execution_count": null,
   "metadata": {
    "collapsed": true
   },
   "outputs": [],
   "source": [
    "my_file = \"/Users/thomascg/Desktop/immport_workshop/SDY212-DR20_Tab/Tab/subject.txt\""
   ]
  },
  {
   "cell_type": "code",
   "execution_count": null,
   "metadata": {
    "collapsed": true
   },
   "outputs": [],
   "source": [
    "with open(my_file, 'r') as f:\n",
    "    first_line = f.readline().strip()\n",
    "    headings = first_line.split(\"\\t\")\n",
    "    print(headings)\n",
    "    \n",
    "    sex_ratio = {'M':0, 'F':0, 'O':0}\n",
    "    div = {'M':[], 'F':[], 'O':[]}\n",
    "    for line in f:\n",
    "        line_content = line.strip().split(\"\\t\")\n",
    "        if line_content[4].startswith('M'):\n",
    "            sex_ratio['M'] += 1\n",
    "            div['M'].append(line_content[5])\n",
    "        elif line_content[4].startswith('F'):\n",
    "            sex_ratio['F'] += 1\n",
    "            div['F'].append(line_content[5])\n",
    "        else:\n",
    "            sex_ratio['O'] += 1\n",
    "            div['O'].append(line_content[5])\n"
   ]
  },
  {
   "cell_type": "code",
   "execution_count": null,
   "metadata": {
    "collapsed": true
   },
   "outputs": [],
   "source": [
    "output_file = \"./SDY212-DR20_Tab/Tab/diversity_analysis.txt\"\n",
    "with open(output_file, 'w') as outf:\n",
    "    outf.write(\"GENDER\\tRACES\\tCOUNTS\\n\")\n",
    "    for gender in sex_ratio:\n",
    "        diversity = set(div[gender])\n",
    "        line_to_write = \"\\t\".join([gender, \n",
    "                                   str(diversity), \n",
    "                                   str(sex_ratio[gender])])\n",
    "        outf.write(line_to_write + \"\\n\")"
   ]
  },
  {
   "cell_type": "markdown",
   "metadata": {},
   "source": [
    "## Debugging resources  \n",
    "[here](http://www.blog.pythonlibrary.org/2012/09/12/python-101-exception-handling/) and [here](https://doughellmann.com/blog/2009/06/19/python-exception-handling-techniques/)\n"
   ]
  },
  {
   "cell_type": "code",
   "execution_count": null,
   "metadata": {
    "collapsed": true
   },
   "outputs": [],
   "source": [
    "print p[k]"
   ]
  },
  {
   "cell_type": "code",
   "execution_count": null,
   "metadata": {
    "collapsed": true
   },
   "outputs": [],
   "source": [
    "print(p[k])"
   ]
  },
  {
   "cell_type": "markdown",
   "metadata": {
    "collapsed": true
   },
   "source": [
    "## More resources  \n",
    "hardcoding [discussion](http://softwareengineering.stackexchange.com/questions/67982/is-it-ever-a-good-idea-to-hardcode-values-into-our-applications)  \n"
   ]
  }
 ],
 "metadata": {
  "anaconda-cloud": {},
  "kernelspec": {
   "display_name": "Python [default]",
   "language": "python",
   "name": "python3"
  },
  "language_info": {
   "codemirror_mode": {
    "name": "ipython",
    "version": 3
   },
   "file_extension": ".py",
   "mimetype": "text/x-python",
   "name": "python",
   "nbconvert_exporter": "python",
   "pygments_lexer": "ipython3",
   "version": "3.5.2"
  }
 },
 "nbformat": 4,
 "nbformat_minor": 1
}
