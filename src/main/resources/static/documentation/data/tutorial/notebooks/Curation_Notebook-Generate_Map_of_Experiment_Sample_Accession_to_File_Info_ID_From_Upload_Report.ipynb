{
 "cells": [
  {
   "cell_type": "markdown",
   "metadata": {},
   "source": [
    "*Quick reminder:* To run the code in a cell, either click on the \"play\" icon above, or press Shift+Enter. Cells can be run as many times as needed."
   ]
  },
  {
   "cell_type": "code",
   "execution_count": null,
   "metadata": {
    "collapsed": true
   },
   "outputs": [],
   "source": [
    "import os"
   ]
  },
  {
   "cell_type": "markdown",
   "metadata": {},
   "source": [
    "# Generate File for Move Archive Tool From Upload Database Report\n",
    "<i><font size=2 color=\"grey\">Version 1.0, last modified September 2017<br>\n",
    "Python 3.6<br>\n",
    "</font></i>\n",
    "  \n",
    "  \n",
    "This notebook contains code to generate the file required by the 'Move Archive tool' -- to associate archived files with experiment sample accessions.    \n",
    "\n",
    "**<u>Expected input:</u>**  \n",
    "  \n",
    "Database upload report received after upload of the files to move. <strong>Experiment sample accessions <font color=\"red\">MUST</font> be included in the filenames</strong>.  \n",
    "  \n",
    "**<u>Output:</u>**  \n",
    "\n",
    "Mapping file, SDYacc_EXPacces_ES_ACC_2_FID.txt, in directory containing the upload report.   \n",
    "  \n",
    "**<u>Parameters:</u>**  \n",
    "<font color=\"DarkRed\"><strong>Please</strong></font> change the following parameters by commenting out or editing accordingly."
   ]
  },
  {
   "cell_type": "code",
   "execution_count": null,
   "metadata": {
    "collapsed": true
   },
   "outputs": [],
   "source": [
    "## Study accession:\n",
    "sdy_acc = \"SDYxxx\"\n",
    "\n",
    "## Experiment accession:\n",
    "exp_acc = \"EXPxxxxx\"\n",
    "\n",
    "## Path to upload database report -- this is the file in the confirmation email of successful upload\n",
    "upload_report = \"placeholder/path/to/upload_report/ImmPort.report.Database.xxxx.txt\"\n",
    "\n",
    "## What value to use for file detail?\n",
    "file_detail = \"Custom assay result\"\n",
    "#file_detail = \"Gene expression result\"\n",
    "#file_detail = \"RNA sequencing result\"\n",
    "#file_detail = \"Genotyping result\"\n",
    "#file_detail = \"TPM\"\n",
    "#file_detail = \"RPKM\"\n",
    "#file_detail = \"FPKM\"\n",
    "#file_detail = \"Custom\"\n",
    "#file_detail = \"FASTQ\"\n",
    "#file_detail = \"Illumina BeadArray\"\n",
    "#file_detail = \"Illumina GA\"\n",
    "\n",
    "## How is the Experiment Sample Accession isolated from the rest of the filename?\n",
    "sep_es = \"_\"\n",
    "#sep_es = \"-\"\n",
    "#sep_es = \".\"\n",
    "\n",
    "## Which field (as separated by 'sep_es' above) contains the Experiment Sample Accession in the filename? \n",
    "## Count starts at 1:\n",
    "es_index = 3"
   ]
  },
  {
   "cell_type": "markdown",
   "metadata": {},
   "source": [
    "The following lines of code go through the database report and generate the file mapping Experiment Sample Accessions to File Info ID, assuming the filename contains the Experiment Sample Accession."
   ]
  },
  {
   "cell_type": "code",
   "execution_count": null,
   "metadata": {
    "collapsed": true
   },
   "outputs": [],
   "source": [
    "## Set up empty\n",
    "file_info = {}\n",
    "no_mapping = []\n",
    "\n",
    "## Set up parameters:\n",
    "es_idx = es_index - 1\n",
    "\n",
    "## Path for output mapping file:\n",
    "output_path_file = os.path.split(upload_report)[0]\n",
    "fid_mapping_filename = \"_\".join([sdy_acc, exp_acc, \"ES_ACC_2_FID.txt\"])\n",
    "fid_mapping_path = os.path.join(output_path_file, fid_mapping_filename)\n",
    "\n",
    "try:\n",
    "    ## Go through data base report\n",
    "    with open(upload_report, \"r\") as ur:\n",
    "        for line in ur:\n",
    "            if line.startswith(\"Stored in:file_info\"):\n",
    "                path1 = line.split()[4]\n",
    "                fid  = path1.split(\".\")[-2]\n",
    "                name = line.split()[3]\n",
    "                exp_sam_acc = name.split(sep_es)[es_idx]\n",
    "                file_info[exp_sam_acc] = fid\n",
    "\n",
    "    try:\n",
    "        ## Generate mapping file experiment sample - file info ID\n",
    "        with open(fid_mapping_path, \"w\") as fm:\n",
    "            for es_acc in file_info:\n",
    "                fm.write(\"\\t\".join([file_info[es_acc], es_acc, file_detail]) + \"\\n\")\n",
    "        print(\"The file to associate File Info IDs to Experiment Sample Accession was generated:\")\n",
    "        print(fid_mapping_path)\n",
    "        \n",
    "    except:\n",
    "        print(\"The file mapping File Info ID to Experiment Sample Accession could not be generated.\")\n",
    "        print(\"Please check that the database report is the right one.\")\n",
    "\n",
    "except:\n",
    "    print(\"The database report could not be read. Please check the path above.\")"
   ]
  }
 ],
 "metadata": {
  "anaconda-cloud": {},
  "kernelspec": {
   "display_name": "Python [conda root]",
   "language": "python",
   "name": "conda-root-py"
  },
  "language_info": {
   "codemirror_mode": {
    "name": "ipython",
    "version": 3
   },
   "file_extension": ".py",
   "mimetype": "text/x-python",
   "name": "python",
   "nbconvert_exporter": "python",
   "pygments_lexer": "ipython3",
   "version": "3.5.2"
  }
 },
 "nbformat": 4,
 "nbformat_minor": 1
}
