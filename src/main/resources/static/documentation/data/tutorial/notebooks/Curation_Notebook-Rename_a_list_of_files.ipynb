{
 "cells": [
  {
   "cell_type": "markdown",
   "metadata": {},
   "source": [
    "*Quick reminder:* To run the code in a cell, either click on the \"play\" icon above, or press Shift+Enter. Cells can be run as many times as needed."
   ]
  },
  {
   "cell_type": "code",
   "execution_count": null,
   "metadata": {
    "collapsed": true
   },
   "outputs": [],
   "source": [
    "import os\n",
    "import shutil"
   ]
  },
  {
   "cell_type": "markdown",
   "metadata": {},
   "source": [
    "# Rename Files\n",
    "<i><font size=2 color=\"grey\">Version 1.0, last modified September 2017<br>\n",
    "Python 3.6<br>\n",
    "</font></i> \n",
    "  \n",
    "  \n",
    "This notebook contains code to rename a list of files.\n",
    "\n",
    "**<u>Expected input:</u>**  \n",
    "  \n",
    "Text file containing list of files to rename and new names. Lists are expected in **columns**.\n",
    "  \n",
    "**<u>Output:</u>**  \n",
    "  \n",
    "Directory containing renamed files. The output directory will be created if it doesn't exist in the directory where files to rename are located.  \n",
    "  \n",
    "**<u>Parameters:</u>**  \n",
    "<font color=\"DarkRed\"><strong>Please</strong></font> change the following parameters by commenting out or editing accordingly."
   ]
  },
  {
   "cell_type": "code",
   "execution_count": null,
   "metadata": {
    "collapsed": true
   },
   "outputs": [],
   "source": [
    "## Path to file containing the old and new filenames:\n",
    "mapping_old_new = \"placeholder/path/to/list_of_files\"\n",
    "\n",
    "## Path to directory containing files to rename:\n",
    "dir_files = \"placeholder/path/to/files\"\n",
    "\n",
    "## Is the first line of the file the column headers?\n",
    "headers = True\n",
    "#headers = False\n",
    "\n",
    "## Which column contains the original filenames? Count starts at 1.\n",
    "old_names = 1\n",
    "\n",
    "## Which column contains the new file names? Count starts at 1.\n",
    "new_names = 2\n",
    "\n",
    "## How are the columns separated?\n",
    "sep = \"\\t\"\n",
    "#sep = \",\"\n",
    "\n",
    "## Output directory name:\n",
    "output_dir = \"renamed_files\""
   ]
  },
  {
   "cell_type": "markdown",
   "metadata": {},
   "source": [
    "The following lines of code parse the list of files, and copies them over to the output directory under their new names."
   ]
  },
  {
   "cell_type": "code",
   "execution_count": null,
   "metadata": {
    "collapsed": true
   },
   "outputs": [],
   "source": [
    "## Create output directory if it doesn't exist:\n",
    "renamed_files_path = os.path.join(dir_files, output_dir)\n",
    "os.makedirs(renamed_files_path, exist_ok=True)\n",
    "\n",
    "## Set parameters\n",
    "old_idx = old_names - 1\n",
    "new_idx = new_names - 1\n",
    "\n",
    "## read in mapping file\n",
    "try:\n",
    "    with open(mapping_old_new, \"r\") as f:\n",
    "        if headers:\n",
    "            f.readline()\n",
    "        for line in f:\n",
    "            old = line.strip().split(sep)[old_idx]\n",
    "            new = line.strip().split(sep)[new_idx]\n",
    "            old_path = os.path.join(dir_files, old.strip(\"\\\"\"))\n",
    "            new_path = os.path.join(dir_files, output_dir, new.strip(\"\\\"\"))\n",
    "            try:\n",
    "                shutil.copyfile(old_path, new_path)\n",
    "            except:\n",
    "                print(\"Please check path to file %s in mapping file.\\n\" % new.strip(\"\\\"\"))\n",
    "except:\n",
    "    print(\"Please check path to mapping file in parameters above.\")     "
   ]
  }
 ],
 "metadata": {
  "anaconda-cloud": {},
  "kernelspec": {
   "display_name": "Python [conda root]",
   "language": "python",
   "name": "conda-root-py"
  },
  "language_info": {
   "codemirror_mode": {
    "name": "ipython",
    "version": 3
   },
   "file_extension": ".py",
   "mimetype": "text/x-python",
   "name": "python",
   "nbconvert_exporter": "python",
   "pygments_lexer": "ipython3",
   "version": "3.5.2"
  }
 },
 "nbformat": 4,
 "nbformat_minor": 1
}
