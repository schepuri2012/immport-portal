{
 "cells": [
  {
   "cell_type": "markdown",
   "metadata": {},
   "source": [
    "*Quick reminder:* To run the code in a cell, either click on the \"play\" icon above, or press Shift+Enter. Cells can be run as many times as needed."
   ]
  },
  {
   "cell_type": "code",
   "execution_count": null,
   "metadata": {
    "collapsed": true
   },
   "outputs": [],
   "source": [
    "import pandas as pd"
   ]
  },
  {
   "cell_type": "markdown",
   "metadata": {},
   "source": [
    "# Compare Lists  \n",
    "<i><font size=2 color=\"grey\">Version 1.0, last modified September 2017<br>\n",
    "Python 3.6<br> \n",
    "Pandas 0.19.2<br>    \n",
    "</font></i>\n",
    "  \n",
    "  \n",
    "This notebook contains code to compare two lists.\n",
    "\n",
    "**<u>Expected input:</u>**  \n",
    "  \n",
    "one or two text files containing lists to compare. Lists are expected in **columns**.\n",
    "  \n",
    "**<u>Output:</u>**  \n",
    "- Number of element in each list\n",
    "- Elements appearing in only one of the lists.  \n",
    "  \n",
    "  \n",
    "**<u>Parameters:</u>**  \n",
    "<font color=\"DarkRed\"><strong>Please</strong></font> change the following parameters by commenting out or editing accordingly."
   ]
  },
  {
   "cell_type": "code",
   "execution_count": null,
   "metadata": {
    "collapsed": true
   },
   "outputs": [],
   "source": [
    "## Lists contained in one or two separate files? By default, in one file\n",
    "one_file_input = True\n",
    "#one_file_input = False\n",
    "\n",
    "file1 = \"placeholder/path/to/file1\"\n",
    "#file2 = \"placeholder/path/to/file2\"\n",
    "\n",
    "## Is the first line of the file the column headers?\n",
    "## for file 1:\n",
    "headers1 = True\n",
    "#headers1 = False\n",
    "## for file 2:\n",
    "headers2 = True\n",
    "#headers2 = False\n",
    "\n",
    "## Which column is list 1 in? Count starts at 1.\n",
    "input1_col = 1\n",
    "\n",
    "## Which column is list 2 in? Count starts at 1.\n",
    "input2_col = 2\n",
    "\n",
    "## Is file 1 tab or comma separated?\n",
    "file1_format = \"tsv\"\n",
    "#file1_format = \"csv\"\n",
    "\n",
    "## Is file 2 tab or comma separated?\n",
    "file2_format = \"tsv\"\n",
    "#file2_format = \"csv\""
   ]
  },
  {
   "cell_type": "markdown",
   "metadata": {},
   "source": [
    "The following lines of code extract the two lists from the file(s) indicated above."
   ]
  },
  {
   "cell_type": "code",
   "execution_count": null,
   "metadata": {
    "collapsed": true
   },
   "outputs": [],
   "source": [
    "## Define empty lists:\n",
    "list1 = []\n",
    "list2 = []\n",
    "\n",
    "## Set up parameters:\n",
    "read_fctns = {\"tsv\" : pd.read_table, \"csv\": pd.read_csv}\n",
    "head1 = None\n",
    "head2 = None\n",
    "if (headers1):\n",
    "    head1 = 0\n",
    "if (headers2):\n",
    "    head2 = 0\n",
    "\n",
    "## Read in first file:\n",
    "try:\n",
    "    df1 = read_fctns[file1_format](file1, header=head1)\n",
    "    ## Get first list:\n",
    "    list1 = df1.iloc[:,input1_col]\n",
    "\n",
    "    ## If there is only one input file, get second list from it:\n",
    "    if one_file_input:\n",
    "        list2 = df1.iloc[:,input2_col]\n",
    "    ## Otherwise, open second file and get second list:\n",
    "    else:\n",
    "        try:\n",
    "            df2 = read_fctns[file2_format](file2, header=head2)\n",
    "            list2 = df2.iloc[:,input2_col]\n",
    "        except:\n",
    "            print(\"Please check path and/or file format for file 2 in parameters above.\")\n",
    "except:\n",
    "    print(\"Please check path and/or file format for file 1 in parameters above.\")     "
   ]
  },
  {
   "cell_type": "markdown",
   "metadata": {},
   "source": [
    "Lists comparison:"
   ]
  },
  {
   "cell_type": "code",
   "execution_count": null,
   "metadata": {
    "collapsed": true
   },
   "outputs": [],
   "source": [
    "print(\"List 1 contains %s elements, List 2 contains %s.\" % (len(set(list1)), len(set(list2))))\n",
    "unique_to_list1 = []\n",
    "unique_to_list2 = []\n",
    "for element1 in set(list1):\n",
    "    if element1 not in set(list2):\n",
    "        unique_to_list1.append(element1)\n",
    "for element2 in set(list2):\n",
    "    if element2 not in set(list1):\n",
    "        unique_to_list2.append(element2)\n",
    "        \n",
    "if unique_to_list1:\n",
    "    print(\"The following are unique to List 1:\\n\")\n",
    "    print(\"\\n\".join(unique_to_list1) + \"\\n\")\n",
    "if unique_to_list2:\n",
    "    print(\"The following are unique to List 2:\\n\")\n",
    "    print(\"\\n\".join(unique_to_list2) + \"\\n\")"
   ]
  }
 ],
 "metadata": {
  "anaconda-cloud": {},
  "kernelspec": {
   "display_name": "Python [conda root]",
   "language": "python",
   "name": "conda-root-py"
  },
  "language_info": {
   "codemirror_mode": {
    "name": "ipython",
    "version": 3
   },
   "file_extension": ".py",
   "mimetype": "text/x-python",
   "name": "python",
   "nbconvert_exporter": "python",
   "pygments_lexer": "ipython3",
   "version": "3.5.2"
  }
 },
 "nbformat": 4,
 "nbformat_minor": 1
}
