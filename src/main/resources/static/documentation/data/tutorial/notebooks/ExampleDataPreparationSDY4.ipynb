{
 "cells": [
  {
   "cell_type": "markdown",
   "metadata": {},
   "source": [
    "# Example of Data Preparation Using SDY4\n",
    "<i><font size=2 color=\"grey\">Version 1.0, last modified November 2017<br>\n",
    "Python 3.6<br>\n",
    "pandas 0.21.0<br>\n",
    "seaborn 0.8.1<br>\n",
    "matplotlib 2.1.0<br>\n",
    "</font></i> \n",
    "  \n",
    "This is a tutorial on using Python tools to prepare ImmPort study information for analysis. This tutorial should NOT be considered as a real scientific analysis, but is ONLY intended to show how be prepare data for real analysis. This tutorial will use SDY4 as the example study, but we will download all ALLSTUDIES package, to show\n",
    "how you can extract individual studies for analysis. If you are only interested in the analysis of one specific\n",
    "study, individual download packages are available.\n",
    "\n",
    "This tutorial concentrates on how to prepare the lab test and assessments information for analysis. The download\n",
    "packages contain many more types of data that you can explore. The data in the ALLSTUDIES package was extraced\n",
    "from a MySQL database and the content of each file in the ALLSTUDIES package contains the data from a table.\n",
    "An overview of the ImmPort data model is available [here](http://www.immport.org/immport-open/public/schema/schemaTree), the table definitions are available [here](http://www.immport.org/immport-open/public/schema/schemaDefinition/study), and the ER diagrams are available [here](http://www.immport.org/immport-open/public/schema/schemaDiagram/AllTables)\n",
    "\n",
    "\n",
    "For this analysis we will start by creating a top level directory named ALLSTUDIES. Below the ALLSTUDIES directory three directories where created: data, downloads and notebooks. The ALLSTUDIES_DR24_Tab.zip file was downloaded from the ImmPort Data Browser [web site](https://aspera-immport.niaid.nih.gov:9443) to the **downloads** directory.\n",
    "\n",
    "The following commands were used to unzip and move the contents to the **data** directory\n",
    "\n",
    "```shell\n",
    "cd downloads\n",
    "unzip ALLSTUDIES_DR24_Tab.zip\n",
    "cd ALLSTUDES-DR24_Tab/Tab\n",
    "mv * ../../../data\n",
    "```\n",
    "\n",
    "To start the Jupyter Notebook the following commands were used.\n",
    "\n",
    "```shell\n",
    "cd ../../../notebooks\n",
    "jupyter notebook\n",
    "```"
   ]
  },
  {
   "cell_type": "markdown",
   "metadata": {},
   "source": [
    "# Load in Python Modules\n",
    "\n",
    "Import the Python modules we will be using for analysis."
   ]
  },
  {
   "cell_type": "code",
   "execution_count": 1,
   "metadata": {
    "collapsed": true
   },
   "outputs": [],
   "source": [
    "%matplotlib inline\n",
    "import matplotlib.pyplot as plt\n",
    "import pandas as pd\n",
    "import seaborn as sns"
   ]
  },
  {
   "cell_type": "markdown",
   "metadata": {},
   "source": [
    "# Load Data from the ALLSTUDIES Package\n",
    "\n",
    "Preload all the data we will be using for the tutorial. For each file loaded into a DataFrame, the column names\n",
    "and the number of rows and columns for each table will be printed.\n",
    "\n",
    "## Load Study, ARM, Subject and Biosample\n",
    "\n",
    "In the ImmPort model a **study** can have one or more **arms_or_cohort** records, and a **subject** is \n",
    "assigned to **arm_or_cohort**. Read in the study, arm_or_cohort and arm_2_subject data, so we can build\n",
    "a mapping that includes the study_accession, arm_accession and subject_accession. We will use this information later to map **arm** to **assessment** and **lab_test** using the **subject_accession**.\n",
    "\n",
    "We will not use the **study** table for this but you may want to review the column names and content. If you\n",
    "want to make a quick review of the types of data available in any table, you can use the df.head() command\n",
    "to get a tabular view of the table, after using the pd.read_table command. The study.head() command should be\n",
    "the last line in a notebook cell, to get the table to display."
   ]
  },
  {
   "cell_type": "code",
   "execution_count": 2,
   "metadata": {},
   "outputs": [
    {
     "name": "stdout",
     "output_type": "stream",
     "text": [
      "STUDY\n",
      "============================================================\n",
      "Index(['STUDY_ACCESSION', 'ACTUAL_COMPLETION_DATE', 'ACTUAL_ENROLLMENT',\n",
      "       'ACTUAL_START_DATE', 'AGE_UNIT', 'BRIEF_DESCRIPTION', 'BRIEF_TITLE',\n",
      "       'CLINICAL_TRIAL', 'CONDITION_STUDIED', 'DCL_ID', 'DESCRIPTION', 'DOI',\n",
      "       'ENDPOINTS', 'GENDER_INCLUDED', 'HYPOTHESIS',\n",
      "       'INITIAL_DATA_RELEASE_DATE', 'INITIAL_DATA_RELEASE_VERSION',\n",
      "       'INTERVENTION_AGENT', 'LATEST_DATA_RELEASE_DATE',\n",
      "       'LATEST_DATA_RELEASE_VERSION', 'MAXIMUM_AGE', 'MINIMUM_AGE',\n",
      "       'OBJECTIVES', 'OFFICIAL_TITLE', 'SPONSORING_ORGANIZATION',\n",
      "       'TARGET_ENROLLMENT', 'TYPE', 'WORKSPACE_ID'],\n",
      "      dtype='object')\n",
      "(301, 28)\n",
      "\n",
      "ARM_OR_COHORT\n",
      "============================================================\n",
      "Index(['ARM_ACCESSION', 'DESCRIPTION', 'NAME', 'STUDY_ACCESSION', 'TYPE',\n",
      "       'WORKSPACE_ID'],\n",
      "      dtype='object')\n",
      "(1384, 6)\n",
      "\n",
      "ARM_2_SUBJECT\n",
      "============================================================\n",
      "Index(['ARM_ACCESSION', 'SUBJECT_ACCESSION', 'AGE_EVENT', 'AGE_EVENT_SPECIFY',\n",
      "       'AGE_UNIT', 'MAX_SUBJECT_AGE', 'MIN_SUBJECT_AGE', 'SUBJECT_PHENOTYPE'],\n",
      "      dtype='object')\n",
      "(52432, 8)\n",
      "\n",
      "BIOSAMPLE\n",
      "============================================================\n",
      "Index(['BIOSAMPLE_ACCESSION', 'DESCRIPTION', 'NAME', 'PLANNED_VISIT_ACCESSION',\n",
      "       'STUDY_ACCESSION', 'STUDY_TIME_COLLECTED', 'STUDY_TIME_COLLECTED_UNIT',\n",
      "       'STUDY_TIME_T0_EVENT', 'STUDY_TIME_T0_EVENT_SPECIFY',\n",
      "       'SUBJECT_ACCESSION', 'SUBTYPE', 'TYPE', 'WORKSPACE_ID'],\n",
      "      dtype='object')\n",
      "(337319, 13)\n"
     ]
    }
   ],
   "source": [
    "print(\"STUDY\")\n",
    "print(\"============================================================\")\n",
    "study = pd.read_table(\"../data/study.txt\",sep=\"\\t\")\n",
    "print(study.columns)\n",
    "print(study.shape)\n",
    "# study.head()\n",
    "\n",
    "print(\"\")\n",
    "print(\"ARM_OR_COHORT\")\n",
    "print(\"============================================================\")\n",
    "arm_or_cohort = pd.read_table(\"../data/arm_or_cohort.txt\",sep=\"\\t\")\n",
    "print(arm_or_cohort.columns)\n",
    "print(arm_or_cohort.shape)\n",
    "# arm_or_cohort.head()\n",
    "\n",
    "print(\"\")\n",
    "print(\"ARM_2_SUBJECT\")\n",
    "print(\"============================================================\")\n",
    "arm_2_subject = pd.read_table(\"../data/arm_2_subject.txt\",sep=\"\\t\")\n",
    "print(arm_2_subject.columns)\n",
    "print(arm_2_subject.shape)\n",
    "\n",
    "# arm_2_subject.head()\n",
    "\n",
    "print(\"\")\n",
    "print(\"BIOSAMPLE\")\n",
    "print(\"============================================================\")\n",
    "biosample = pd.read_table(\"../data/biosample.txt\",sep=\"\\t\")\n",
    "print(biosample.columns)\n",
    "print(biosample.shape)"
   ]
  },
  {
   "cell_type": "code",
   "execution_count": 3,
   "metadata": {
    "collapsed": true
   },
   "outputs": [],
   "source": [
    "arm_or_cohort_short = arm_or_cohort[['STUDY_ACCESSION','ARM_ACCESSION']]\n",
    "study_arm_subject = pd.merge(arm_or_cohort_short,arm_2_subject,left_on='ARM_ACCESSION',right_on='ARM_ACCESSION')\n",
    "# Uncomment to review contents\n",
    "# study_arm_subject.head()"
   ]
  },
  {
   "cell_type": "code",
   "execution_count": 4,
   "metadata": {},
   "outputs": [
    {
     "name": "stdout",
     "output_type": "stream",
     "text": [
      "(52432, 3)\n"
     ]
    },
    {
     "data": {
      "text/html": [
       "<div>\n",
       "<style scoped>\n",
       "    .dataframe tbody tr th:only-of-type {\n",
       "        vertical-align: middle;\n",
       "    }\n",
       "\n",
       "    .dataframe tbody tr th {\n",
       "        vertical-align: top;\n",
       "    }\n",
       "\n",
       "    .dataframe thead th {\n",
       "        text-align: right;\n",
       "    }\n",
       "</style>\n",
       "<table border=\"1\" class=\"dataframe\">\n",
       "  <thead>\n",
       "    <tr style=\"text-align: right;\">\n",
       "      <th></th>\n",
       "      <th>STUDY_ACCESSION</th>\n",
       "      <th>ARM_ACCESSION</th>\n",
       "      <th>SUBJECT_ACCESSION</th>\n",
       "    </tr>\n",
       "  </thead>\n",
       "  <tbody>\n",
       "    <tr>\n",
       "      <th>0</th>\n",
       "      <td>SDY9</td>\n",
       "      <td>ARM268</td>\n",
       "      <td>SUB108253</td>\n",
       "    </tr>\n",
       "    <tr>\n",
       "      <th>1</th>\n",
       "      <td>SDY9</td>\n",
       "      <td>ARM268</td>\n",
       "      <td>SUB108267</td>\n",
       "    </tr>\n",
       "    <tr>\n",
       "      <th>2</th>\n",
       "      <td>SDY9</td>\n",
       "      <td>ARM268</td>\n",
       "      <td>SUB108296</td>\n",
       "    </tr>\n",
       "    <tr>\n",
       "      <th>3</th>\n",
       "      <td>SDY9</td>\n",
       "      <td>ARM268</td>\n",
       "      <td>SUB108313</td>\n",
       "    </tr>\n",
       "    <tr>\n",
       "      <th>4</th>\n",
       "      <td>SDY9</td>\n",
       "      <td>ARM268</td>\n",
       "      <td>SUB108325</td>\n",
       "    </tr>\n",
       "  </tbody>\n",
       "</table>\n",
       "</div>"
      ],
      "text/plain": [
       "  STUDY_ACCESSION ARM_ACCESSION SUBJECT_ACCESSION\n",
       "0            SDY9        ARM268         SUB108253\n",
       "1            SDY9        ARM268         SUB108267\n",
       "2            SDY9        ARM268         SUB108296\n",
       "3            SDY9        ARM268         SUB108313\n",
       "4            SDY9        ARM268         SUB108325"
      ]
     },
     "execution_count": 4,
     "metadata": {},
     "output_type": "execute_result"
    }
   ],
   "source": [
    "study_arm_subject_mapping = study_arm_subject[['STUDY_ACCESSION','ARM_ACCESSION','SUBJECT_ACCESSION']]\n",
    "print(study_arm_subject_mapping.shape)\n",
    "study_arm_subject_mapping.head()"
   ]
  },
  {
   "cell_type": "code",
   "execution_count": 5,
   "metadata": {},
   "outputs": [
    {
     "name": "stdout",
     "output_type": "stream",
     "text": [
      "(337319, 5)\n"
     ]
    },
    {
     "data": {
      "text/html": [
       "<div>\n",
       "<style scoped>\n",
       "    .dataframe tbody tr th:only-of-type {\n",
       "        vertical-align: middle;\n",
       "    }\n",
       "\n",
       "    .dataframe tbody tr th {\n",
       "        vertical-align: top;\n",
       "    }\n",
       "\n",
       "    .dataframe thead th {\n",
       "        text-align: right;\n",
       "    }\n",
       "</style>\n",
       "<table border=\"1\" class=\"dataframe\">\n",
       "  <thead>\n",
       "    <tr style=\"text-align: right;\">\n",
       "      <th></th>\n",
       "      <th>STUDY_ACCESSION</th>\n",
       "      <th>BIOSAMPLE_ACCESSION</th>\n",
       "      <th>SUBJECT_ACCESSION</th>\n",
       "      <th>PLANNED_VISIT_ACCESSION</th>\n",
       "      <th>STUDY_TIME_COLLECTED</th>\n",
       "    </tr>\n",
       "  </thead>\n",
       "  <tbody>\n",
       "    <tr>\n",
       "      <th>0</th>\n",
       "      <td>SDY557</td>\n",
       "      <td>BS803701</td>\n",
       "      <td>SUB148265</td>\n",
       "      <td>PV3557</td>\n",
       "      <td>11.0</td>\n",
       "    </tr>\n",
       "    <tr>\n",
       "      <th>1</th>\n",
       "      <td>SDY557</td>\n",
       "      <td>BS803713</td>\n",
       "      <td>SUB148280</td>\n",
       "      <td>PV3559</td>\n",
       "      <td>56.0</td>\n",
       "    </tr>\n",
       "    <tr>\n",
       "      <th>2</th>\n",
       "      <td>SDY557</td>\n",
       "      <td>BS803722</td>\n",
       "      <td>SUB148290</td>\n",
       "      <td>PV3554</td>\n",
       "      <td>0.0</td>\n",
       "    </tr>\n",
       "    <tr>\n",
       "      <th>3</th>\n",
       "      <td>SDY557</td>\n",
       "      <td>BS803736</td>\n",
       "      <td>SUB148305</td>\n",
       "      <td>PV3554</td>\n",
       "      <td>-1.0</td>\n",
       "    </tr>\n",
       "    <tr>\n",
       "      <th>4</th>\n",
       "      <td>SDY557</td>\n",
       "      <td>BS803743</td>\n",
       "      <td>SUB148313</td>\n",
       "      <td>PV3554</td>\n",
       "      <td>0.0</td>\n",
       "    </tr>\n",
       "  </tbody>\n",
       "</table>\n",
       "</div>"
      ],
      "text/plain": [
       "  STUDY_ACCESSION BIOSAMPLE_ACCESSION SUBJECT_ACCESSION  \\\n",
       "0          SDY557            BS803701         SUB148265   \n",
       "1          SDY557            BS803713         SUB148280   \n",
       "2          SDY557            BS803722         SUB148290   \n",
       "3          SDY557            BS803736         SUB148305   \n",
       "4          SDY557            BS803743         SUB148313   \n",
       "\n",
       "  PLANNED_VISIT_ACCESSION  STUDY_TIME_COLLECTED  \n",
       "0                  PV3557                  11.0  \n",
       "1                  PV3559                  56.0  \n",
       "2                  PV3554                   0.0  \n",
       "3                  PV3554                  -1.0  \n",
       "4                  PV3554                   0.0  "
      ]
     },
     "execution_count": 5,
     "metadata": {},
     "output_type": "execute_result"
    }
   ],
   "source": [
    "biosample_short = biosample[['STUDY_ACCESSION','BIOSAMPLE_ACCESSION','SUBJECT_ACCESSION',\n",
    "                            'PLANNED_VISIT_ACCESSION','STUDY_TIME_COLLECTED']]\n",
    "print(biosample_short.shape)\n",
    "biosample_short.head()"
   ]
  },
  {
   "cell_type": "markdown",
   "metadata": {},
   "source": [
    "# Load Assessment Data\n",
    "\n",
    "Assessment information is contained in 2 tables in the ImmPort data model. The **assessment_panel** is\n",
    "used to group individual **assessment_component** records into panels. To perform analysis it is useful\n",
    "to merge the information from these 2 tables into 1 DataFrame"
   ]
  },
  {
   "cell_type": "code",
   "execution_count": 6,
   "metadata": {},
   "outputs": [
    {
     "name": "stdout",
     "output_type": "stream",
     "text": [
      "ASSESSMENT_PANEL\n",
      "============================================================\n",
      "Index(['ASSESSMENT_PANEL_ACCESSION', 'ASSESSMENT_TYPE', 'NAME_PREFERRED',\n",
      "       'NAME_REPORTED', 'STATUS', 'STUDY_ACCESSION', 'WORKSPACE_ID'],\n",
      "      dtype='object')\n",
      "(444, 7)\n",
      "\n",
      "ASSESSMENT_COMPONENT\n",
      "============================================================\n",
      "Index(['ASSESSMENT_COMPONENT_ACCESSION', 'AGE_AT_ONSET_PREFERRED',\n",
      "       'AGE_AT_ONSET_REPORTED', 'AGE_AT_ONSET_UNIT_PREFERRED',\n",
      "       'AGE_AT_ONSET_UNIT_REPORTED', 'ASSESSMENT_PANEL_ACCESSION',\n",
      "       'IS_CLINICALLY_SIGNIFICANT', 'LOCATION_OF_FINDING_PREFERRED',\n",
      "       'LOCATION_OF_FINDING_REPORTED', 'NAME_PREFERRED', 'NAME_REPORTED',\n",
      "       'ORGAN_OR_BODY_SYSTEM_PREFERRED', 'ORGAN_OR_BODY_SYSTEM_REPORTED',\n",
      "       'PLANNED_VISIT_ACCESSION', 'REFERENCE_RANGE_ACCESSION',\n",
      "       'RESULT_UNIT_PREFERRED', 'RESULT_UNIT_REPORTED',\n",
      "       'RESULT_VALUE_CATEGORY', 'RESULT_VALUE_PREFERRED',\n",
      "       'RESULT_VALUE_REPORTED', 'STUDY_DAY', 'SUBJECT_ACCESSION',\n",
      "       'SUBJECT_POSITION_PREFERRED', 'SUBJECT_POSITION_REPORTED',\n",
      "       'TIME_OF_DAY', 'VERBATIM_QUESTION', 'WHO_IS_ASSESSED', 'WORKSPACE_ID'],\n",
      "      dtype='object')\n",
      "(1208337, 28)\n"
     ]
    }
   ],
   "source": [
    "print(\"ASSESSMENT_PANEL\")\n",
    "print(\"============================================================\")\n",
    "assessment_panel = pd.read_table(\"../data/assessment_panel.txt\",sep=\"\\t\")\n",
    "print(assessment_panel.columns)\n",
    "print(assessment_panel.shape)\n",
    "\n",
    "print(\"\")\n",
    "print(\"ASSESSMENT_COMPONENT\")\n",
    "print(\"============================================================\")\n",
    "assessment_component = pd.read_table(\"../data/assessment_component.txt\",sep=\"\\t\")\n",
    "print(assessment_component.columns)\n",
    "print(assessment_component.shape)"
   ]
  },
  {
   "cell_type": "markdown",
   "metadata": {},
   "source": [
    "## Clean and Merge Assessment_Panel and Assessment_Component"
   ]
  },
  {
   "cell_type": "code",
   "execution_count": 7,
   "metadata": {
    "collapsed": true
   },
   "outputs": [],
   "source": [
    "assessment_panel_short = assessment_panel[['ASSESSMENT_PANEL_ACCESSION','NAME_REPORTED','STUDY_ACCESSION']]\n",
    "assessment_panel_short = assessment_panel_short.rename(columns={'NAME_REPORTED': \"PANEL_NAME\"})\n",
    "# assessment_panel_short.head()"
   ]
  },
  {
   "cell_type": "code",
   "execution_count": 8,
   "metadata": {
    "collapsed": true
   },
   "outputs": [],
   "source": [
    "assessment_component_short = assessment_component[['ASSESSMENT_PANEL_ACCESSION','NAME_REPORTED',\n",
    "                                                     'PLANNED_VISIT_ACCESSION','RESULT_VALUE_REPORTED',\n",
    "                                                     'RESULT_UNIT_REPORTED','STUDY_DAY','SUBJECT_ACCESSION']]\n",
    "assessment_component_short = assessment_component_short.rename(columns={'NAME_REPORTED': \"COMPONENT_NAME\"})\n",
    "# assessment_component_short.head()"
   ]
  },
  {
   "cell_type": "code",
   "execution_count": 9,
   "metadata": {},
   "outputs": [
    {
     "name": "stdout",
     "output_type": "stream",
     "text": [
      "(1208337, 9)\n"
     ]
    }
   ],
   "source": [
    "assessments = pd.merge(assessment_panel_short, assessment_component_short,\n",
    "                       left_on='ASSESSMENT_PANEL_ACCESSION', right_on='ASSESSMENT_PANEL_ACCESSION')\n",
    "print(assessments.shape)\n",
    "# assessments.head()"
   ]
  },
  {
   "cell_type": "markdown",
   "metadata": {},
   "source": [
    "## Merge ARM information into assessements\n",
    "\n",
    "In this case we are using the smaller study_arm_subject_mapping DataFrame because we do not want to include additional information from the study_arm_subject DataFrame. But in many cases you may want to use the full\n",
    "study_arm_subject DataFrame, to include information like age at the time of the study or subject_phenotype, etc."
   ]
  },
  {
   "cell_type": "code",
   "execution_count": 10,
   "metadata": {},
   "outputs": [
    {
     "name": "stdout",
     "output_type": "stream",
     "text": [
      "(1208337, 10)\n"
     ]
    },
    {
     "data": {
      "text/html": [
       "<div>\n",
       "<style scoped>\n",
       "    .dataframe tbody tr th:only-of-type {\n",
       "        vertical-align: middle;\n",
       "    }\n",
       "\n",
       "    .dataframe tbody tr th {\n",
       "        vertical-align: top;\n",
       "    }\n",
       "\n",
       "    .dataframe thead th {\n",
       "        text-align: right;\n",
       "    }\n",
       "</style>\n",
       "<table border=\"1\" class=\"dataframe\">\n",
       "  <thead>\n",
       "    <tr style=\"text-align: right;\">\n",
       "      <th></th>\n",
       "      <th>ASSESSMENT_PANEL_ACCESSION</th>\n",
       "      <th>PANEL_NAME</th>\n",
       "      <th>STUDY_ACCESSION</th>\n",
       "      <th>COMPONENT_NAME</th>\n",
       "      <th>PLANNED_VISIT_ACCESSION</th>\n",
       "      <th>RESULT_VALUE_REPORTED</th>\n",
       "      <th>RESULT_UNIT_REPORTED</th>\n",
       "      <th>STUDY_DAY</th>\n",
       "      <th>SUBJECT_ACCESSION</th>\n",
       "      <th>ARM_ACCESSION</th>\n",
       "    </tr>\n",
       "  </thead>\n",
       "  <tbody>\n",
       "    <tr>\n",
       "      <th>0</th>\n",
       "      <td>AP72352</td>\n",
       "      <td>Allergen History</td>\n",
       "      <td>SDY1</td>\n",
       "      <td>Food Allergy</td>\n",
       "      <td>-</td>\n",
       "      <td>No</td>\n",
       "      <td>NaN</td>\n",
       "      <td>-11.0</td>\n",
       "      <td>SUB73507</td>\n",
       "      <td>ARM4</td>\n",
       "    </tr>\n",
       "    <tr>\n",
       "      <th>1</th>\n",
       "      <td>AP72352</td>\n",
       "      <td>Allergen History</td>\n",
       "      <td>SDY1</td>\n",
       "      <td>Allergy to Latex</td>\n",
       "      <td>-</td>\n",
       "      <td>No</td>\n",
       "      <td>NaN</td>\n",
       "      <td>-11.0</td>\n",
       "      <td>SUB73507</td>\n",
       "      <td>ARM4</td>\n",
       "    </tr>\n",
       "    <tr>\n",
       "      <th>2</th>\n",
       "      <td>AP72352</td>\n",
       "      <td>Allergen History</td>\n",
       "      <td>SDY1</td>\n",
       "      <td>ALLROTH</td>\n",
       "      <td>-</td>\n",
       "      <td>No</td>\n",
       "      <td>NaN</td>\n",
       "      <td>-11.0</td>\n",
       "      <td>SUB73507</td>\n",
       "      <td>ARM4</td>\n",
       "    </tr>\n",
       "    <tr>\n",
       "      <th>3</th>\n",
       "      <td>AP72352</td>\n",
       "      <td>Allergen History</td>\n",
       "      <td>SDY1</td>\n",
       "      <td>Allergy to Penicillin and/or other drugs</td>\n",
       "      <td>-</td>\n",
       "      <td>No</td>\n",
       "      <td>NaN</td>\n",
       "      <td>-11.0</td>\n",
       "      <td>SUB73507</td>\n",
       "      <td>ARM4</td>\n",
       "    </tr>\n",
       "    <tr>\n",
       "      <th>4</th>\n",
       "      <td>AP72352</td>\n",
       "      <td>Allergen History</td>\n",
       "      <td>SDY1</td>\n",
       "      <td>Allergy to Stinging insect venoms</td>\n",
       "      <td>-</td>\n",
       "      <td>No</td>\n",
       "      <td>NaN</td>\n",
       "      <td>-11.0</td>\n",
       "      <td>SUB73507</td>\n",
       "      <td>ARM4</td>\n",
       "    </tr>\n",
       "  </tbody>\n",
       "</table>\n",
       "</div>"
      ],
      "text/plain": [
       "  ASSESSMENT_PANEL_ACCESSION        PANEL_NAME STUDY_ACCESSION  \\\n",
       "0                    AP72352  Allergen History            SDY1   \n",
       "1                    AP72352  Allergen History            SDY1   \n",
       "2                    AP72352  Allergen History            SDY1   \n",
       "3                    AP72352  Allergen History            SDY1   \n",
       "4                    AP72352  Allergen History            SDY1   \n",
       "\n",
       "                             COMPONENT_NAME PLANNED_VISIT_ACCESSION  \\\n",
       "0                              Food Allergy                       -   \n",
       "1                          Allergy to Latex                       -   \n",
       "2                                   ALLROTH                       -   \n",
       "3  Allergy to Penicillin and/or other drugs                       -   \n",
       "4         Allergy to Stinging insect venoms                       -   \n",
       "\n",
       "  RESULT_VALUE_REPORTED RESULT_UNIT_REPORTED  STUDY_DAY SUBJECT_ACCESSION  \\\n",
       "0                    No                  NaN      -11.0          SUB73507   \n",
       "1                    No                  NaN      -11.0          SUB73507   \n",
       "2                    No                  NaN      -11.0          SUB73507   \n",
       "3                    No                  NaN      -11.0          SUB73507   \n",
       "4                    No                  NaN      -11.0          SUB73507   \n",
       "\n",
       "  ARM_ACCESSION  \n",
       "0          ARM4  \n",
       "1          ARM4  \n",
       "2          ARM4  \n",
       "3          ARM4  \n",
       "4          ARM4  "
      ]
     },
     "execution_count": 10,
     "metadata": {},
     "output_type": "execute_result"
    }
   ],
   "source": [
    "assessments = pd.merge(assessments,study_arm_subject_mapping, left_on=['STUDY_ACCESSION','SUBJECT_ACCESSION'],\n",
    "                      right_on=['STUDY_ACCESSION','SUBJECT_ACCESSION'])\n",
    "print(assessments.shape)\n",
    "assessments.head()"
   ]
  },
  {
   "cell_type": "markdown",
   "metadata": {},
   "source": [
    "# Load Lab Test Data\n",
    "\n",
    "Lab test information is contained in 2 tables in the ImmPort data model. The **lab_test_panel** is used\n",
    "to group individual **lab_test** records into panels. To perform analysis it is useful to merge the \n",
    "information from these 2 tables into 1 DataFrame."
   ]
  },
  {
   "cell_type": "code",
   "execution_count": 11,
   "metadata": {},
   "outputs": [
    {
     "name": "stdout",
     "output_type": "stream",
     "text": [
      "LAB_TEST_PANEL\n",
      "============================================================\n",
      "Index(['LAB_TEST_PANEL_ACCESSION', 'NAME_PREFERRED', 'NAME_REPORTED',\n",
      "       'STUDY_ACCESSION', 'WORKSPACE_ID'],\n",
      "      dtype='object')\n",
      "(211, 5)\n",
      "\n",
      "LAB_TEST\n",
      "============================================================\n",
      "Index(['LAB_TEST_ACCESSION', 'LAB_TEST_PANEL_ACCESSION', 'BIOSAMPLE_ACCESSION',\n",
      "       'NAME_PREFERRED', 'NAME_REPORTED', 'REFERENCE_RANGE_ACCESSION',\n",
      "       'RESULT_UNIT_PREFERRED', 'RESULT_UNIT_REPORTED',\n",
      "       'RESULT_VALUE_PREFERRED', 'RESULT_VALUE_REPORTED', 'WORKSPACE_ID'],\n",
      "      dtype='object')\n",
      "(820295, 11)\n"
     ]
    }
   ],
   "source": [
    "print(\"LAB_TEST_PANEL\")\n",
    "print(\"============================================================\")\n",
    "lab_test_panel = pd.read_table(\"../data/lab_test_panel.txt\",sep=\"\\t\")\n",
    "print(lab_test_panel.columns)\n",
    "print(lab_test_panel.shape)\n",
    "\n",
    "print(\"\")\n",
    "print(\"LAB_TEST\")\n",
    "print(\"============================================================\")\n",
    "lab_test = pd.read_table(\"../data/lab_test.txt\",sep=\"\\t\")\n",
    "print(lab_test.columns)\n",
    "print(lab_test.shape)"
   ]
  },
  {
   "cell_type": "markdown",
   "metadata": {},
   "source": [
    "## Clean Lab_Test_Panel and Lab_Test"
   ]
  },
  {
   "cell_type": "code",
   "execution_count": 12,
   "metadata": {
    "collapsed": true
   },
   "outputs": [],
   "source": [
    "lab_test_panel_short = lab_test_panel[['LAB_TEST_PANEL_ACCESSION','NAME_REPORTED','STUDY_ACCESSION']]\n",
    "lab_test_panel_short = lab_test_panel_short.rename(columns={'NAME_REPORTED': 'PANEL_NAME'})\n",
    "#lab_test_panel_short.head()"
   ]
  },
  {
   "cell_type": "code",
   "execution_count": 13,
   "metadata": {
    "collapsed": true
   },
   "outputs": [],
   "source": [
    "lab_test_short = lab_test[['LAB_TEST_PANEL_ACCESSION','BIOSAMPLE_ACCESSION','NAME_REPORTED',\n",
    "                           'RESULT_VALUE_PREFERRED','RESULT_VALUE_REPORTED','RESULT_UNIT_REPORTED']]\n",
    "lab_test_short = lab_test_short = lab_test_short.rename(columns={'NAME_REPORTED': 'LAB_TEST_NAME'})\n",
    "#lab_test_short.head()"
   ]
  },
  {
   "cell_type": "code",
   "execution_count": 14,
   "metadata": {},
   "outputs": [
    {
     "name": "stdout",
     "output_type": "stream",
     "text": [
      "(820295, 8)\n"
     ]
    }
   ],
   "source": [
    "lab_tests = pd.merge(lab_test_panel_short,lab_test_short,\n",
    "                    left_on='LAB_TEST_PANEL_ACCESSION',right_on='LAB_TEST_PANEL_ACCESSION')\n",
    "print(lab_tests.shape)\n",
    "# lab_tests.head()"
   ]
  },
  {
   "cell_type": "markdown",
   "metadata": {},
   "source": [
    "## Merge Subject and ARM Information into LabTest"
   ]
  },
  {
   "cell_type": "code",
   "execution_count": 15,
   "metadata": {},
   "outputs": [
    {
     "name": "stdout",
     "output_type": "stream",
     "text": [
      "(820295, 11)\n"
     ]
    },
    {
     "data": {
      "text/html": [
       "<div>\n",
       "<style scoped>\n",
       "    .dataframe tbody tr th:only-of-type {\n",
       "        vertical-align: middle;\n",
       "    }\n",
       "\n",
       "    .dataframe tbody tr th {\n",
       "        vertical-align: top;\n",
       "    }\n",
       "\n",
       "    .dataframe thead th {\n",
       "        text-align: right;\n",
       "    }\n",
       "</style>\n",
       "<table border=\"1\" class=\"dataframe\">\n",
       "  <thead>\n",
       "    <tr style=\"text-align: right;\">\n",
       "      <th></th>\n",
       "      <th>LAB_TEST_PANEL_ACCESSION</th>\n",
       "      <th>PANEL_NAME</th>\n",
       "      <th>STUDY_ACCESSION</th>\n",
       "      <th>BIOSAMPLE_ACCESSION</th>\n",
       "      <th>LAB_TEST_NAME</th>\n",
       "      <th>RESULT_VALUE_PREFERRED</th>\n",
       "      <th>RESULT_VALUE_REPORTED</th>\n",
       "      <th>RESULT_UNIT_REPORTED</th>\n",
       "      <th>SUBJECT_ACCESSION</th>\n",
       "      <th>PLANNED_VISIT_ACCESSION</th>\n",
       "      <th>STUDY_TIME_COLLECTED</th>\n",
       "      <th>ARM_ACCESSION</th>\n",
       "    </tr>\n",
       "  </thead>\n",
       "  <tbody>\n",
       "    <tr>\n",
       "      <th>0</th>\n",
       "      <td>LP5027</td>\n",
       "      <td>Pregnancy test</td>\n",
       "      <td>SDY10</td>\n",
       "      <td>BS478395</td>\n",
       "      <td>Pregnancy test</td>\n",
       "      <td>NaN</td>\n",
       "      <td>N</td>\n",
       "      <td>NaN</td>\n",
       "      <td>SUB106739</td>\n",
       "      <td>PV1550</td>\n",
       "      <td>1.0</td>\n",
       "      <td>ARM269</td>\n",
       "    </tr>\n",
       "    <tr>\n",
       "      <th>1</th>\n",
       "      <td>LP5182</td>\n",
       "      <td>Complete blood count</td>\n",
       "      <td>SDY10</td>\n",
       "      <td>BS478170</td>\n",
       "      <td>Neutrophil (percent)</td>\n",
       "      <td>65.60</td>\n",
       "      <td>65.6 percent</td>\n",
       "      <td>percent</td>\n",
       "      <td>SUB106739</td>\n",
       "      <td>PV1550</td>\n",
       "      <td>1.0</td>\n",
       "      <td>ARM269</td>\n",
       "    </tr>\n",
       "    <tr>\n",
       "      <th>2</th>\n",
       "      <td>LP5182</td>\n",
       "      <td>Complete blood count</td>\n",
       "      <td>SDY10</td>\n",
       "      <td>BS478170</td>\n",
       "      <td>Differential Monocytes (percent)</td>\n",
       "      <td>NaN</td>\n",
       "      <td>. percent percent</td>\n",
       "      <td>percent</td>\n",
       "      <td>SUB106739</td>\n",
       "      <td>PV1550</td>\n",
       "      <td>1.0</td>\n",
       "      <td>ARM269</td>\n",
       "    </tr>\n",
       "    <tr>\n",
       "      <th>3</th>\n",
       "      <td>LP5182</td>\n",
       "      <td>Complete blood count</td>\n",
       "      <td>SDY10</td>\n",
       "      <td>BS478170</td>\n",
       "      <td>Red blood cells (RBC)</td>\n",
       "      <td>5.57</td>\n",
       "      <td>5.57 M/uL</td>\n",
       "      <td>M/uL</td>\n",
       "      <td>SUB106739</td>\n",
       "      <td>PV1550</td>\n",
       "      <td>1.0</td>\n",
       "      <td>ARM269</td>\n",
       "    </tr>\n",
       "    <tr>\n",
       "      <th>4</th>\n",
       "      <td>LP5182</td>\n",
       "      <td>Complete blood count</td>\n",
       "      <td>SDY10</td>\n",
       "      <td>BS478170</td>\n",
       "      <td>Differential Basophils (percent)</td>\n",
       "      <td>NaN</td>\n",
       "      <td>. percent percent</td>\n",
       "      <td>percent</td>\n",
       "      <td>SUB106739</td>\n",
       "      <td>PV1550</td>\n",
       "      <td>1.0</td>\n",
       "      <td>ARM269</td>\n",
       "    </tr>\n",
       "  </tbody>\n",
       "</table>\n",
       "</div>"
      ],
      "text/plain": [
       "  LAB_TEST_PANEL_ACCESSION            PANEL_NAME STUDY_ACCESSION  \\\n",
       "0                   LP5027        Pregnancy test           SDY10   \n",
       "1                   LP5182  Complete blood count           SDY10   \n",
       "2                   LP5182  Complete blood count           SDY10   \n",
       "3                   LP5182  Complete blood count           SDY10   \n",
       "4                   LP5182  Complete blood count           SDY10   \n",
       "\n",
       "  BIOSAMPLE_ACCESSION                     LAB_TEST_NAME  \\\n",
       "0            BS478395                    Pregnancy test   \n",
       "1            BS478170              Neutrophil (percent)   \n",
       "2            BS478170  Differential Monocytes (percent)   \n",
       "3            BS478170             Red blood cells (RBC)   \n",
       "4            BS478170  Differential Basophils (percent)   \n",
       "\n",
       "   RESULT_VALUE_PREFERRED RESULT_VALUE_REPORTED RESULT_UNIT_REPORTED  \\\n",
       "0                     NaN                     N                  NaN   \n",
       "1                   65.60          65.6 percent              percent   \n",
       "2                     NaN     . percent percent              percent   \n",
       "3                    5.57             5.57 M/uL                 M/uL   \n",
       "4                     NaN     . percent percent              percent   \n",
       "\n",
       "  SUBJECT_ACCESSION PLANNED_VISIT_ACCESSION  STUDY_TIME_COLLECTED  \\\n",
       "0         SUB106739                  PV1550                   1.0   \n",
       "1         SUB106739                  PV1550                   1.0   \n",
       "2         SUB106739                  PV1550                   1.0   \n",
       "3         SUB106739                  PV1550                   1.0   \n",
       "4         SUB106739                  PV1550                   1.0   \n",
       "\n",
       "  ARM_ACCESSION  \n",
       "0        ARM269  \n",
       "1        ARM269  \n",
       "2        ARM269  \n",
       "3        ARM269  \n",
       "4        ARM269  "
      ]
     },
     "execution_count": 15,
     "metadata": {},
     "output_type": "execute_result"
    }
   ],
   "source": [
    "lab_tests = pd.merge(lab_tests,biosample_short, left_on=['STUDY_ACCESSION','BIOSAMPLE_ACCESSION'],\n",
    "                     right_on=['STUDY_ACCESSION','BIOSAMPLE_ACCESSION'])\n",
    "lab_tests = pd.merge(lab_tests,study_arm_subject_mapping, left_on=['STUDY_ACCESSION','SUBJECT_ACCESSION'],\n",
    "                    right_on=['STUDY_ACCESSION','SUBJECT_ACCESSION'])\n",
    "print(lab_test.shape)\n",
    "lab_tests.head()"
   ]
  },
  {
   "cell_type": "markdown",
   "metadata": {},
   "source": [
    "# Helper Methods\n",
    "\n",
    "The methods below can be used to explore the types of assessments or labtests that are available on a study basis.\n",
    "At the end of this section there are a few example of how to use these methods to explore study information.\n",
    "When looking at the results returned by these methods, you may want to adjust the options to control the\n",
    "number of rows to display, or the option to control column width, examples of how to set these options are in\n",
    "the code."
   ]
  },
  {
   "cell_type": "markdown",
   "metadata": {},
   "source": [
    "## Method to Find Assessments for a Study"
   ]
  },
  {
   "cell_type": "code",
   "execution_count": 16,
   "metadata": {
    "collapsed": true
   },
   "outputs": [],
   "source": [
    "def assessment_panels_by_study(study_accession,assessments):\n",
    "    study_assessments = assessments[assessments['STUDY_ACCESSION']==study_accession]\n",
    "    study_panels = study_assessments[['PANEL_NAME','COMPONENT_NAME']]\n",
    "    study_panels = study_panels.groupby(['PANEL_NAME','COMPONENT_NAME']).size().reset_index(name=\"COUNTS\")\n",
    "    return study_panels"
   ]
  },
  {
   "cell_type": "markdown",
   "metadata": {},
   "source": [
    "## Method to Find Labtests for a Study"
   ]
  },
  {
   "cell_type": "code",
   "execution_count": 17,
   "metadata": {
    "collapsed": true
   },
   "outputs": [],
   "source": [
    "def lab_test_panels_by_study(study_accession,lab_tests):\n",
    "    study_lab_tests = lab_tests[lab_tests['STUDY_ACCESSION']==study_accession]\n",
    "    study_panels = study_lab_tests[['PANEL_NAME','LAB_TEST_NAME']]\n",
    "    study_panels = study_panels.groupby(['PANEL_NAME','LAB_TEST_NAME']).size().reset_index(name=\"COUNTS\")\n",
    "    return study_panels"
   ]
  },
  {
   "cell_type": "markdown",
   "metadata": {},
   "source": [
    "## Examples of using the methods\n",
    "\n",
    "For these examples, the maximum number of rows will be set to 10 and the maximum column width will\n",
    "be set to 100. Set the max_rows option to see more of the information. The value passed into the df.head()\n",
    "method should also be increased. At the end of the section,these options will be reset to their default values."
   ]
  },
  {
   "cell_type": "code",
   "execution_count": 18,
   "metadata": {
    "collapsed": true
   },
   "outputs": [],
   "source": [
    "pd.set_option(\"display.max_rows\",10)\n",
    "pd.set_option(\"display.max_colwidth\",100)"
   ]
  },
  {
   "cell_type": "code",
   "execution_count": 19,
   "metadata": {},
   "outputs": [
    {
     "name": "stdout",
     "output_type": "stream",
     "text": [
      "(124, 3)\n"
     ]
    },
    {
     "data": {
      "text/html": [
       "<div>\n",
       "<style scoped>\n",
       "    .dataframe tbody tr th:only-of-type {\n",
       "        vertical-align: middle;\n",
       "    }\n",
       "\n",
       "    .dataframe tbody tr th {\n",
       "        vertical-align: top;\n",
       "    }\n",
       "\n",
       "    .dataframe thead th {\n",
       "        text-align: right;\n",
       "    }\n",
       "</style>\n",
       "<table border=\"1\" class=\"dataframe\">\n",
       "  <thead>\n",
       "    <tr style=\"text-align: right;\">\n",
       "      <th></th>\n",
       "      <th>PANEL_NAME</th>\n",
       "      <th>COMPONENT_NAME</th>\n",
       "      <th>COUNTS</th>\n",
       "    </tr>\n",
       "  </thead>\n",
       "  <tbody>\n",
       "    <tr>\n",
       "      <th>0</th>\n",
       "      <td>AD Assessment</td>\n",
       "      <td>AD diagnosis</td>\n",
       "      <td>174</td>\n",
       "    </tr>\n",
       "    <tr>\n",
       "      <th>1</th>\n",
       "      <td>AD Assessment</td>\n",
       "      <td>Active AD</td>\n",
       "      <td>174</td>\n",
       "    </tr>\n",
       "    <tr>\n",
       "      <th>2</th>\n",
       "      <td>AD Assessment</td>\n",
       "      <td>Chronic eczema</td>\n",
       "      <td>174</td>\n",
       "    </tr>\n",
       "    <tr>\n",
       "      <th>3</th>\n",
       "      <td>AD Assessment</td>\n",
       "      <td>Facial necke xtensor involvement</td>\n",
       "      <td>174</td>\n",
       "    </tr>\n",
       "    <tr>\n",
       "      <th>4</th>\n",
       "      <td>AD Assessment</td>\n",
       "      <td>Flexural lesions any age group</td>\n",
       "      <td>174</td>\n",
       "    </tr>\n",
       "    <tr>\n",
       "      <th>5</th>\n",
       "      <td>AD Assessment</td>\n",
       "      <td>Groin axillary regions</td>\n",
       "      <td>174</td>\n",
       "    </tr>\n",
       "    <tr>\n",
       "      <th>6</th>\n",
       "      <td>AD Assessment</td>\n",
       "      <td>Pruritus</td>\n",
       "      <td>174</td>\n",
       "    </tr>\n",
       "    <tr>\n",
       "      <th>7</th>\n",
       "      <td>AD Assessment</td>\n",
       "      <td>Typical morphology and age-specific patterns</td>\n",
       "      <td>174</td>\n",
       "    </tr>\n",
       "    <tr>\n",
       "      <th>8</th>\n",
       "      <td>Any Adverse Event?</td>\n",
       "      <td>Any Adverse Event?</td>\n",
       "      <td>235</td>\n",
       "    </tr>\n",
       "    <tr>\n",
       "      <th>9</th>\n",
       "      <td>Clinical variant of AD</td>\n",
       "      <td>Clinical variant of AD</td>\n",
       "      <td>174</td>\n",
       "    </tr>\n",
       "  </tbody>\n",
       "</table>\n",
       "</div>"
      ],
      "text/plain": [
       "               PANEL_NAME                                COMPONENT_NAME  \\\n",
       "0           AD Assessment                                  AD diagnosis   \n",
       "1           AD Assessment                                     Active AD   \n",
       "2           AD Assessment                                Chronic eczema   \n",
       "3           AD Assessment              Facial necke xtensor involvement   \n",
       "4           AD Assessment                Flexural lesions any age group   \n",
       "5           AD Assessment                        Groin axillary regions   \n",
       "6           AD Assessment                                      Pruritus   \n",
       "7           AD Assessment  Typical morphology and age-specific patterns   \n",
       "8      Any Adverse Event?                            Any Adverse Event?   \n",
       "9  Clinical variant of AD                        Clinical variant of AD   \n",
       "\n",
       "   COUNTS  \n",
       "0     174  \n",
       "1     174  \n",
       "2     174  \n",
       "3     174  \n",
       "4     174  \n",
       "5     174  \n",
       "6     174  \n",
       "7     174  \n",
       "8     235  \n",
       "9     174  "
      ]
     },
     "execution_count": 19,
     "metadata": {},
     "output_type": "execute_result"
    }
   ],
   "source": [
    "# Show SDY4 ??\n",
    "assessment_panels = assessment_panels_by_study('SDY4',assessments)\n",
    "print(assessment_panels.shape)\n",
    "assessment_panels.head(10)"
   ]
  },
  {
   "cell_type": "code",
   "execution_count": 20,
   "metadata": {},
   "outputs": [
    {
     "name": "stdout",
     "output_type": "stream",
     "text": [
      "(65, 3)\n"
     ]
    },
    {
     "data": {
      "text/html": [
       "<div>\n",
       "<style scoped>\n",
       "    .dataframe tbody tr th:only-of-type {\n",
       "        vertical-align: middle;\n",
       "    }\n",
       "\n",
       "    .dataframe tbody tr th {\n",
       "        vertical-align: top;\n",
       "    }\n",
       "\n",
       "    .dataframe thead th {\n",
       "        text-align: right;\n",
       "    }\n",
       "</style>\n",
       "<table border=\"1\" class=\"dataframe\">\n",
       "  <thead>\n",
       "    <tr style=\"text-align: right;\">\n",
       "      <th></th>\n",
       "      <th>PANEL_NAME</th>\n",
       "      <th>LAB_TEST_NAME</th>\n",
       "      <th>COUNTS</th>\n",
       "    </tr>\n",
       "  </thead>\n",
       "  <tbody>\n",
       "    <tr>\n",
       "      <th>0</th>\n",
       "      <td>CBC_Results</td>\n",
       "      <td>CD16 positive/CD56 positive</td>\n",
       "      <td>235</td>\n",
       "    </tr>\n",
       "    <tr>\n",
       "      <th>1</th>\n",
       "      <td>CBC_Results</td>\n",
       "      <td>CD16 positive/CD56 positive percentage</td>\n",
       "      <td>235</td>\n",
       "    </tr>\n",
       "    <tr>\n",
       "      <th>2</th>\n",
       "      <td>CBC_Results</td>\n",
       "      <td>CD19 positive cells</td>\n",
       "      <td>235</td>\n",
       "    </tr>\n",
       "    <tr>\n",
       "      <th>3</th>\n",
       "      <td>CBC_Results</td>\n",
       "      <td>CD19 positive cells percentage</td>\n",
       "      <td>235</td>\n",
       "    </tr>\n",
       "    <tr>\n",
       "      <th>4</th>\n",
       "      <td>CBC_Results</td>\n",
       "      <td>CD3 positive cells</td>\n",
       "      <td>235</td>\n",
       "    </tr>\n",
       "    <tr>\n",
       "      <th>5</th>\n",
       "      <td>CBC_Results</td>\n",
       "      <td>CD3 positive cells percentage</td>\n",
       "      <td>235</td>\n",
       "    </tr>\n",
       "    <tr>\n",
       "      <th>6</th>\n",
       "      <td>CBC_Results</td>\n",
       "      <td>CD4 positive cells</td>\n",
       "      <td>235</td>\n",
       "    </tr>\n",
       "    <tr>\n",
       "      <th>7</th>\n",
       "      <td>CBC_Results</td>\n",
       "      <td>CD4 positive cells percentage</td>\n",
       "      <td>235</td>\n",
       "    </tr>\n",
       "    <tr>\n",
       "      <th>8</th>\n",
       "      <td>CBC_Results</td>\n",
       "      <td>CD8 positive cells</td>\n",
       "      <td>235</td>\n",
       "    </tr>\n",
       "    <tr>\n",
       "      <th>9</th>\n",
       "      <td>CBC_Results</td>\n",
       "      <td>CD8 positive cells percentage</td>\n",
       "      <td>235</td>\n",
       "    </tr>\n",
       "  </tbody>\n",
       "</table>\n",
       "</div>"
      ],
      "text/plain": [
       "    PANEL_NAME                           LAB_TEST_NAME  COUNTS\n",
       "0  CBC_Results             CD16 positive/CD56 positive     235\n",
       "1  CBC_Results  CD16 positive/CD56 positive percentage     235\n",
       "2  CBC_Results                     CD19 positive cells     235\n",
       "3  CBC_Results          CD19 positive cells percentage     235\n",
       "4  CBC_Results                      CD3 positive cells     235\n",
       "5  CBC_Results           CD3 positive cells percentage     235\n",
       "6  CBC_Results                      CD4 positive cells     235\n",
       "7  CBC_Results           CD4 positive cells percentage     235\n",
       "8  CBC_Results                      CD8 positive cells     235\n",
       "9  CBC_Results           CD8 positive cells percentage     235"
      ]
     },
     "execution_count": 20,
     "metadata": {},
     "output_type": "execute_result"
    }
   ],
   "source": [
    "labtest_panels = lab_test_panels_by_study('SDY4',lab_tests)\n",
    "print(labtest_panels.shape)\n",
    "labtest_panels.head(10)"
   ]
  },
  {
   "cell_type": "code",
   "execution_count": 21,
   "metadata": {
    "collapsed": true
   },
   "outputs": [],
   "source": [
    "pd.reset_option(\"display.max_rows\")\n",
    "pd.reset_option(\"display.max_colwidth\")"
   ]
  },
  {
   "cell_type": "markdown",
   "metadata": {},
   "source": [
    "# Long and Narrow vs Short and Wide\n",
    "\n",
    "The information in the **assessments** and **labtests** DataFrame is in a format sometimes referred to as Long and Narrow, this means each row contains one row for each subject and value, but in order to do analysis we would like to **pivot** the data based on columns like **subject_accession**, **study_time_collected**, etc. so the data is in  more of a tabluar format, much like an Excel spreadsheet.\n",
    "\n",
    "If you Google terms like \"pivot tables python\", \"reshape data long to wide\", or \"long vs wide format\", there\n",
    "are plenty of examples what this means with respect to data analysis.\n",
    "\n",
    "So for the next part of this tutorial, we will show examples of pivoting the original DataFrame into the wide\n",
    "format. There are many different ways to arrive at the final wide format and these are only examples of a few\n",
    "methods.\n",
    "\n",
    "# Treatment of Null Values\n",
    "\n",
    "How you treat null values in a data set varies widely and depends on your final analysis goals. For this tutorial\n",
    "we will gloss over the problem of nulls, so these are NOT good examples of how to handle null values."
   ]
  },
  {
   "cell_type": "markdown",
   "metadata": {},
   "source": [
    "# Example Preparing CBC_Results for SDY4\n",
    "\n",
    "## Extract CBC Results for SDY4"
   ]
  },
  {
   "cell_type": "code",
   "execution_count": 22,
   "metadata": {},
   "outputs": [
    {
     "name": "stdout",
     "output_type": "stream",
     "text": [
      "Index(['LAB_TEST_PANEL_ACCESSION', 'PANEL_NAME', 'STUDY_ACCESSION',\n",
      "       'BIOSAMPLE_ACCESSION', 'LAB_TEST_NAME', 'RESULT_VALUE_PREFERRED',\n",
      "       'RESULT_VALUE_REPORTED', 'RESULT_UNIT_REPORTED', 'SUBJECT_ACCESSION',\n",
      "       'PLANNED_VISIT_ACCESSION', 'STUDY_TIME_COLLECTED', 'ARM_ACCESSION'],\n",
      "      dtype='object')\n",
      "(5875, 12)\n"
     ]
    },
    {
     "data": {
      "text/html": [
       "<div>\n",
       "<style scoped>\n",
       "    .dataframe tbody tr th:only-of-type {\n",
       "        vertical-align: middle;\n",
       "    }\n",
       "\n",
       "    .dataframe tbody tr th {\n",
       "        vertical-align: top;\n",
       "    }\n",
       "\n",
       "    .dataframe thead th {\n",
       "        text-align: right;\n",
       "    }\n",
       "</style>\n",
       "<table border=\"1\" class=\"dataframe\">\n",
       "  <thead>\n",
       "    <tr style=\"text-align: right;\">\n",
       "      <th></th>\n",
       "      <th>LAB_TEST_PANEL_ACCESSION</th>\n",
       "      <th>PANEL_NAME</th>\n",
       "      <th>STUDY_ACCESSION</th>\n",
       "      <th>BIOSAMPLE_ACCESSION</th>\n",
       "      <th>LAB_TEST_NAME</th>\n",
       "      <th>RESULT_VALUE_PREFERRED</th>\n",
       "      <th>RESULT_VALUE_REPORTED</th>\n",
       "      <th>RESULT_UNIT_REPORTED</th>\n",
       "      <th>SUBJECT_ACCESSION</th>\n",
       "      <th>PLANNED_VISIT_ACCESSION</th>\n",
       "      <th>STUDY_TIME_COLLECTED</th>\n",
       "      <th>ARM_ACCESSION</th>\n",
       "    </tr>\n",
       "  </thead>\n",
       "  <tbody>\n",
       "    <tr>\n",
       "      <th>0</th>\n",
       "      <td>LP2009</td>\n",
       "      <td>CBC_Results</td>\n",
       "      <td>SDY4</td>\n",
       "      <td>BS389803</td>\n",
       "      <td>HLA-DR positive/CDR4 positive</td>\n",
       "      <td>28.0</td>\n",
       "      <td>28 cells/cubic cm</td>\n",
       "      <td>cells/cubic cm</td>\n",
       "      <td>SUB108049</td>\n",
       "      <td>PV1530</td>\n",
       "      <td>1.0</td>\n",
       "      <td>ARM244</td>\n",
       "    </tr>\n",
       "    <tr>\n",
       "      <th>1</th>\n",
       "      <td>LP2009</td>\n",
       "      <td>CBC_Results</td>\n",
       "      <td>SDY4</td>\n",
       "      <td>BS389803</td>\n",
       "      <td>CD19 positive cells</td>\n",
       "      <td>42.0</td>\n",
       "      <td>42 cells/cubic cm</td>\n",
       "      <td>cells/cubic cm</td>\n",
       "      <td>SUB108049</td>\n",
       "      <td>PV1530</td>\n",
       "      <td>1.0</td>\n",
       "      <td>ARM244</td>\n",
       "    </tr>\n",
       "    <tr>\n",
       "      <th>2</th>\n",
       "      <td>LP2009</td>\n",
       "      <td>CBC_Results</td>\n",
       "      <td>SDY4</td>\n",
       "      <td>BS389803</td>\n",
       "      <td>Ratio Part 2</td>\n",
       "      <td>31.0</td>\n",
       "      <td>31</td>\n",
       "      <td>NaN</td>\n",
       "      <td>SUB108049</td>\n",
       "      <td>PV1530</td>\n",
       "      <td>1.0</td>\n",
       "      <td>ARM244</td>\n",
       "    </tr>\n",
       "    <tr>\n",
       "      <th>3</th>\n",
       "      <td>LP2009</td>\n",
       "      <td>CBC_Results</td>\n",
       "      <td>SDY4</td>\n",
       "      <td>BS389803</td>\n",
       "      <td>CD3 positive cells percentage</td>\n",
       "      <td>70.0</td>\n",
       "      <td>70%</td>\n",
       "      <td>%</td>\n",
       "      <td>SUB108049</td>\n",
       "      <td>PV1530</td>\n",
       "      <td>1.0</td>\n",
       "      <td>ARM244</td>\n",
       "    </tr>\n",
       "    <tr>\n",
       "      <th>4</th>\n",
       "      <td>LP2009</td>\n",
       "      <td>CBC_Results</td>\n",
       "      <td>SDY4</td>\n",
       "      <td>BS389803</td>\n",
       "      <td>HLA-DR positive/CDR4 positive percentage</td>\n",
       "      <td>2.0</td>\n",
       "      <td>2%</td>\n",
       "      <td>%</td>\n",
       "      <td>SUB108049</td>\n",
       "      <td>PV1530</td>\n",
       "      <td>1.0</td>\n",
       "      <td>ARM244</td>\n",
       "    </tr>\n",
       "    <tr>\n",
       "      <th>5</th>\n",
       "      <td>LP2009</td>\n",
       "      <td>CBC_Results</td>\n",
       "      <td>SDY4</td>\n",
       "      <td>BS389803</td>\n",
       "      <td>CD8 positive cells</td>\n",
       "      <td>405.0</td>\n",
       "      <td>405 cells/cubic cm</td>\n",
       "      <td>cells/cubic cm</td>\n",
       "      <td>SUB108049</td>\n",
       "      <td>PV1530</td>\n",
       "      <td>1.0</td>\n",
       "      <td>ARM244</td>\n",
       "    </tr>\n",
       "    <tr>\n",
       "      <th>6</th>\n",
       "      <td>LP2009</td>\n",
       "      <td>CBC_Results</td>\n",
       "      <td>SDY4</td>\n",
       "      <td>BS389803</td>\n",
       "      <td>Neutrophils percentage</td>\n",
       "      <td>69.0</td>\n",
       "      <td>69%</td>\n",
       "      <td>%</td>\n",
       "      <td>SUB108049</td>\n",
       "      <td>PV1530</td>\n",
       "      <td>1.0</td>\n",
       "      <td>ARM244</td>\n",
       "    </tr>\n",
       "    <tr>\n",
       "      <th>7</th>\n",
       "      <td>LP2009</td>\n",
       "      <td>CBC_Results</td>\n",
       "      <td>SDY4</td>\n",
       "      <td>BS389803</td>\n",
       "      <td>CD4 positive cells percentage</td>\n",
       "      <td>38.0</td>\n",
       "      <td>38%</td>\n",
       "      <td>%</td>\n",
       "      <td>SUB108049</td>\n",
       "      <td>PV1530</td>\n",
       "      <td>1.0</td>\n",
       "      <td>ARM244</td>\n",
       "    </tr>\n",
       "    <tr>\n",
       "      <th>8</th>\n",
       "      <td>LP2009</td>\n",
       "      <td>CBC_Results</td>\n",
       "      <td>SDY4</td>\n",
       "      <td>BS389803</td>\n",
       "      <td>Lymphocytes</td>\n",
       "      <td>1395.0</td>\n",
       "      <td>1395 cells/cubic cm</td>\n",
       "      <td>cells/cubic cm</td>\n",
       "      <td>SUB108049</td>\n",
       "      <td>PV1530</td>\n",
       "      <td>1.0</td>\n",
       "      <td>ARM244</td>\n",
       "    </tr>\n",
       "    <tr>\n",
       "      <th>9</th>\n",
       "      <td>LP2009</td>\n",
       "      <td>CBC_Results</td>\n",
       "      <td>SDY4</td>\n",
       "      <td>BS389803</td>\n",
       "      <td>Eosinophils</td>\n",
       "      <td>56.0</td>\n",
       "      <td>56 cells/cubic cm</td>\n",
       "      <td>cells/cubic cm</td>\n",
       "      <td>SUB108049</td>\n",
       "      <td>PV1530</td>\n",
       "      <td>1.0</td>\n",
       "      <td>ARM244</td>\n",
       "    </tr>\n",
       "  </tbody>\n",
       "</table>\n",
       "</div>"
      ],
      "text/plain": [
       "  LAB_TEST_PANEL_ACCESSION   PANEL_NAME STUDY_ACCESSION BIOSAMPLE_ACCESSION  \\\n",
       "0                   LP2009  CBC_Results            SDY4            BS389803   \n",
       "1                   LP2009  CBC_Results            SDY4            BS389803   \n",
       "2                   LP2009  CBC_Results            SDY4            BS389803   \n",
       "3                   LP2009  CBC_Results            SDY4            BS389803   \n",
       "4                   LP2009  CBC_Results            SDY4            BS389803   \n",
       "5                   LP2009  CBC_Results            SDY4            BS389803   \n",
       "6                   LP2009  CBC_Results            SDY4            BS389803   \n",
       "7                   LP2009  CBC_Results            SDY4            BS389803   \n",
       "8                   LP2009  CBC_Results            SDY4            BS389803   \n",
       "9                   LP2009  CBC_Results            SDY4            BS389803   \n",
       "\n",
       "                              LAB_TEST_NAME  RESULT_VALUE_PREFERRED  \\\n",
       "0             HLA-DR positive/CDR4 positive                    28.0   \n",
       "1                       CD19 positive cells                    42.0   \n",
       "2                              Ratio Part 2                    31.0   \n",
       "3             CD3 positive cells percentage                    70.0   \n",
       "4  HLA-DR positive/CDR4 positive percentage                     2.0   \n",
       "5                        CD8 positive cells                   405.0   \n",
       "6                    Neutrophils percentage                    69.0   \n",
       "7             CD4 positive cells percentage                    38.0   \n",
       "8                               Lymphocytes                  1395.0   \n",
       "9                               Eosinophils                    56.0   \n",
       "\n",
       "  RESULT_VALUE_REPORTED RESULT_UNIT_REPORTED SUBJECT_ACCESSION  \\\n",
       "0     28 cells/cubic cm       cells/cubic cm         SUB108049   \n",
       "1     42 cells/cubic cm       cells/cubic cm         SUB108049   \n",
       "2                    31                  NaN         SUB108049   \n",
       "3                   70%                    %         SUB108049   \n",
       "4                    2%                    %         SUB108049   \n",
       "5    405 cells/cubic cm       cells/cubic cm         SUB108049   \n",
       "6                   69%                    %         SUB108049   \n",
       "7                   38%                    %         SUB108049   \n",
       "8   1395 cells/cubic cm       cells/cubic cm         SUB108049   \n",
       "9     56 cells/cubic cm       cells/cubic cm         SUB108049   \n",
       "\n",
       "  PLANNED_VISIT_ACCESSION  STUDY_TIME_COLLECTED ARM_ACCESSION  \n",
       "0                  PV1530                   1.0        ARM244  \n",
       "1                  PV1530                   1.0        ARM244  \n",
       "2                  PV1530                   1.0        ARM244  \n",
       "3                  PV1530                   1.0        ARM244  \n",
       "4                  PV1530                   1.0        ARM244  \n",
       "5                  PV1530                   1.0        ARM244  \n",
       "6                  PV1530                   1.0        ARM244  \n",
       "7                  PV1530                   1.0        ARM244  \n",
       "8                  PV1530                   1.0        ARM244  \n",
       "9                  PV1530                   1.0        ARM244  "
      ]
     },
     "execution_count": 22,
     "metadata": {},
     "output_type": "execute_result"
    }
   ],
   "source": [
    "SDY4_CBC_Results = lab_tests[(lab_tests['STUDY_ACCESSION'] == 'SDY4') &\n",
    "                             (lab_tests['PANEL_NAME'] == 'CBC_Results')]\n",
    "print(SDY4_CBC_Results.columns)\n",
    "print(SDY4_CBC_Results.shape)\n",
    "SDY4_CBC_Results = SDY4_CBC_Results.reset_index(drop=True)\n",
    "SDY4_CBC_Results.head(10)"
   ]
  },
  {
   "cell_type": "markdown",
   "metadata": {},
   "source": [
    "## Review Results\n",
    "\n",
    "The code below was used to identify that all the results were captured for a single time point, show the \n",
    "distribution of results by ARM, and preliminarly check that each subject has the same number of lab tests.\n",
    "\n",
    "The results below indicate the data makes sense. If you look at the number of each subject in each Arm the\n",
    "counts per Arm look okay.\n",
    "\n",
    "| ARM | Name | Subject | Description |\n",
    "| --- | ---- | ------- | ----------- |\n",
    "| ARM241 | AD+ Acute EH+HSV+ | 21 | AD Subjects with acute Eczema Herpeticum and recurrent herpes simplex virus to follow-up 4-12 weeks after baseline. |\n",
    "| ARM242 | AD+ with history of EH+ HSV+ | 31 | AD Subjects with history of Eczema Herpeticum and recurrent herpes simplex virus. |\n",
    "| ARM243 | AD+ EH- HSV+\t| 61 | AD Subjects without Eczema Herpeticum but with recurrent herpes simplex virus. |\n",
    "| ARM244 | AD+ EH- HSV- | 61 | AD Subjects with no history of Eczema Herpeticum and no recurrent herpes simplex virus. |\n",
    "| ARM245 | Healthy controls | 61 | Non-AD (healthy volunteers). |"
   ]
  },
  {
   "cell_type": "code",
   "execution_count": 23,
   "metadata": {},
   "outputs": [
    {
     "name": "stdout",
     "output_type": "stream",
     "text": [
      "1.0    5875\n",
      "Name: STUDY_TIME_COLLECTED, dtype: int64\n",
      "ARM243    1525\n",
      "ARM244    1525\n",
      "ARM245    1525\n",
      "ARM242     775\n",
      "ARM241     525\n",
      "Name: ARM_ACCESSION, dtype: int64\n"
     ]
    }
   ],
   "source": [
    "print(SDY4_CBC_Results['STUDY_TIME_COLLECTED'].value_counts())\n",
    "print(SDY4_CBC_Results['ARM_ACCESSION'].value_counts())\n",
    "# print(SDY4_CBC_Results['SUBJECT_ACCESSION'].value_counts())"
   ]
  },
  {
   "cell_type": "markdown",
   "metadata": {},
   "source": [
    "## Look for Null's, Check Column DataType\n",
    "\n",
    "For this example we will be using the RESULT_VALUE_PREFERRED column, so first we check for nulls and we \n",
    "want to make sure the column contains Float values."
   ]
  },
  {
   "cell_type": "code",
   "execution_count": 24,
   "metadata": {},
   "outputs": [
    {
     "name": "stdout",
     "output_type": "stream",
     "text": [
      "Number of Rows with Null values\n",
      "===============================\n",
      "1\n",
      "\n",
      "DataType of the column\n",
      "===============================\n",
      "float64\n"
     ]
    }
   ],
   "source": [
    "print(\"Number of Rows with Null values\")\n",
    "print(\"===============================\")\n",
    "print(SDY4_CBC_Results['RESULT_VALUE_PREFERRED'].isnull().sum())\n",
    "print(\"\")\n",
    "print(\"DataType of the column\")\n",
    "print(\"===============================\")\n",
    "print(SDY4_CBC_Results['RESULT_VALUE_PREFERRED'].dtype)"
   ]
  },
  {
   "cell_type": "markdown",
   "metadata": {},
   "source": [
    "## Treament of Null Value\n",
    "\n",
    "Based on our data exploration above we noticed one row where the RESULT_VALUE_PREFERRED was NaN. In ImmPort the\n",
    "RESULT_VALUE_PREFFERED column is populated by transforming the RESULT_VALUE_REPORTED column into the proper\n",
    "data type. In this case (refer to row below), it looks like the RESULT_VALUE_REPORTED was not entered properly, so the RESULT_VALUE_PREFERRED could not be populated.\n",
    "\n",
    "To assign the missing value, we will take the mean of all the other rows for this ARM and LAB_TEST. Then assign\n",
    "this value to the missing value. Remember this may not be to correct way to assign this missing value, it is\n",
    "only one way to handle the missing value."
   ]
  },
  {
   "cell_type": "code",
   "execution_count": 25,
   "metadata": {},
   "outputs": [
    {
     "data": {
      "text/html": [
       "<div>\n",
       "<style scoped>\n",
       "    .dataframe tbody tr th:only-of-type {\n",
       "        vertical-align: middle;\n",
       "    }\n",
       "\n",
       "    .dataframe tbody tr th {\n",
       "        vertical-align: top;\n",
       "    }\n",
       "\n",
       "    .dataframe thead th {\n",
       "        text-align: right;\n",
       "    }\n",
       "</style>\n",
       "<table border=\"1\" class=\"dataframe\">\n",
       "  <thead>\n",
       "    <tr style=\"text-align: right;\">\n",
       "      <th></th>\n",
       "      <th>LAB_TEST_PANEL_ACCESSION</th>\n",
       "      <th>PANEL_NAME</th>\n",
       "      <th>STUDY_ACCESSION</th>\n",
       "      <th>BIOSAMPLE_ACCESSION</th>\n",
       "      <th>LAB_TEST_NAME</th>\n",
       "      <th>RESULT_VALUE_PREFERRED</th>\n",
       "      <th>RESULT_VALUE_REPORTED</th>\n",
       "      <th>RESULT_UNIT_REPORTED</th>\n",
       "      <th>SUBJECT_ACCESSION</th>\n",
       "      <th>PLANNED_VISIT_ACCESSION</th>\n",
       "      <th>STUDY_TIME_COLLECTED</th>\n",
       "      <th>ARM_ACCESSION</th>\n",
       "    </tr>\n",
       "  </thead>\n",
       "  <tbody>\n",
       "    <tr>\n",
       "      <th>5376</th>\n",
       "      <td>LP2009</td>\n",
       "      <td>CBC_Results</td>\n",
       "      <td>SDY4</td>\n",
       "      <td>BS389953</td>\n",
       "      <td>CD19 positive cells</td>\n",
       "      <td>NaN</td>\n",
       "      <td>. cells/cubic cm</td>\n",
       "      <td>cells/cubic cm</td>\n",
       "      <td>SUB108074</td>\n",
       "      <td>PV1530</td>\n",
       "      <td>1.0</td>\n",
       "      <td>ARM245</td>\n",
       "    </tr>\n",
       "  </tbody>\n",
       "</table>\n",
       "</div>"
      ],
      "text/plain": [
       "     LAB_TEST_PANEL_ACCESSION   PANEL_NAME STUDY_ACCESSION  \\\n",
       "5376                   LP2009  CBC_Results            SDY4   \n",
       "\n",
       "     BIOSAMPLE_ACCESSION        LAB_TEST_NAME  RESULT_VALUE_PREFERRED  \\\n",
       "5376            BS389953  CD19 positive cells                     NaN   \n",
       "\n",
       "     RESULT_VALUE_REPORTED RESULT_UNIT_REPORTED SUBJECT_ACCESSION  \\\n",
       "5376      . cells/cubic cm       cells/cubic cm         SUB108074   \n",
       "\n",
       "     PLANNED_VISIT_ACCESSION  STUDY_TIME_COLLECTED ARM_ACCESSION  \n",
       "5376                  PV1530                   1.0        ARM245  "
      ]
     },
     "execution_count": 25,
     "metadata": {},
     "output_type": "execute_result"
    }
   ],
   "source": [
    "SDY4_CBC_Results[SDY4_CBC_Results['RESULT_VALUE_PREFERRED'].isnull()]"
   ]
  },
  {
   "cell_type": "code",
   "execution_count": 26,
   "metadata": {},
   "outputs": [
    {
     "data": {
      "text/plain": [
       "LAB_TEST_PANEL_ACCESSION                 LP2009\n",
       "PANEL_NAME                          CBC_Results\n",
       "STUDY_ACCESSION                            SDY4\n",
       "BIOSAMPLE_ACCESSION                    BS389953\n",
       "LAB_TEST_NAME               CD19 positive cells\n",
       "RESULT_VALUE_PREFERRED                      NaN\n",
       "RESULT_VALUE_REPORTED          . cells/cubic cm\n",
       "RESULT_UNIT_REPORTED             cells/cubic cm\n",
       "SUBJECT_ACCESSION                     SUB108074\n",
       "PLANNED_VISIT_ACCESSION                  PV1530\n",
       "STUDY_TIME_COLLECTED                          1\n",
       "ARM_ACCESSION                            ARM245\n",
       "Name: 5376, dtype: object"
      ]
     },
     "execution_count": 26,
     "metadata": {},
     "output_type": "execute_result"
    }
   ],
   "source": [
    "SDY4_CBC_Results.iloc[5376,:]"
   ]
  },
  {
   "cell_type": "code",
   "execution_count": 27,
   "metadata": {},
   "outputs": [
    {
     "data": {
      "text/plain": [
       "185.98333333333332"
      ]
     },
     "execution_count": 27,
     "metadata": {},
     "output_type": "execute_result"
    }
   ],
   "source": [
    "mean_value = SDY4_CBC_Results[(SDY4_CBC_Results['ARM_ACCESSION']=='ARM245') &\n",
    "            (SDY4_CBC_Results['LAB_TEST_NAME']=='CD19 positive cells')]['RESULT_VALUE_PREFERRED'].mean()\n",
    "mean_value"
   ]
  },
  {
   "cell_type": "code",
   "execution_count": 28,
   "metadata": {
    "collapsed": true
   },
   "outputs": [],
   "source": [
    "SDY4_CBC_Results.loc[5376,'RESULT_VALUE_PREFERRED'] = 186.0"
   ]
  },
  {
   "cell_type": "code",
   "execution_count": 29,
   "metadata": {},
   "outputs": [
    {
     "data": {
      "text/plain": [
       "LAB_TEST_PANEL_ACCESSION                 LP2009\n",
       "PANEL_NAME                          CBC_Results\n",
       "STUDY_ACCESSION                            SDY4\n",
       "BIOSAMPLE_ACCESSION                    BS389953\n",
       "LAB_TEST_NAME               CD19 positive cells\n",
       "RESULT_VALUE_PREFERRED                      186\n",
       "RESULT_VALUE_REPORTED          . cells/cubic cm\n",
       "RESULT_UNIT_REPORTED             cells/cubic cm\n",
       "SUBJECT_ACCESSION                     SUB108074\n",
       "PLANNED_VISIT_ACCESSION                  PV1530\n",
       "STUDY_TIME_COLLECTED                          1\n",
       "ARM_ACCESSION                            ARM245\n",
       "Name: 5376, dtype: object"
      ]
     },
     "execution_count": 29,
     "metadata": {},
     "output_type": "execute_result"
    }
   ],
   "source": [
    "SDY4_CBC_Results.iloc[5376,:]"
   ]
  },
  {
   "cell_type": "code",
   "execution_count": 30,
   "metadata": {},
   "outputs": [
    {
     "data": {
      "text/html": [
       "<div>\n",
       "<style scoped>\n",
       "    .dataframe tbody tr th:only-of-type {\n",
       "        vertical-align: middle;\n",
       "    }\n",
       "\n",
       "    .dataframe tbody tr th {\n",
       "        vertical-align: top;\n",
       "    }\n",
       "\n",
       "    .dataframe thead th {\n",
       "        text-align: right;\n",
       "    }\n",
       "</style>\n",
       "<table border=\"1\" class=\"dataframe\">\n",
       "  <thead>\n",
       "    <tr style=\"text-align: right;\">\n",
       "      <th></th>\n",
       "      <th>LAB_TEST_PANEL_ACCESSION</th>\n",
       "      <th>PANEL_NAME</th>\n",
       "      <th>STUDY_ACCESSION</th>\n",
       "      <th>BIOSAMPLE_ACCESSION</th>\n",
       "      <th>LAB_TEST_NAME</th>\n",
       "      <th>RESULT_VALUE_PREFERRED</th>\n",
       "      <th>RESULT_VALUE_REPORTED</th>\n",
       "      <th>RESULT_UNIT_REPORTED</th>\n",
       "      <th>SUBJECT_ACCESSION</th>\n",
       "      <th>PLANNED_VISIT_ACCESSION</th>\n",
       "      <th>STUDY_TIME_COLLECTED</th>\n",
       "      <th>ARM_ACCESSION</th>\n",
       "    </tr>\n",
       "  </thead>\n",
       "  <tbody>\n",
       "  </tbody>\n",
       "</table>\n",
       "</div>"
      ],
      "text/plain": [
       "Empty DataFrame\n",
       "Columns: [LAB_TEST_PANEL_ACCESSION, PANEL_NAME, STUDY_ACCESSION, BIOSAMPLE_ACCESSION, LAB_TEST_NAME, RESULT_VALUE_PREFERRED, RESULT_VALUE_REPORTED, RESULT_UNIT_REPORTED, SUBJECT_ACCESSION, PLANNED_VISIT_ACCESSION, STUDY_TIME_COLLECTED, ARM_ACCESSION]\n",
       "Index: []"
      ]
     },
     "execution_count": 30,
     "metadata": {},
     "output_type": "execute_result"
    }
   ],
   "source": [
    "SDY4_CBC_Results[SDY4_CBC_Results['RESULT_VALUE_PREFERRED'].isnull()]"
   ]
  },
  {
   "cell_type": "markdown",
   "metadata": {},
   "source": [
    "## Convert from Long/Narrow to Short Wide"
   ]
  },
  {
   "cell_type": "code",
   "execution_count": 31,
   "metadata": {},
   "outputs": [
    {
     "data": {
      "text/html": [
       "<div>\n",
       "<style scoped>\n",
       "    .dataframe tbody tr th:only-of-type {\n",
       "        vertical-align: middle;\n",
       "    }\n",
       "\n",
       "    .dataframe tbody tr th {\n",
       "        vertical-align: top;\n",
       "    }\n",
       "\n",
       "    .dataframe thead tr th {\n",
       "        text-align: left;\n",
       "    }\n",
       "\n",
       "    .dataframe thead tr:last-of-type th {\n",
       "        text-align: right;\n",
       "    }\n",
       "</style>\n",
       "<table border=\"1\" class=\"dataframe\">\n",
       "  <thead>\n",
       "    <tr>\n",
       "      <th></th>\n",
       "      <th></th>\n",
       "      <th colspan=\"21\" halign=\"left\">RESULT_VALUE_PREFERRED</th>\n",
       "    </tr>\n",
       "    <tr>\n",
       "      <th></th>\n",
       "      <th>LAB_TEST_NAME</th>\n",
       "      <th>CD16 positive/CD56 positive</th>\n",
       "      <th>CD16 positive/CD56 positive percentage</th>\n",
       "      <th>CD19 positive cells</th>\n",
       "      <th>CD19 positive cells percentage</th>\n",
       "      <th>CD3 positive cells</th>\n",
       "      <th>CD3 positive cells percentage</th>\n",
       "      <th>CD4 positive cells</th>\n",
       "      <th>CD4 positive cells percentage</th>\n",
       "      <th>CD8 positive cells</th>\n",
       "      <th>CD8 positive cells percentage</th>\n",
       "      <th>...</th>\n",
       "      <th>HLA-DR positive/CDR8 positive percentage</th>\n",
       "      <th>Leukocytes</th>\n",
       "      <th>Lymphocytes</th>\n",
       "      <th>Lymphocytes percentage</th>\n",
       "      <th>Monocytes</th>\n",
       "      <th>Monocytes percentage</th>\n",
       "      <th>Neutrophils</th>\n",
       "      <th>Neutrophils percentage</th>\n",
       "      <th>Ratio Part 1</th>\n",
       "      <th>Ratio Part 2</th>\n",
       "    </tr>\n",
       "    <tr>\n",
       "      <th>SUBJECT_ACCESSION</th>\n",
       "      <th>ARM_ACCESSION</th>\n",
       "      <th></th>\n",
       "      <th></th>\n",
       "      <th></th>\n",
       "      <th></th>\n",
       "      <th></th>\n",
       "      <th></th>\n",
       "      <th></th>\n",
       "      <th></th>\n",
       "      <th></th>\n",
       "      <th></th>\n",
       "      <th></th>\n",
       "      <th></th>\n",
       "      <th></th>\n",
       "      <th></th>\n",
       "      <th></th>\n",
       "      <th></th>\n",
       "      <th></th>\n",
       "      <th></th>\n",
       "      <th></th>\n",
       "      <th></th>\n",
       "      <th></th>\n",
       "    </tr>\n",
       "  </thead>\n",
       "  <tbody>\n",
       "    <tr>\n",
       "      <th>SUB107975</th>\n",
       "      <th>ARM244</th>\n",
       "      <td>207.0</td>\n",
       "      <td>13.0</td>\n",
       "      <td>238.0</td>\n",
       "      <td>15.0</td>\n",
       "      <td>970.0</td>\n",
       "      <td>61.0</td>\n",
       "      <td>636.0</td>\n",
       "      <td>40.0</td>\n",
       "      <td>302.0</td>\n",
       "      <td>19.0</td>\n",
       "      <td>...</td>\n",
       "      <td>9.0</td>\n",
       "      <td>8830.0</td>\n",
       "      <td>1589.0</td>\n",
       "      <td>18.0</td>\n",
       "      <td>353.0</td>\n",
       "      <td>4.0</td>\n",
       "      <td>6181.0</td>\n",
       "      <td>70.0</td>\n",
       "      <td>2.0</td>\n",
       "      <td>11.0</td>\n",
       "    </tr>\n",
       "    <tr>\n",
       "      <th>SUB107976</th>\n",
       "      <th>ARM245</th>\n",
       "      <td>285.0</td>\n",
       "      <td>15.0</td>\n",
       "      <td>304.0</td>\n",
       "      <td>16.0</td>\n",
       "      <td>1083.0</td>\n",
       "      <td>57.0</td>\n",
       "      <td>760.0</td>\n",
       "      <td>40.0</td>\n",
       "      <td>285.0</td>\n",
       "      <td>15.0</td>\n",
       "      <td>...</td>\n",
       "      <td>1.0</td>\n",
       "      <td>6550.0</td>\n",
       "      <td>1900.0</td>\n",
       "      <td>29.0</td>\n",
       "      <td>393.0</td>\n",
       "      <td>6.0</td>\n",
       "      <td>4192.0</td>\n",
       "      <td>64.0</td>\n",
       "      <td>2.0</td>\n",
       "      <td>67.0</td>\n",
       "    </tr>\n",
       "    <tr>\n",
       "      <th>SUB107977</th>\n",
       "      <th>ARM245</th>\n",
       "      <td>86.0</td>\n",
       "      <td>5.0</td>\n",
       "      <td>104.0</td>\n",
       "      <td>6.0</td>\n",
       "      <td>1261.0</td>\n",
       "      <td>73.0</td>\n",
       "      <td>829.0</td>\n",
       "      <td>48.0</td>\n",
       "      <td>380.0</td>\n",
       "      <td>22.0</td>\n",
       "      <td>...</td>\n",
       "      <td>1.0</td>\n",
       "      <td>5760.0</td>\n",
       "      <td>1728.0</td>\n",
       "      <td>30.0</td>\n",
       "      <td>230.0</td>\n",
       "      <td>4.0</td>\n",
       "      <td>3686.0</td>\n",
       "      <td>64.0</td>\n",
       "      <td>2.0</td>\n",
       "      <td>18.0</td>\n",
       "    </tr>\n",
       "    <tr>\n",
       "      <th>SUB107978</th>\n",
       "      <th>ARM243</th>\n",
       "      <td>471.0</td>\n",
       "      <td>29.0</td>\n",
       "      <td>16.0</td>\n",
       "      <td>1.0</td>\n",
       "      <td>796.0</td>\n",
       "      <td>49.0</td>\n",
       "      <td>244.0</td>\n",
       "      <td>15.0</td>\n",
       "      <td>536.0</td>\n",
       "      <td>33.0</td>\n",
       "      <td>...</td>\n",
       "      <td>30.0</td>\n",
       "      <td>6020.0</td>\n",
       "      <td>1625.0</td>\n",
       "      <td>27.0</td>\n",
       "      <td>542.0</td>\n",
       "      <td>9.0</td>\n",
       "      <td>3672.0</td>\n",
       "      <td>61.0</td>\n",
       "      <td>0.0</td>\n",
       "      <td>45.0</td>\n",
       "    </tr>\n",
       "    <tr>\n",
       "      <th>SUB107979</th>\n",
       "      <th>ARM242</th>\n",
       "      <td>172.0</td>\n",
       "      <td>13.0</td>\n",
       "      <td>172.0</td>\n",
       "      <td>13.0</td>\n",
       "      <td>821.0</td>\n",
       "      <td>62.0</td>\n",
       "      <td>596.0</td>\n",
       "      <td>45.0</td>\n",
       "      <td>225.0</td>\n",
       "      <td>17.0</td>\n",
       "      <td>...</td>\n",
       "      <td>2.0</td>\n",
       "      <td>5520.0</td>\n",
       "      <td>1325.0</td>\n",
       "      <td>24.0</td>\n",
       "      <td>386.0</td>\n",
       "      <td>7.0</td>\n",
       "      <td>3698.0</td>\n",
       "      <td>67.0</td>\n",
       "      <td>2.0</td>\n",
       "      <td>65.0</td>\n",
       "    </tr>\n",
       "  </tbody>\n",
       "</table>\n",
       "<p>5 rows × 25 columns</p>\n",
       "</div>"
      ],
      "text/plain": [
       "                                     RESULT_VALUE_PREFERRED  \\\n",
       "LAB_TEST_NAME                   CD16 positive/CD56 positive   \n",
       "SUBJECT_ACCESSION ARM_ACCESSION                               \n",
       "SUB107975         ARM244                              207.0   \n",
       "SUB107976         ARM245                              285.0   \n",
       "SUB107977         ARM245                               86.0   \n",
       "SUB107978         ARM243                              471.0   \n",
       "SUB107979         ARM242                              172.0   \n",
       "\n",
       "                                                                        \\\n",
       "LAB_TEST_NAME                   CD16 positive/CD56 positive percentage   \n",
       "SUBJECT_ACCESSION ARM_ACCESSION                                          \n",
       "SUB107975         ARM244                                          13.0   \n",
       "SUB107976         ARM245                                          15.0   \n",
       "SUB107977         ARM245                                           5.0   \n",
       "SUB107978         ARM243                                          29.0   \n",
       "SUB107979         ARM242                                          13.0   \n",
       "\n",
       "                                                     \\\n",
       "LAB_TEST_NAME                   CD19 positive cells   \n",
       "SUBJECT_ACCESSION ARM_ACCESSION                       \n",
       "SUB107975         ARM244                      238.0   \n",
       "SUB107976         ARM245                      304.0   \n",
       "SUB107977         ARM245                      104.0   \n",
       "SUB107978         ARM243                       16.0   \n",
       "SUB107979         ARM242                      172.0   \n",
       "\n",
       "                                                                \\\n",
       "LAB_TEST_NAME                   CD19 positive cells percentage   \n",
       "SUBJECT_ACCESSION ARM_ACCESSION                                  \n",
       "SUB107975         ARM244                                  15.0   \n",
       "SUB107976         ARM245                                  16.0   \n",
       "SUB107977         ARM245                                   6.0   \n",
       "SUB107978         ARM243                                   1.0   \n",
       "SUB107979         ARM242                                  13.0   \n",
       "\n",
       "                                                    \\\n",
       "LAB_TEST_NAME                   CD3 positive cells   \n",
       "SUBJECT_ACCESSION ARM_ACCESSION                      \n",
       "SUB107975         ARM244                     970.0   \n",
       "SUB107976         ARM245                    1083.0   \n",
       "SUB107977         ARM245                    1261.0   \n",
       "SUB107978         ARM243                     796.0   \n",
       "SUB107979         ARM242                     821.0   \n",
       "\n",
       "                                                               \\\n",
       "LAB_TEST_NAME                   CD3 positive cells percentage   \n",
       "SUBJECT_ACCESSION ARM_ACCESSION                                 \n",
       "SUB107975         ARM244                                 61.0   \n",
       "SUB107976         ARM245                                 57.0   \n",
       "SUB107977         ARM245                                 73.0   \n",
       "SUB107978         ARM243                                 49.0   \n",
       "SUB107979         ARM242                                 62.0   \n",
       "\n",
       "                                                    \\\n",
       "LAB_TEST_NAME                   CD4 positive cells   \n",
       "SUBJECT_ACCESSION ARM_ACCESSION                      \n",
       "SUB107975         ARM244                     636.0   \n",
       "SUB107976         ARM245                     760.0   \n",
       "SUB107977         ARM245                     829.0   \n",
       "SUB107978         ARM243                     244.0   \n",
       "SUB107979         ARM242                     596.0   \n",
       "\n",
       "                                                               \\\n",
       "LAB_TEST_NAME                   CD4 positive cells percentage   \n",
       "SUBJECT_ACCESSION ARM_ACCESSION                                 \n",
       "SUB107975         ARM244                                 40.0   \n",
       "SUB107976         ARM245                                 40.0   \n",
       "SUB107977         ARM245                                 48.0   \n",
       "SUB107978         ARM243                                 15.0   \n",
       "SUB107979         ARM242                                 45.0   \n",
       "\n",
       "                                                    \\\n",
       "LAB_TEST_NAME                   CD8 positive cells   \n",
       "SUBJECT_ACCESSION ARM_ACCESSION                      \n",
       "SUB107975         ARM244                     302.0   \n",
       "SUB107976         ARM245                     285.0   \n",
       "SUB107977         ARM245                     380.0   \n",
       "SUB107978         ARM243                     536.0   \n",
       "SUB107979         ARM242                     225.0   \n",
       "\n",
       "                                                                  ...       \\\n",
       "LAB_TEST_NAME                   CD8 positive cells percentage     ...        \n",
       "SUBJECT_ACCESSION ARM_ACCESSION                                   ...        \n",
       "SUB107975         ARM244                                 19.0     ...        \n",
       "SUB107976         ARM245                                 15.0     ...        \n",
       "SUB107977         ARM245                                 22.0     ...        \n",
       "SUB107978         ARM243                                 33.0     ...        \n",
       "SUB107979         ARM242                                 17.0     ...        \n",
       "\n",
       "                                                                          \\\n",
       "LAB_TEST_NAME                   HLA-DR positive/CDR8 positive percentage   \n",
       "SUBJECT_ACCESSION ARM_ACCESSION                                            \n",
       "SUB107975         ARM244                                             9.0   \n",
       "SUB107976         ARM245                                             1.0   \n",
       "SUB107977         ARM245                                             1.0   \n",
       "SUB107978         ARM243                                            30.0   \n",
       "SUB107979         ARM242                                             2.0   \n",
       "\n",
       "                                                                               \\\n",
       "LAB_TEST_NAME                   Leukocytes Lymphocytes Lymphocytes percentage   \n",
       "SUBJECT_ACCESSION ARM_ACCESSION                                                 \n",
       "SUB107975         ARM244            8830.0      1589.0                   18.0   \n",
       "SUB107976         ARM245            6550.0      1900.0                   29.0   \n",
       "SUB107977         ARM245            5760.0      1728.0                   30.0   \n",
       "SUB107978         ARM243            6020.0      1625.0                   27.0   \n",
       "SUB107979         ARM242            5520.0      1325.0                   24.0   \n",
       "\n",
       "                                                                            \\\n",
       "LAB_TEST_NAME                   Monocytes Monocytes percentage Neutrophils   \n",
       "SUBJECT_ACCESSION ARM_ACCESSION                                              \n",
       "SUB107975         ARM244            353.0                  4.0      6181.0   \n",
       "SUB107976         ARM245            393.0                  6.0      4192.0   \n",
       "SUB107977         ARM245            230.0                  4.0      3686.0   \n",
       "SUB107978         ARM243            542.0                  9.0      3672.0   \n",
       "SUB107979         ARM242            386.0                  7.0      3698.0   \n",
       "\n",
       "                                                                     \\\n",
       "LAB_TEST_NAME                   Neutrophils percentage Ratio Part 1   \n",
       "SUBJECT_ACCESSION ARM_ACCESSION                                       \n",
       "SUB107975         ARM244                          70.0          2.0   \n",
       "SUB107976         ARM245                          64.0          2.0   \n",
       "SUB107977         ARM245                          64.0          2.0   \n",
       "SUB107978         ARM243                          61.0          0.0   \n",
       "SUB107979         ARM242                          67.0          2.0   \n",
       "\n",
       "                                              \n",
       "LAB_TEST_NAME                   Ratio Part 2  \n",
       "SUBJECT_ACCESSION ARM_ACCESSION               \n",
       "SUB107975         ARM244                11.0  \n",
       "SUB107976         ARM245                67.0  \n",
       "SUB107977         ARM245                18.0  \n",
       "SUB107978         ARM243                45.0  \n",
       "SUB107979         ARM242                65.0  \n",
       "\n",
       "[5 rows x 25 columns]"
      ]
     },
     "execution_count": 31,
     "metadata": {},
     "output_type": "execute_result"
    }
   ],
   "source": [
    "XX = SDY4_CBC_Results[['SUBJECT_ACCESSION','ARM_ACCESSION','LAB_TEST_NAME',\n",
    "                                          'RESULT_VALUE_PREFERRED']]\n",
    "XXX = XX.set_index(['SUBJECT_ACCESSION','ARM_ACCESSION']).copy()\n",
    "SDY4_CBC_Results_wide = XXX.pivot(columns='LAB_TEST_NAME')\n",
    "SDY4_CBC_Results_wide.head()"
   ]
  },
  {
   "cell_type": "code",
   "execution_count": 32,
   "metadata": {},
   "outputs": [
    {
     "data": {
      "text/html": [
       "<div>\n",
       "<style scoped>\n",
       "    .dataframe tbody tr th:only-of-type {\n",
       "        vertical-align: middle;\n",
       "    }\n",
       "\n",
       "    .dataframe tbody tr th {\n",
       "        vertical-align: top;\n",
       "    }\n",
       "\n",
       "    .dataframe thead th {\n",
       "        text-align: right;\n",
       "    }\n",
       "</style>\n",
       "<table border=\"1\" class=\"dataframe\">\n",
       "  <thead>\n",
       "    <tr style=\"text-align: right;\">\n",
       "      <th></th>\n",
       "      <th>Subject</th>\n",
       "      <th>ARM</th>\n",
       "      <th>CD16 positive/CD56 positive</th>\n",
       "      <th>CD16 positive/CD56 positive percentage</th>\n",
       "      <th>CD19 positive cells</th>\n",
       "      <th>CD19 positive cells percentage</th>\n",
       "      <th>CD3 positive cells</th>\n",
       "      <th>CD3 positive cells percentage</th>\n",
       "      <th>CD4 positive cells</th>\n",
       "      <th>CD4 positive cells percentage</th>\n",
       "      <th>...</th>\n",
       "      <th>HLA-DR positive/CDR8 positive percentage</th>\n",
       "      <th>Leukocytes</th>\n",
       "      <th>Lymphocytes</th>\n",
       "      <th>Lymphocytes percentage</th>\n",
       "      <th>Monocytes</th>\n",
       "      <th>Monocytes percentage</th>\n",
       "      <th>Neutrophils</th>\n",
       "      <th>Neutrophils percentage</th>\n",
       "      <th>Ratio Part 1</th>\n",
       "      <th>Ratio Part 2</th>\n",
       "    </tr>\n",
       "  </thead>\n",
       "  <tbody>\n",
       "    <tr>\n",
       "      <th>0</th>\n",
       "      <td>SUB107975</td>\n",
       "      <td>ARM244</td>\n",
       "      <td>207.0</td>\n",
       "      <td>13.0</td>\n",
       "      <td>238.0</td>\n",
       "      <td>15.0</td>\n",
       "      <td>970.0</td>\n",
       "      <td>61.0</td>\n",
       "      <td>636.0</td>\n",
       "      <td>40.0</td>\n",
       "      <td>...</td>\n",
       "      <td>9.0</td>\n",
       "      <td>8830.0</td>\n",
       "      <td>1589.0</td>\n",
       "      <td>18.0</td>\n",
       "      <td>353.0</td>\n",
       "      <td>4.0</td>\n",
       "      <td>6181.0</td>\n",
       "      <td>70.0</td>\n",
       "      <td>2.0</td>\n",
       "      <td>11.0</td>\n",
       "    </tr>\n",
       "    <tr>\n",
       "      <th>1</th>\n",
       "      <td>SUB107976</td>\n",
       "      <td>ARM245</td>\n",
       "      <td>285.0</td>\n",
       "      <td>15.0</td>\n",
       "      <td>304.0</td>\n",
       "      <td>16.0</td>\n",
       "      <td>1083.0</td>\n",
       "      <td>57.0</td>\n",
       "      <td>760.0</td>\n",
       "      <td>40.0</td>\n",
       "      <td>...</td>\n",
       "      <td>1.0</td>\n",
       "      <td>6550.0</td>\n",
       "      <td>1900.0</td>\n",
       "      <td>29.0</td>\n",
       "      <td>393.0</td>\n",
       "      <td>6.0</td>\n",
       "      <td>4192.0</td>\n",
       "      <td>64.0</td>\n",
       "      <td>2.0</td>\n",
       "      <td>67.0</td>\n",
       "    </tr>\n",
       "    <tr>\n",
       "      <th>2</th>\n",
       "      <td>SUB107977</td>\n",
       "      <td>ARM245</td>\n",
       "      <td>86.0</td>\n",
       "      <td>5.0</td>\n",
       "      <td>104.0</td>\n",
       "      <td>6.0</td>\n",
       "      <td>1261.0</td>\n",
       "      <td>73.0</td>\n",
       "      <td>829.0</td>\n",
       "      <td>48.0</td>\n",
       "      <td>...</td>\n",
       "      <td>1.0</td>\n",
       "      <td>5760.0</td>\n",
       "      <td>1728.0</td>\n",
       "      <td>30.0</td>\n",
       "      <td>230.0</td>\n",
       "      <td>4.0</td>\n",
       "      <td>3686.0</td>\n",
       "      <td>64.0</td>\n",
       "      <td>2.0</td>\n",
       "      <td>18.0</td>\n",
       "    </tr>\n",
       "    <tr>\n",
       "      <th>3</th>\n",
       "      <td>SUB107978</td>\n",
       "      <td>ARM243</td>\n",
       "      <td>471.0</td>\n",
       "      <td>29.0</td>\n",
       "      <td>16.0</td>\n",
       "      <td>1.0</td>\n",
       "      <td>796.0</td>\n",
       "      <td>49.0</td>\n",
       "      <td>244.0</td>\n",
       "      <td>15.0</td>\n",
       "      <td>...</td>\n",
       "      <td>30.0</td>\n",
       "      <td>6020.0</td>\n",
       "      <td>1625.0</td>\n",
       "      <td>27.0</td>\n",
       "      <td>542.0</td>\n",
       "      <td>9.0</td>\n",
       "      <td>3672.0</td>\n",
       "      <td>61.0</td>\n",
       "      <td>0.0</td>\n",
       "      <td>45.0</td>\n",
       "    </tr>\n",
       "    <tr>\n",
       "      <th>4</th>\n",
       "      <td>SUB107979</td>\n",
       "      <td>ARM242</td>\n",
       "      <td>172.0</td>\n",
       "      <td>13.0</td>\n",
       "      <td>172.0</td>\n",
       "      <td>13.0</td>\n",
       "      <td>821.0</td>\n",
       "      <td>62.0</td>\n",
       "      <td>596.0</td>\n",
       "      <td>45.0</td>\n",
       "      <td>...</td>\n",
       "      <td>2.0</td>\n",
       "      <td>5520.0</td>\n",
       "      <td>1325.0</td>\n",
       "      <td>24.0</td>\n",
       "      <td>386.0</td>\n",
       "      <td>7.0</td>\n",
       "      <td>3698.0</td>\n",
       "      <td>67.0</td>\n",
       "      <td>2.0</td>\n",
       "      <td>65.0</td>\n",
       "    </tr>\n",
       "  </tbody>\n",
       "</table>\n",
       "<p>5 rows × 27 columns</p>\n",
       "</div>"
      ],
      "text/plain": [
       "     Subject     ARM  CD16 positive/CD56 positive  \\\n",
       "0  SUB107975  ARM244                        207.0   \n",
       "1  SUB107976  ARM245                        285.0   \n",
       "2  SUB107977  ARM245                         86.0   \n",
       "3  SUB107978  ARM243                        471.0   \n",
       "4  SUB107979  ARM242                        172.0   \n",
       "\n",
       "   CD16 positive/CD56 positive percentage  CD19 positive cells  \\\n",
       "0                                    13.0                238.0   \n",
       "1                                    15.0                304.0   \n",
       "2                                     5.0                104.0   \n",
       "3                                    29.0                 16.0   \n",
       "4                                    13.0                172.0   \n",
       "\n",
       "   CD19 positive cells percentage  CD3 positive cells  \\\n",
       "0                            15.0               970.0   \n",
       "1                            16.0              1083.0   \n",
       "2                             6.0              1261.0   \n",
       "3                             1.0               796.0   \n",
       "4                            13.0               821.0   \n",
       "\n",
       "   CD3 positive cells percentage  CD4 positive cells  \\\n",
       "0                           61.0               636.0   \n",
       "1                           57.0               760.0   \n",
       "2                           73.0               829.0   \n",
       "3                           49.0               244.0   \n",
       "4                           62.0               596.0   \n",
       "\n",
       "   CD4 positive cells percentage      ...       \\\n",
       "0                           40.0      ...        \n",
       "1                           40.0      ...        \n",
       "2                           48.0      ...        \n",
       "3                           15.0      ...        \n",
       "4                           45.0      ...        \n",
       "\n",
       "   HLA-DR positive/CDR8 positive percentage  Leukocytes  Lymphocytes  \\\n",
       "0                                       9.0      8830.0       1589.0   \n",
       "1                                       1.0      6550.0       1900.0   \n",
       "2                                       1.0      5760.0       1728.0   \n",
       "3                                      30.0      6020.0       1625.0   \n",
       "4                                       2.0      5520.0       1325.0   \n",
       "\n",
       "   Lymphocytes percentage  Monocytes  Monocytes percentage  Neutrophils  \\\n",
       "0                    18.0      353.0                   4.0       6181.0   \n",
       "1                    29.0      393.0                   6.0       4192.0   \n",
       "2                    30.0      230.0                   4.0       3686.0   \n",
       "3                    27.0      542.0                   9.0       3672.0   \n",
       "4                    24.0      386.0                   7.0       3698.0   \n",
       "\n",
       "   Neutrophils percentage  Ratio Part 1  Ratio Part 2  \n",
       "0                    70.0           2.0          11.0  \n",
       "1                    64.0           2.0          67.0  \n",
       "2                    64.0           2.0          18.0  \n",
       "3                    61.0           0.0          45.0  \n",
       "4                    67.0           2.0          65.0  \n",
       "\n",
       "[5 rows x 27 columns]"
      ]
     },
     "execution_count": 32,
     "metadata": {},
     "output_type": "execute_result"
    }
   ],
   "source": [
    "SDY4_CBC_Results_flat = SDY4_CBC_Results_wide.reset_index()\n",
    "column_names = list(SDY4_CBC_Results_flat.columns.droplevel(0))\n",
    "column_names[0] = 'Subject'\n",
    "column_names[1] = 'ARM'\n",
    "SDY4_CBC_Results_flat.columns = column_names\n",
    "SDY4_CBC_Results_flat.head()"
   ]
  },
  {
   "cell_type": "code",
   "execution_count": 33,
   "metadata": {},
   "outputs": [
    {
     "data": {
      "text/plain": [
       "ARM\n",
       "ARM241    12.761905\n",
       "ARM242    12.387097\n",
       "ARM243    12.459016\n",
       "ARM244    11.163934\n",
       "ARM245    10.803279\n",
       "Name: CD19 positive cells percentage, dtype: float64"
      ]
     },
     "execution_count": 33,
     "metadata": {},
     "output_type": "execute_result"
    }
   ],
   "source": [
    "SDY4_CBC_Results_flat.groupby('ARM')['CD19 positive cells percentage'].mean()"
   ]
  },
  {
   "cell_type": "code",
   "execution_count": 34,
   "metadata": {},
   "outputs": [
    {
     "data": {
      "text/html": [
       "<div>\n",
       "<style scoped>\n",
       "    .dataframe tbody tr th:only-of-type {\n",
       "        vertical-align: middle;\n",
       "    }\n",
       "\n",
       "    .dataframe tbody tr th {\n",
       "        vertical-align: top;\n",
       "    }\n",
       "\n",
       "    .dataframe thead th {\n",
       "        text-align: right;\n",
       "    }\n",
       "</style>\n",
       "<table border=\"1\" class=\"dataframe\">\n",
       "  <thead>\n",
       "    <tr style=\"text-align: right;\">\n",
       "      <th></th>\n",
       "      <th>CD16 positive/CD56 positive</th>\n",
       "      <th>CD16 positive/CD56 positive percentage</th>\n",
       "      <th>CD19 positive cells</th>\n",
       "      <th>CD19 positive cells percentage</th>\n",
       "      <th>CD3 positive cells</th>\n",
       "      <th>CD3 positive cells percentage</th>\n",
       "      <th>CD4 positive cells</th>\n",
       "      <th>CD4 positive cells percentage</th>\n",
       "      <th>CD8 positive cells</th>\n",
       "      <th>CD8 positive cells percentage</th>\n",
       "      <th>...</th>\n",
       "      <th>HLA-DR positive/CDR8 positive percentage</th>\n",
       "      <th>Leukocytes</th>\n",
       "      <th>Lymphocytes</th>\n",
       "      <th>Lymphocytes percentage</th>\n",
       "      <th>Monocytes</th>\n",
       "      <th>Monocytes percentage</th>\n",
       "      <th>Neutrophils</th>\n",
       "      <th>Neutrophils percentage</th>\n",
       "      <th>Ratio Part 1</th>\n",
       "      <th>Ratio Part 2</th>\n",
       "    </tr>\n",
       "  </thead>\n",
       "  <tbody>\n",
       "    <tr>\n",
       "      <th>ARM241</th>\n",
       "      <td>94.380952</td>\n",
       "      <td>7.857143</td>\n",
       "      <td>163.857143</td>\n",
       "      <td>12.761905</td>\n",
       "      <td>773.333333</td>\n",
       "      <td>62.761905</td>\n",
       "      <td>475.571429</td>\n",
       "      <td>38.380952</td>\n",
       "      <td>277.000000</td>\n",
       "      <td>22.761905</td>\n",
       "      <td>...</td>\n",
       "      <td>5.904762</td>\n",
       "      <td>6839.523810</td>\n",
       "      <td>1217.809524</td>\n",
       "      <td>18.571429</td>\n",
       "      <td>392.857143</td>\n",
       "      <td>6.571429</td>\n",
       "      <td>4757.428571</td>\n",
       "      <td>68.571429</td>\n",
       "      <td>1.428571</td>\n",
       "      <td>43.761905</td>\n",
       "    </tr>\n",
       "    <tr>\n",
       "      <th>ARM242</th>\n",
       "      <td>113.709677</td>\n",
       "      <td>7.612903</td>\n",
       "      <td>175.677419</td>\n",
       "      <td>12.387097</td>\n",
       "      <td>893.096774</td>\n",
       "      <td>62.838710</td>\n",
       "      <td>607.322581</td>\n",
       "      <td>43.935484</td>\n",
       "      <td>300.193548</td>\n",
       "      <td>20.709677</td>\n",
       "      <td>...</td>\n",
       "      <td>5.903226</td>\n",
       "      <td>6707.419355</td>\n",
       "      <td>1395.032258</td>\n",
       "      <td>22.161290</td>\n",
       "      <td>336.387097</td>\n",
       "      <td>5.129032</td>\n",
       "      <td>4595.000000</td>\n",
       "      <td>66.935484</td>\n",
       "      <td>1.967742</td>\n",
       "      <td>49.548387</td>\n",
       "    </tr>\n",
       "    <tr>\n",
       "      <th>ARM243</th>\n",
       "      <td>102.606557</td>\n",
       "      <td>6.377049</td>\n",
       "      <td>201.426230</td>\n",
       "      <td>12.459016</td>\n",
       "      <td>1058.934426</td>\n",
       "      <td>64.377049</td>\n",
       "      <td>684.688525</td>\n",
       "      <td>41.786885</td>\n",
       "      <td>364.524590</td>\n",
       "      <td>21.557377</td>\n",
       "      <td>...</td>\n",
       "      <td>5.311475</td>\n",
       "      <td>6979.311475</td>\n",
       "      <td>1625.754098</td>\n",
       "      <td>24.393443</td>\n",
       "      <td>335.770492</td>\n",
       "      <td>4.868852</td>\n",
       "      <td>4632.459016</td>\n",
       "      <td>64.934426</td>\n",
       "      <td>1.688525</td>\n",
       "      <td>47.885246</td>\n",
       "    </tr>\n",
       "    <tr>\n",
       "      <th>ARM244</th>\n",
       "      <td>111.918033</td>\n",
       "      <td>7.131148</td>\n",
       "      <td>186.852459</td>\n",
       "      <td>11.163934</td>\n",
       "      <td>1053.229508</td>\n",
       "      <td>64.000000</td>\n",
       "      <td>664.655738</td>\n",
       "      <td>40.836066</td>\n",
       "      <td>363.344262</td>\n",
       "      <td>21.672131</td>\n",
       "      <td>...</td>\n",
       "      <td>4.967213</td>\n",
       "      <td>6778.573770</td>\n",
       "      <td>1631.147541</td>\n",
       "      <td>24.983607</td>\n",
       "      <td>311.737705</td>\n",
       "      <td>4.622951</td>\n",
       "      <td>4447.721311</td>\n",
       "      <td>64.737705</td>\n",
       "      <td>1.655738</td>\n",
       "      <td>42.934426</td>\n",
       "    </tr>\n",
       "    <tr>\n",
       "      <th>ARM245</th>\n",
       "      <td>164.032787</td>\n",
       "      <td>9.229508</td>\n",
       "      <td>185.983607</td>\n",
       "      <td>10.803279</td>\n",
       "      <td>1175.590164</td>\n",
       "      <td>65.262295</td>\n",
       "      <td>752.754098</td>\n",
       "      <td>41.868852</td>\n",
       "      <td>396.672131</td>\n",
       "      <td>22.065574</td>\n",
       "      <td>...</td>\n",
       "      <td>4.803279</td>\n",
       "      <td>6309.672131</td>\n",
       "      <td>1811.081967</td>\n",
       "      <td>29.213115</td>\n",
       "      <td>317.934426</td>\n",
       "      <td>5.278689</td>\n",
       "      <td>4015.967213</td>\n",
       "      <td>62.918033</td>\n",
       "      <td>1.639344</td>\n",
       "      <td>49.131148</td>\n",
       "    </tr>\n",
       "  </tbody>\n",
       "</table>\n",
       "<p>5 rows × 25 columns</p>\n",
       "</div>"
      ],
      "text/plain": [
       "        CD16 positive/CD56 positive  CD16 positive/CD56 positive percentage  \\\n",
       "ARM241                    94.380952                                7.857143   \n",
       "ARM242                   113.709677                                7.612903   \n",
       "ARM243                   102.606557                                6.377049   \n",
       "ARM244                   111.918033                                7.131148   \n",
       "ARM245                   164.032787                                9.229508   \n",
       "\n",
       "        CD19 positive cells  CD19 positive cells percentage  \\\n",
       "ARM241           163.857143                       12.761905   \n",
       "ARM242           175.677419                       12.387097   \n",
       "ARM243           201.426230                       12.459016   \n",
       "ARM244           186.852459                       11.163934   \n",
       "ARM245           185.983607                       10.803279   \n",
       "\n",
       "        CD3 positive cells  CD3 positive cells percentage  CD4 positive cells  \\\n",
       "ARM241          773.333333                      62.761905          475.571429   \n",
       "ARM242          893.096774                      62.838710          607.322581   \n",
       "ARM243         1058.934426                      64.377049          684.688525   \n",
       "ARM244         1053.229508                      64.000000          664.655738   \n",
       "ARM245         1175.590164                      65.262295          752.754098   \n",
       "\n",
       "        CD4 positive cells percentage  CD8 positive cells  \\\n",
       "ARM241                      38.380952          277.000000   \n",
       "ARM242                      43.935484          300.193548   \n",
       "ARM243                      41.786885          364.524590   \n",
       "ARM244                      40.836066          363.344262   \n",
       "ARM245                      41.868852          396.672131   \n",
       "\n",
       "        CD8 positive cells percentage      ...       \\\n",
       "ARM241                      22.761905      ...        \n",
       "ARM242                      20.709677      ...        \n",
       "ARM243                      21.557377      ...        \n",
       "ARM244                      21.672131      ...        \n",
       "ARM245                      22.065574      ...        \n",
       "\n",
       "        HLA-DR positive/CDR8 positive percentage   Leukocytes  Lymphocytes  \\\n",
       "ARM241                                  5.904762  6839.523810  1217.809524   \n",
       "ARM242                                  5.903226  6707.419355  1395.032258   \n",
       "ARM243                                  5.311475  6979.311475  1625.754098   \n",
       "ARM244                                  4.967213  6778.573770  1631.147541   \n",
       "ARM245                                  4.803279  6309.672131  1811.081967   \n",
       "\n",
       "        Lymphocytes percentage   Monocytes  Monocytes percentage  Neutrophils  \\\n",
       "ARM241               18.571429  392.857143              6.571429  4757.428571   \n",
       "ARM242               22.161290  336.387097              5.129032  4595.000000   \n",
       "ARM243               24.393443  335.770492              4.868852  4632.459016   \n",
       "ARM244               24.983607  311.737705              4.622951  4447.721311   \n",
       "ARM245               29.213115  317.934426              5.278689  4015.967213   \n",
       "\n",
       "        Neutrophils percentage  Ratio Part 1  Ratio Part 2  \n",
       "ARM241               68.571429      1.428571     43.761905  \n",
       "ARM242               66.935484      1.967742     49.548387  \n",
       "ARM243               64.934426      1.688525     47.885246  \n",
       "ARM244               64.737705      1.655738     42.934426  \n",
       "ARM245               62.918033      1.639344     49.131148  \n",
       "\n",
       "[5 rows x 25 columns]"
      ]
     },
     "execution_count": 34,
     "metadata": {},
     "output_type": "execute_result"
    }
   ],
   "source": [
    "CBC_Means = pd.DataFrame(index=['ARM241','ARM242','ARM243','ARM244','ARM245'])\n",
    "for column_name in SDY4_CBC_Results_flat.columns[2:]:\n",
    "    CBC_Means[column_name] = SDY4_CBC_Results_flat.groupby('ARM')[column_name].mean()\n",
    "CBC_Means.head()"
   ]
  },
  {
   "cell_type": "code",
   "execution_count": 35,
   "metadata": {},
   "outputs": [
    {
     "data": {
      "image/png": "[encoded data removed]",
      "text/plain": [
       "<matplotlib.figure.Figure at 0x7f542bca0cf8>"
      ]
     },
     "metadata": {},
     "output_type": "display_data"
    }
   ],
   "source": [
    "sns.boxplot(x='ARM',y='CD19 positive cells percentage',data=SDY4_CBC_Results_flat);"
   ]
  },
  {
   "cell_type": "code",
   "execution_count": 36,
   "metadata": {},
   "outputs": [
    {
     "data": {
      "image/png": "[encoded data removed]",
      "text/plain": [
       "<matplotlib.figure.Figure at 0x7f54362ca4e0>"
      ]
     },
     "metadata": {},
     "output_type": "display_data"
    }
   ],
   "source": [
    "sns.boxplot(x='ARM',y='CD16 positive/CD56 positive',data=SDY4_CBC_Results_flat);"
   ]
  },
  {
   "cell_type": "code",
   "execution_count": 37,
   "metadata": {},
   "outputs": [
    {
     "name": "stderr",
     "output_type": "stream",
     "text": [
      "/home/cris/miniconda3/lib/python3.5/site-packages/matplotlib/pyplot.py:523: RuntimeWarning: More than 20 figures have been opened. Figures created through the pyplot interface (`matplotlib.pyplot.figure`) are retained until explicitly closed and may consume too much memory. (To control this warning, see the rcParam `figure.max_open_warning`).\n",
      "  max_open_warning, RuntimeWarning)\n"
     ]
    },
    {
     "data": {
      "image/png": "[encoded data removed]",
      "text/plain": [
       "<matplotlib.figure.Figure at 0x7f54341f1438>"
      ]
     },
     "metadata": {},
     "output_type": "display_data"
    },
    {
     "data": {
      "image/png": "[encoded data removed]",
      "text/plain": [
       "<matplotlib.figure.Figure at 0x7f54362ca588>"
      ]
     },
     "metadata": {},
     "output_type": "display_data"
    },
    {
     "data": {
      "image/png": "[encoded data removed]",
      "text/plain": [
       "<matplotlib.figure.Figure at 0x7f5434274fd0>"
      ]
     },
     "metadata": {},
     "output_type": "display_data"
    },
    {
     "data": {
      "image/png": "[encoded data removed]",
      "text/plain": [
       "<matplotlib.figure.Figure at 0x7f54341ad588>"
      ]
     },
     "metadata": {},
     "output_type": "display_data"
    },
    {
     "data": {
      "image/png": "[encoded data removed]",
      "text/plain": [
       "<matplotlib.figure.Figure at 0x7f5434135c18>"
      ]
     },
     "metadata": {},
     "output_type": "display_data"
    },
    {
     "data": {
      "image/png": "[encoded data removed]",
      "text/plain": [
       "<matplotlib.figure.Figure at 0x7f54340e3518>"
      ]
     },
     "metadata": {},
     "output_type": "display_data"
    },
    {
     "data": {
      "image/png": "[encoded data removed]",
      "text/plain": [
       "<matplotlib.figure.Figure at 0x7f54340be1d0>"
      ]
     },
     "metadata": {},
     "output_type": "display_data"
    },
    {
     "data": {
      "image/png": "[encoded data removed]",
      "text/plain": [
       "<matplotlib.figure.Figure at 0x7f543401b4a8>"
      ]
     },
     "metadata": {},
     "output_type": "display_data"
    },
    {
     "data": {
      "image/png": "[encoded data removed]",
      "text/plain": [
       "<matplotlib.figure.Figure at 0x7f5433ff93c8>"
      ]
     },
     "metadata": {},
     "output_type": "display_data"
    },
    {
     "data": {
      "image/png": "[encoded data removed]",
      "text/plain": [
       "<matplotlib.figure.Figure at 0x7f5433f54668>"
      ]
     },
     "metadata": {},
     "output_type": "display_data"
    },
    {
     "data": {
      "image/png": "[encoded data removed]",
      "text/plain": [
       "<matplotlib.figure.Figure at 0x7f5433f2f7f0>"
      ]
     },
     "metadata": {},
     "output_type": "display_data"
    },
    {
     "data": {
      "image/png": "[encoded data removed]",
      "text/plain": [
       "<matplotlib.figure.Figure at 0x7f5433f0f400>"
      ]
     },
     "metadata": {},
     "output_type": "display_data"
    },
    {
     "data": {
      "image/png": "[encoded data removed]",
      "text/plain": [
       "<matplotlib.figure.Figure at 0x7f5433e44978>"
      ]
     },
     "metadata": {},
     "output_type": "display_data"
    },
    {
     "data": {
      "image/png": "[encoded data removed]",
      "text/plain": [
       "<matplotlib.figure.Figure at 0x7f5433e49668>"
      ]
     },
     "metadata": {},
     "output_type": "display_data"
    },
    {
     "data": {
      "image/png": "[encoded data removed]",
      "text/plain": [
       "<matplotlib.figure.Figure at 0x7f5433da4780>"
      ]
     },
     "metadata": {},
     "output_type": "display_data"
    },
    {
     "data": {
      "image/png": "[encoded data removed]",
      "text/plain": [
       "<matplotlib.figure.Figure at 0x7f5433d83358>"
      ]
     },
     "metadata": {},
     "output_type": "display_data"
    },
    {
     "data": {
      "image/png": "[encoded data removed]",
      "text/plain": [
       "<matplotlib.figure.Figure at 0x7f5433ce0668>"
      ]
     },
     "metadata": {},
     "output_type": "display_data"
    },
    {
     "data": {
      "image/png": "[encoded data removed]",
      "text/plain": [
       "<matplotlib.figure.Figure at 0x7f5433ce8fd0>"
      ]
     },
     "metadata": {},
     "output_type": "display_data"
    },
    {
     "data": {
      "image/png": "[encoded data removed]",
      "text/plain": [
       "<matplotlib.figure.Figure at 0x7f5433c1a208>"
      ]
     },
     "metadata": {},
     "output_type": "display_data"
    },
    {
     "data": {
      "image/png": "[encoded data removed]",
      "text/plain": [
       "<matplotlib.figure.Figure at 0x7f5433bf6208>"
      ]
     },
     "metadata": {},
     "output_type": "display_data"
    },
    {
     "data": {
      "image/png": "[encoded data removed]",
      "text/plain": [
       "<matplotlib.figure.Figure at 0x7f5433b2b0b8>"
      ]
     },
     "metadata": {},
     "output_type": "display_data"
    },
    {
     "data": {
      "image/png": "[encoded data removed]",
      "text/plain": [
       "<matplotlib.figure.Figure at 0x7f5433b2f518>"
      ]
     },
     "metadata": {},
     "output_type": "display_data"
    },
    {
     "data": {
      "image/png": "[encoded data removed]",
      "text/plain": [
       "<matplotlib.figure.Figure at 0x7f5433b0f3c8>"
      ]
     },
     "metadata": {},
     "output_type": "display_data"
    },
    {
     "data": {
      "image/png": "[encoded data removed]",
      "text/plain": [
       "<matplotlib.figure.Figure at 0x7f5433a612b0>"
      ]
     },
     "metadata": {},
     "output_type": "display_data"
    },
    {
     "data": {
      "image/png": "[encoded data removed]",
      "text/plain": [
       "<matplotlib.figure.Figure at 0x7f5433a422b0>"
      ]
     },
     "metadata": {},
     "output_type": "display_data"
    }
   ],
   "source": [
    "for column_name in SDY4_CBC_Results_flat.columns[2:]:\n",
    "    plt.figure()\n",
    "    sns.boxplot(x='ARM',y=column_name,data=SDY4_CBC_Results_flat);"
   ]
  }
 ],
 "metadata": {
  "anaconda-cloud": {},
  "kernelspec": {
   "display_name": "Python [default]",
   "language": "python",
   "name": "python3"
  },
  "language_info": {
   "codemirror_mode": {
    "name": "ipython",
    "version": 3
   },
   "file_extension": ".py",
   "mimetype": "text/x-python",
   "name": "python",
   "nbconvert_exporter": "python",
   "pygments_lexer": "ipython3",
   "version": "3.5.2"
  }
 },
 "nbformat": 4,
 "nbformat_minor": 2
}
