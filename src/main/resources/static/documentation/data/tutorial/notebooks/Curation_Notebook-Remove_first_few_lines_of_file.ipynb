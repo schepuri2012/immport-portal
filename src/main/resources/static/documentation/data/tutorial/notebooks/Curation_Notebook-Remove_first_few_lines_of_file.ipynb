{
 "cells": [
  {
   "cell_type": "markdown",
   "metadata": {},
   "source": [
    "*Quick reminder:* To run the code in a cell, either click on the \"play\" icon above, or press Shift+Enter. Cells can be run as many times as needed."
   ]
  },
  {
   "cell_type": "code",
   "execution_count": null,
   "metadata": {
    "collapsed": true
   },
   "outputs": [],
   "source": [
    "import os"
   ]
  },
  {
   "cell_type": "markdown",
   "metadata": {},
   "source": [
    "# Delete first few lines in Files\n",
    "<i><font size=2 color=\"grey\">Version 1.0, last modified September 2017<br>\n",
    "Python 3.6<br>\n",
    "</font></i>\n",
    "  \n",
    "  \n",
    "This notebook contains code to delete the first however many lines of a list of files.\n",
    "\n",
    "**<u>Expected input:</u>**  \n",
    "  \n",
    "Input directory containing the file or files to modify. Input files must be text files.\n",
    "  \n",
    "**<u>Output:</u>**  \n",
    "\n",
    "Directory containing renamed files. The output directory will be created if it doesn't exist in the directory where files to modify are located.  \n",
    "  \n",
    "**<u>Parameters:</u>**  \n",
    "<font color=\"DarkRed\"><strong>Please</strong></font> change the following parameters by commenting out or editing accordingly."
   ]
  },
  {
   "cell_type": "code",
   "execution_count": null,
   "metadata": {
    "collapsed": true
   },
   "outputs": [],
   "source": [
    "## Path to directory containing files to modify:\n",
    "dir_files = \"placeholder/path/to/files\"\n",
    "\n",
    "## Is the first line of the file the column headers?\n",
    "headers = True\n",
    "#headers = False\n",
    "\n",
    "## How many lines to delete?\n",
    "lines_to_rm = 5\n",
    "\n",
    "## Output directory name:\n",
    "output_dir = \"shortened_files\""
   ]
  },
  {
   "cell_type": "markdown",
   "metadata": {},
   "source": [
    "The following lines of code go through each files in the input directory, and copies them - minus the deleted lines - to the output directory."
   ]
  },
  {
   "cell_type": "code",
   "execution_count": null,
   "metadata": {
    "collapsed": true
   },
   "outputs": [],
   "source": [
    "mod_files = []\n",
    "\n",
    "## Create output directory if it doesn't exist:\n",
    "shorter_files_path = os.path.join(dir_files, output_dir)\n",
    "os.makedirs(shorter_files_path, exist_ok=True)\n",
    "\n",
    "## Loop through content of input directory:\n",
    "for root, dirs, files in os.walk(dir_files):\n",
    "    for ind_file in files:\n",
    "\n",
    "        short_filename = \".\".join([ind_file, \"shorter.txt\"])\n",
    "        full_filepath = os.path.join(root, ind_file)\n",
    "        full_txtpath = os.path.join(shorter_files_path, short_filename)\n",
    "\n",
    "        ## Create a copy of the file without the first lines:\n",
    "        try:\n",
    "            with open(full_filepath, \"r\") as input_file, open(full_txtpath, \"w\") as output:\n",
    "                ## Keep headers if any specified:\n",
    "                if headers:\n",
    "                    headings = input_file.readline()\n",
    "                    output.write(headings)\n",
    "                    \n",
    "                ## Skip lines to remove:\n",
    "                for i in range(1,lines_to_rm):\n",
    "                    input_file.readline()\n",
    "\n",
    "                ## Write to output files the rest of the file:    \n",
    "                for line in input_file:\n",
    "                    output.write(line)\n",
    "            mod_files.append(full_txtpath)\n",
    "        except:\n",
    "            print(\"%s could not be modified\\n\" % ind_file)\n",
    "\n",
    "## Only checking the first level in the directory so can break the loop:\n",
    "    break\n",
    "    \n",
    "print(\"%s files were created in %s:\\n\" % (len(mod_files), shorter_files_path))\n",
    "print(\"\\n\".join(mod_files))"
   ]
  }
 ],
 "metadata": {
  "anaconda-cloud": {},
  "kernelspec": {
   "display_name": "Python [conda root]",
   "language": "python",
   "name": "conda-root-py"
  },
  "language_info": {
   "codemirror_mode": {
    "name": "ipython",
    "version": 3
   },
   "file_extension": ".py",
   "mimetype": "text/x-python",
   "name": "python",
   "nbconvert_exporter": "python",
   "pygments_lexer": "ipython3",
   "version": "3.5.2"
  }
 },
 "nbformat": 4,
 "nbformat_minor": 1
}
