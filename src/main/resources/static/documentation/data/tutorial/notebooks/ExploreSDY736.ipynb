{
 "cells": [
  {
   "cell_type": "markdown",
   "metadata": {},
   "source": [
    "# Explore SDY736\n",
    "<i><font size=2 color=\"grey\">Version 1.0, last modified November 2017<br>\n",
    "Python 3.6<br>\n",
    "pandas 0.21.0<br>\n",
    "seaborn 0.8.1<br>\n",
    "matplotlib 2.1.0<br>\n",
    "</font></i> \n",
    "  \n",
    "This is a tutorial on using Python tools to prepare ImmPort study information for analysis. This tutorial should NOT be considered as a real scientific analysis of this study, but is ONLY intended to show how be prepare data\n",
    "for real analysis. This tutorial will use SDY736 as the example study, so we will be using by downloading\n",
    "the SDY736-DR24_Tab.zip file from the Immport Data Browser site.\n",
    "\n",
    "<div class=\"alert alert-block alert-info\">\n",
    "ImmPort generates new or updated study packages approximately 6 times a year. The DR24 in the file name\n",
    "mentioned above indicates this file was generated for Data Release 24. When you use this tutorial, it is\n",
    "best to use the latest Data Release version when downloading the SDY736-DRXX_Tab.zip file. \n",
    "\n",
    "If you are interested in doing cross study analysis, ImmPort generates an ALLSTUDIES-DR24_Tab.zip file, which\n",
    "can be used for cross study analysis, because it contains the meta data for all currently released studies.\n",
    "\n",
    "The Data Release packages are also available in in a format compatible for loading into a MySQL database. Scripts\n",
    "to load the data into MySQL are included in the package.\n",
    "</div>\n",
    "\n",
    "The Data Release study packages available for download contain many types of data that you can explore.\n",
    "The data in the SDY736-DR24_Tab.zip package was extracted from a MySQL database and the content of each file\n",
    "in the package contains the data from a table.\n",
    "\n",
    "An overview of the ImmPort data model is available [here](http://www.immport.org/immport-open/public/schema/schemaTree), the table definitions are available [here](http://www.immport.org/immport-open/public/schema/schemaDefinition/study), and the ER diagrams are available [here](http://www.immport.org/immport-open/public/schema/schemaDiagram/AllTables)\n",
    "\n",
    "\n",
    "For this analysis we will start by creating a top level directory named SDY736. Below the SDY736 directory three directories where created: data, downloads and notebooks. The SDY736-DR24_Tab.zip file was downloaded from the ImmPort Data Browser [web site](https://aspera-immport.niaid.nih.gov:9443) to the **downloads** directory.\n",
    "\n",
    "The following commands were used to unzip and move the contents to the **data** directory\n",
    "\n",
    "```shell\n",
    "cd downloads\n",
    "unzip SDY736-DR24_Tab.zip\n",
    "cd SDY736-DR24_Tab/Tab\n",
    "mv * ../../../data\n",
    "```"
   ]
  },
  {
   "cell_type": "markdown",
   "metadata": {},
   "source": [
    "## Import Standard Modules"
   ]
  },
  {
   "cell_type": "code",
   "execution_count": 1,
   "metadata": {
    "collapsed": true
   },
   "outputs": [],
   "source": [
    "%matplotlib inline\n",
    "import matplotlib.pyplot as plt\n",
    "import pandas as pd\n",
    "import seaborn as sns"
   ]
  },
  {
   "cell_type": "markdown",
   "metadata": {},
   "source": [
    "## Setup Environment Variables"
   ]
  },
  {
   "cell_type": "code",
   "execution_count": 2,
   "metadata": {
    "collapsed": true
   },
   "outputs": [],
   "source": [
    "META_DATA_DIR=\"../data/Tab\""
   ]
  },
  {
   "cell_type": "markdown",
   "metadata": {},
   "source": [
    "## Review Study Design\n",
    "\n",
    "In the ImmPort model a **study** can have one or more **arms_or_cohort** records, and a **subject** is \n",
    "assigned to **arm_or_cohort** using the **arm_2_subject** table. Read in the study, arm_or_cohort and\n",
    "arm_2_subject data, so we can build a DataFrame that includes the study_accession, arm_accession and\n",
    "subject_accession. For the last step in this section, we will merge in the **subject** demographic\n",
    "information into the study_design DataFrame.\n",
    "\n",
    "<div class=\"alert alert-block alert-info\">\n",
    "If you want to make a quick review of the types of data available in any table, you can use the df.head()\n",
    "command to get a tabular view of the table, after using the pd.read_table command. The df.head() command\n",
    "should be the last line in a notebook cell, to get the table informaton to display. *Note*: replace df with\n",
    "the name of the DataFrame you loaded using the pd.read_table method.\n",
    "</div>"
   ]
  },
  {
   "cell_type": "code",
   "execution_count": 3,
   "metadata": {
    "collapsed": true
   },
   "outputs": [],
   "source": [
    "study = pd.read_table(META_DATA_DIR + \"/study.txt\",sep=\"\\t\")\n",
    "arm_or_cohort = pd.read_table(META_DATA_DIR + \"/arm_or_cohort.txt\",sep=\"\\t\")\n",
    "arm_2_subject = pd.read_table(META_DATA_DIR + \"/arm_2_subject.txt\",sep=\"\\t\")\n",
    "subject = pd.read_table(META_DATA_DIR + \"/subject.txt\",sep=\"\\t\")"
   ]
  },
  {
   "cell_type": "code",
   "execution_count": 4,
   "metadata": {
    "collapsed": true
   },
   "outputs": [],
   "source": [
    "# Uncomment a line below to review DataFrame information\n",
    "#study.head()\n",
    "#arm_or_cohort.head()\n",
    "#arm_2_subject.head()\n",
    "#subject.head()"
   ]
  },
  {
   "cell_type": "code",
   "execution_count": 5,
   "metadata": {
    "collapsed": true
   },
   "outputs": [],
   "source": [
    "# Uncomment a line below to review the columns in a DataFrame\n",
    "#print(\"study: \",study.columns)\n",
    "#print(\"arm_or_cohort: \",arm_or_cohort.columns)\n",
    "#print(\"arm_2_subjct: \",arm_2_subject.columns)\n",
    "#print(\"subject: \",subject.columns)"
   ]
  },
  {
   "cell_type": "markdown",
   "metadata": {},
   "source": [
    "### ARM_ACCESSION to ARM_NAME\n",
    "\n",
    "In some cases the ARM_NAME can be quite long, so when we later merge tables together the ARM_NAME\n",
    "will not be included. So we can refer to the information below to understand the ARM_NAME for\n",
    "each ARM."
   ]
  },
  {
   "cell_type": "code",
   "execution_count": 6,
   "metadata": {},
   "outputs": [
    {
     "data": {
      "text/html": [
       "<div>\n",
       "<style scoped>\n",
       "    .dataframe tbody tr th:only-of-type {\n",
       "        vertical-align: middle;\n",
       "    }\n",
       "\n",
       "    .dataframe tbody tr th {\n",
       "        vertical-align: top;\n",
       "    }\n",
       "\n",
       "    .dataframe thead th {\n",
       "        text-align: right;\n",
       "    }\n",
       "</style>\n",
       "<table border=\"1\" class=\"dataframe\">\n",
       "  <thead>\n",
       "    <tr style=\"text-align: right;\">\n",
       "      <th></th>\n",
       "      <th>ARM_ACCESSION</th>\n",
       "      <th>DESCRIPTION</th>\n",
       "      <th>NAME</th>\n",
       "      <th>STUDY_ACCESSION</th>\n",
       "      <th>TYPE</th>\n",
       "      <th>WORKSPACE_ID</th>\n",
       "    </tr>\n",
       "  </thead>\n",
       "  <tbody>\n",
       "    <tr>\n",
       "      <th>0</th>\n",
       "      <td>ARM3054</td>\n",
       "      <td>These donors were found to be seropositive for...</td>\n",
       "      <td>CMV positive</td>\n",
       "      <td>SDY736</td>\n",
       "      <td>OBSERVATIONAL</td>\n",
       "      <td>3366</td>\n",
       "    </tr>\n",
       "    <tr>\n",
       "      <th>1</th>\n",
       "      <td>ARM3055</td>\n",
       "      <td>These donors were found to be sero-negative fo...</td>\n",
       "      <td>CMV negative</td>\n",
       "      <td>SDY736</td>\n",
       "      <td>OBSERVATIONAL</td>\n",
       "      <td>3366</td>\n",
       "    </tr>\n",
       "  </tbody>\n",
       "</table>\n",
       "</div>"
      ],
      "text/plain": [
       "  ARM_ACCESSION                                        DESCRIPTION  \\\n",
       "0       ARM3054  These donors were found to be seropositive for...   \n",
       "1       ARM3055  These donors were found to be sero-negative fo...   \n",
       "\n",
       "           NAME STUDY_ACCESSION           TYPE  WORKSPACE_ID  \n",
       "0  CMV positive          SDY736  OBSERVATIONAL          3366  \n",
       "1  CMV negative          SDY736  OBSERVATIONAL          3366  "
      ]
     },
     "execution_count": 6,
     "metadata": {},
     "output_type": "execute_result"
    }
   ],
   "source": [
    "arm_or_cohort"
   ]
  },
  {
   "cell_type": "markdown",
   "metadata": {},
   "source": [
    "## Clean and Merge Study, Arm_Or_Cohort, Arm_2_Subject and Subject\n",
    "\n",
    "In this section, we will merge table information together to simplify downstream analysis, plus remove columns\n",
    "not necessary for this tutorial. At the end of this process we will have a DataFrame **study_design**\n",
    "containing the merged content of the **arm_or_cohort** table, the **arm_2_subject** table and **subject**\n",
    "table.\n",
    "\n",
    "In the ImmPort data model a **subject** may be assigned to multiple studies, and their age information may\n",
    "change over time. For this reason when a **subject** is assigned to an **arm** within a **study**, the\n",
    "age and phenotype information is contained in the **arm_2_subject** table.\n",
    "\n",
    "<div class=\"alert alert-block alert-info\">\n",
    "The merging operation in pandas is very similar to a JOIN between 2 tables in a SQL database.\n",
    "</div>"
   ]
  },
  {
   "cell_type": "code",
   "execution_count": 7,
   "metadata": {
    "collapsed": true
   },
   "outputs": [],
   "source": [
    "# Uncomment a line below to review the number of rows and columns in a DataFrame\n",
    "#print(\"study: \",study.shape)\n",
    "#print(\"arm_or_cohort: \",arm_or_cohort.shape)\n",
    "#print(\"arm_2_subject: \",arm_2_subject.shape)\n",
    "#print(\"subject: \",subject.shape)"
   ]
  },
  {
   "cell_type": "code",
   "execution_count": 8,
   "metadata": {
    "collapsed": true
   },
   "outputs": [],
   "source": [
    "arm_or_cohort_short = arm_or_cohort[['STUDY_ACCESSION','ARM_ACCESSION']]\n",
    "study_arm_subject = pd.merge(arm_or_cohort_short,arm_2_subject,\n",
    "                            left_on='ARM_ACCESSION', right_on='ARM_ACCESSION')\n",
    "study_design = pd.merge(study_arm_subject,subject,\n",
    "                       left_on='SUBJECT_ACCESSION',right_on='SUBJECT_ACCESSION')"
   ]
  },
  {
   "cell_type": "code",
   "execution_count": 9,
   "metadata": {},
   "outputs": [
    {
     "data": {
      "text/html": [
       "<div>\n",
       "<style scoped>\n",
       "    .dataframe tbody tr th:only-of-type {\n",
       "        vertical-align: middle;\n",
       "    }\n",
       "\n",
       "    .dataframe tbody tr th {\n",
       "        vertical-align: top;\n",
       "    }\n",
       "\n",
       "    .dataframe thead th {\n",
       "        text-align: right;\n",
       "    }\n",
       "</style>\n",
       "<table border=\"1\" class=\"dataframe\">\n",
       "  <thead>\n",
       "    <tr style=\"text-align: right;\">\n",
       "      <th></th>\n",
       "      <th>STUDY_ACCESSION</th>\n",
       "      <th>ARM_ACCESSION</th>\n",
       "      <th>SUBJECT_ACCESSION</th>\n",
       "      <th>AGE_EVENT</th>\n",
       "      <th>AGE_EVENT_SPECIFY</th>\n",
       "      <th>AGE_UNIT</th>\n",
       "      <th>MAX_SUBJECT_AGE</th>\n",
       "      <th>MIN_SUBJECT_AGE</th>\n",
       "      <th>SUBJECT_PHENOTYPE</th>\n",
       "      <th>ANCESTRAL_POPULATION</th>\n",
       "      <th>DESCRIPTION</th>\n",
       "      <th>ETHNICITY</th>\n",
       "      <th>GENDER</th>\n",
       "      <th>RACE</th>\n",
       "      <th>RACE_SPECIFY</th>\n",
       "      <th>SPECIES</th>\n",
       "      <th>STRAIN</th>\n",
       "      <th>STRAIN_CHARACTERISTICS</th>\n",
       "      <th>WORKSPACE_ID</th>\n",
       "    </tr>\n",
       "  </thead>\n",
       "  <tbody>\n",
       "    <tr>\n",
       "      <th>0</th>\n",
       "      <td>SDY736</td>\n",
       "      <td>ARM3054</td>\n",
       "      <td>SUB167226</td>\n",
       "      <td>Age at Study Day 0</td>\n",
       "      <td>NaN</td>\n",
       "      <td>Years</td>\n",
       "      <td>56.27</td>\n",
       "      <td>56.27</td>\n",
       "      <td>NaN</td>\n",
       "      <td>North America</td>\n",
       "      <td>NaN</td>\n",
       "      <td>Hispanic or Latino</td>\n",
       "      <td>Male</td>\n",
       "      <td>White</td>\n",
       "      <td>NaN</td>\n",
       "      <td>Homo sapiens</td>\n",
       "      <td>NaN</td>\n",
       "      <td>NaN</td>\n",
       "      <td>3366</td>\n",
       "    </tr>\n",
       "    <tr>\n",
       "      <th>1</th>\n",
       "      <td>SDY736</td>\n",
       "      <td>ARM3054</td>\n",
       "      <td>SUB167227</td>\n",
       "      <td>Age at Study Day 0</td>\n",
       "      <td>NaN</td>\n",
       "      <td>Years</td>\n",
       "      <td>53.63</td>\n",
       "      <td>53.63</td>\n",
       "      <td>NaN</td>\n",
       "      <td>North America</td>\n",
       "      <td>NaN</td>\n",
       "      <td>Not Hispanic or Latino</td>\n",
       "      <td>Female</td>\n",
       "      <td>Unknown</td>\n",
       "      <td>NaN</td>\n",
       "      <td>Homo sapiens</td>\n",
       "      <td>NaN</td>\n",
       "      <td>NaN</td>\n",
       "      <td>3366</td>\n",
       "    </tr>\n",
       "    <tr>\n",
       "      <th>2</th>\n",
       "      <td>SDY736</td>\n",
       "      <td>ARM3054</td>\n",
       "      <td>SUB167302</td>\n",
       "      <td>Age at Study Day 0</td>\n",
       "      <td>NaN</td>\n",
       "      <td>Years</td>\n",
       "      <td>58.81</td>\n",
       "      <td>58.81</td>\n",
       "      <td>NaN</td>\n",
       "      <td>North America</td>\n",
       "      <td>NaN</td>\n",
       "      <td>Not Hispanic or Latino</td>\n",
       "      <td>Female</td>\n",
       "      <td>White</td>\n",
       "      <td>NaN</td>\n",
       "      <td>Homo sapiens</td>\n",
       "      <td>NaN</td>\n",
       "      <td>NaN</td>\n",
       "      <td>3366</td>\n",
       "    </tr>\n",
       "    <tr>\n",
       "      <th>3</th>\n",
       "      <td>SDY736</td>\n",
       "      <td>ARM3054</td>\n",
       "      <td>SUB167311</td>\n",
       "      <td>Age at Study Day 0</td>\n",
       "      <td>NaN</td>\n",
       "      <td>Years</td>\n",
       "      <td>68.02</td>\n",
       "      <td>68.02</td>\n",
       "      <td>NaN</td>\n",
       "      <td>North America</td>\n",
       "      <td>NaN</td>\n",
       "      <td>Not Hispanic or Latino</td>\n",
       "      <td>Female</td>\n",
       "      <td>White</td>\n",
       "      <td>NaN</td>\n",
       "      <td>Homo sapiens</td>\n",
       "      <td>NaN</td>\n",
       "      <td>NaN</td>\n",
       "      <td>3366</td>\n",
       "    </tr>\n",
       "    <tr>\n",
       "      <th>4</th>\n",
       "      <td>SDY736</td>\n",
       "      <td>ARM3054</td>\n",
       "      <td>SUB167314</td>\n",
       "      <td>Age at Study Day 0</td>\n",
       "      <td>NaN</td>\n",
       "      <td>Years</td>\n",
       "      <td>72.39</td>\n",
       "      <td>72.39</td>\n",
       "      <td>NaN</td>\n",
       "      <td>North America</td>\n",
       "      <td>NaN</td>\n",
       "      <td>Not Hispanic or Latino</td>\n",
       "      <td>Female</td>\n",
       "      <td>White</td>\n",
       "      <td>NaN</td>\n",
       "      <td>Homo sapiens</td>\n",
       "      <td>NaN</td>\n",
       "      <td>NaN</td>\n",
       "      <td>3366</td>\n",
       "    </tr>\n",
       "  </tbody>\n",
       "</table>\n",
       "</div>"
      ],
      "text/plain": [
       "  STUDY_ACCESSION ARM_ACCESSION SUBJECT_ACCESSION           AGE_EVENT  \\\n",
       "0          SDY736       ARM3054         SUB167226  Age at Study Day 0   \n",
       "1          SDY736       ARM3054         SUB167227  Age at Study Day 0   \n",
       "2          SDY736       ARM3054         SUB167302  Age at Study Day 0   \n",
       "3          SDY736       ARM3054         SUB167311  Age at Study Day 0   \n",
       "4          SDY736       ARM3054         SUB167314  Age at Study Day 0   \n",
       "\n",
       "   AGE_EVENT_SPECIFY AGE_UNIT  MAX_SUBJECT_AGE  MIN_SUBJECT_AGE  \\\n",
       "0                NaN    Years            56.27            56.27   \n",
       "1                NaN    Years            53.63            53.63   \n",
       "2                NaN    Years            58.81            58.81   \n",
       "3                NaN    Years            68.02            68.02   \n",
       "4                NaN    Years            72.39            72.39   \n",
       "\n",
       "   SUBJECT_PHENOTYPE ANCESTRAL_POPULATION DESCRIPTION               ETHNICITY  \\\n",
       "0                NaN        North America         NaN      Hispanic or Latino   \n",
       "1                NaN        North America         NaN  Not Hispanic or Latino   \n",
       "2                NaN        North America         NaN  Not Hispanic or Latino   \n",
       "3                NaN        North America         NaN  Not Hispanic or Latino   \n",
       "4                NaN        North America         NaN  Not Hispanic or Latino   \n",
       "\n",
       "   GENDER     RACE RACE_SPECIFY       SPECIES  STRAIN  STRAIN_CHARACTERISTICS  \\\n",
       "0    Male    White          NaN  Homo sapiens     NaN                     NaN   \n",
       "1  Female  Unknown          NaN  Homo sapiens     NaN                     NaN   \n",
       "2  Female    White          NaN  Homo sapiens     NaN                     NaN   \n",
       "3  Female    White          NaN  Homo sapiens     NaN                     NaN   \n",
       "4  Female    White          NaN  Homo sapiens     NaN                     NaN   \n",
       "\n",
       "   WORKSPACE_ID  \n",
       "0          3366  \n",
       "1          3366  \n",
       "2          3366  \n",
       "3          3366  \n",
       "4          3366  "
      ]
     },
     "execution_count": 9,
     "metadata": {},
     "output_type": "execute_result"
    }
   ],
   "source": [
    "study_design.head()"
   ]
  },
  {
   "cell_type": "markdown",
   "metadata": {},
   "source": [
    "## Review Study Statistics\n",
    "- Arms included in the study"
   ]
  },
  {
   "cell_type": "code",
   "execution_count": 10,
   "metadata": {},
   "outputs": [
    {
     "data": {
      "text/html": [
       "<div>\n",
       "<style scoped>\n",
       "    .dataframe tbody tr th:only-of-type {\n",
       "        vertical-align: middle;\n",
       "    }\n",
       "\n",
       "    .dataframe tbody tr th {\n",
       "        vertical-align: top;\n",
       "    }\n",
       "\n",
       "    .dataframe thead th {\n",
       "        text-align: right;\n",
       "    }\n",
       "</style>\n",
       "<table border=\"1\" class=\"dataframe\">\n",
       "  <thead>\n",
       "    <tr style=\"text-align: right;\">\n",
       "      <th></th>\n",
       "      <th>ARM_ACCESSION</th>\n",
       "      <th>NAME</th>\n",
       "    </tr>\n",
       "  </thead>\n",
       "  <tbody>\n",
       "    <tr>\n",
       "      <th>0</th>\n",
       "      <td>ARM3054</td>\n",
       "      <td>CMV positive</td>\n",
       "    </tr>\n",
       "    <tr>\n",
       "      <th>1</th>\n",
       "      <td>ARM3055</td>\n",
       "      <td>CMV negative</td>\n",
       "    </tr>\n",
       "  </tbody>\n",
       "</table>\n",
       "</div>"
      ],
      "text/plain": [
       "  ARM_ACCESSION          NAME\n",
       "0       ARM3054  CMV positive\n",
       "1       ARM3055  CMV negative"
      ]
     },
     "execution_count": 10,
     "metadata": {},
     "output_type": "execute_result"
    }
   ],
   "source": [
    "arm_or_cohort[['ARM_ACCESSION','NAME']]"
   ]
  },
  {
   "cell_type": "markdown",
   "metadata": {},
   "source": [
    "- Number of subjects per arm"
   ]
  },
  {
   "cell_type": "code",
   "execution_count": 11,
   "metadata": {},
   "outputs": [
    {
     "data": {
      "text/plain": [
       "ARM_ACCESSION\n",
       "ARM3054    241\n",
       "ARM3055    152\n",
       "Name: SUBJECT_ACCESSION, dtype: int64"
      ]
     },
     "execution_count": 11,
     "metadata": {},
     "output_type": "execute_result"
    }
   ],
   "source": [
    "study_design.groupby('ARM_ACCESSION').count()['SUBJECT_ACCESSION']"
   ]
  },
  {
   "cell_type": "markdown",
   "metadata": {},
   "source": [
    "- Number of subjects per gender"
   ]
  },
  {
   "cell_type": "code",
   "execution_count": 12,
   "metadata": {},
   "outputs": [
    {
     "data": {
      "text/plain": [
       "GENDER\n",
       "Female     242\n",
       "Male       150\n",
       "Unknown      1\n",
       "Name: SUBJECT_ACCESSION, dtype: int64"
      ]
     },
     "execution_count": 12,
     "metadata": {},
     "output_type": "execute_result"
    }
   ],
   "source": [
    "study_design.groupby('GENDER').count()['SUBJECT_ACCESSION']"
   ]
  },
  {
   "cell_type": "markdown",
   "metadata": {},
   "source": [
    "- Number of subjects per gender per arm"
   ]
  },
  {
   "cell_type": "code",
   "execution_count": 13,
   "metadata": {},
   "outputs": [
    {
     "data": {
      "text/html": [
       "<div>\n",
       "<style scoped>\n",
       "    .dataframe tbody tr th:only-of-type {\n",
       "        vertical-align: middle;\n",
       "    }\n",
       "\n",
       "    .dataframe tbody tr th {\n",
       "        vertical-align: top;\n",
       "    }\n",
       "\n",
       "    .dataframe thead th {\n",
       "        text-align: right;\n",
       "    }\n",
       "</style>\n",
       "<table border=\"1\" class=\"dataframe\">\n",
       "  <thead>\n",
       "    <tr style=\"text-align: right;\">\n",
       "      <th>GENDER</th>\n",
       "      <th>Female</th>\n",
       "      <th>Male</th>\n",
       "      <th>Unknown</th>\n",
       "    </tr>\n",
       "    <tr>\n",
       "      <th>ARM_ACCESSION</th>\n",
       "      <th></th>\n",
       "      <th></th>\n",
       "      <th></th>\n",
       "    </tr>\n",
       "  </thead>\n",
       "  <tbody>\n",
       "    <tr>\n",
       "      <th>ARM3054</th>\n",
       "      <td>158</td>\n",
       "      <td>83</td>\n",
       "      <td>0</td>\n",
       "    </tr>\n",
       "    <tr>\n",
       "      <th>ARM3055</th>\n",
       "      <td>84</td>\n",
       "      <td>67</td>\n",
       "      <td>1</td>\n",
       "    </tr>\n",
       "  </tbody>\n",
       "</table>\n",
       "</div>"
      ],
      "text/plain": [
       "GENDER         Female  Male  Unknown\n",
       "ARM_ACCESSION                       \n",
       "ARM3054           158    83        0\n",
       "ARM3055            84    67        1"
      ]
     },
     "execution_count": 13,
     "metadata": {},
     "output_type": "execute_result"
    }
   ],
   "source": [
    "pd.crosstab(study_design.ARM_ACCESSION,study_design.GENDER)"
   ]
  },
  {
   "cell_type": "markdown",
   "metadata": {},
   "source": [
    "### Simple Demographic Plots\n",
    "- Age distribution per arm"
   ]
  },
  {
   "cell_type": "code",
   "execution_count": 14,
   "metadata": {},
   "outputs": [
    {
     "data": {
      "image/png": "[encoded data removed]",
      "text/plain": [
       "<matplotlib.figure.Figure at 0x7feeee611a58>"
      ]
     },
     "metadata": {},
     "output_type": "display_data"
    }
   ],
   "source": [
    "sns.boxplot(x='ARM_ACCESSION',y='MIN_SUBJECT_AGE',data=study_design);"
   ]
  },
  {
   "cell_type": "markdown",
   "metadata": {},
   "source": [
    "- Age distribution per arm per gender"
   ]
  },
  {
   "cell_type": "code",
   "execution_count": 15,
   "metadata": {},
   "outputs": [
    {
     "data": {
      "image/png": "[encoded data removed]",
      "text/plain": [
       "<matplotlib.figure.Figure at 0x7feeee5e5cc0>"
      ]
     },
     "metadata": {},
     "output_type": "display_data"
    }
   ],
   "source": [
    "sns.boxplot(x='ARM_ACCESSION',y='MIN_SUBJECT_AGE',hue='GENDER',data=study_design);"
   ]
  },
  {
   "cell_type": "markdown",
   "metadata": {},
   "source": [
    "## Integration of FCS derived data with Subject and Arm information\n",
    "  \n",
    "Let's start by looking at the flow cytometry derived data. The data is parsed and is available in the **fcs_analyzed_result.txt** file. This file can get quite wide so we can change the default parameters for pandas DataFrame display in order to be able to see the table."
   ]
  },
  {
   "cell_type": "code",
   "execution_count": 16,
   "metadata": {
    "collapsed": true
   },
   "outputs": [],
   "source": [
    "pd.options.display.max_columns = 30"
   ]
  },
  {
   "cell_type": "code",
   "execution_count": 17,
   "metadata": {},
   "outputs": [
    {
     "data": {
      "text/html": [
       "<div>\n",
       "<style scoped>\n",
       "    .dataframe tbody tr th:only-of-type {\n",
       "        vertical-align: middle;\n",
       "    }\n",
       "\n",
       "    .dataframe tbody tr th {\n",
       "        vertical-align: top;\n",
       "    }\n",
       "\n",
       "    .dataframe thead th {\n",
       "        text-align: right;\n",
       "    }\n",
       "</style>\n",
       "<table border=\"1\" class=\"dataframe\">\n",
       "  <thead>\n",
       "    <tr style=\"text-align: right;\">\n",
       "      <th></th>\n",
       "      <th>RESULT_ID</th>\n",
       "      <th>ARM_ACCESSION</th>\n",
       "      <th>BIOSAMPLE_ACCESSION</th>\n",
       "      <th>COMMENTS</th>\n",
       "      <th>EXPERIMENT_ACCESSION</th>\n",
       "      <th>EXPSAMPLE_ACCESSION</th>\n",
       "      <th>PARENT_POPULATION_PREFERRED</th>\n",
       "      <th>PARENT_POPULATION_REPORTED</th>\n",
       "      <th>POPULATION_DEFNITION_PREFERRED</th>\n",
       "      <th>POPULATION_DEFNITION_REPORTED</th>\n",
       "      <th>POPULATION_NAME_PREFERRED</th>\n",
       "      <th>POPULATION_NAME_REPORTED</th>\n",
       "      <th>POPULATION_STAT_UNIT_PREFERRED</th>\n",
       "      <th>POPULATION_STAT_UNIT_REPORTED</th>\n",
       "      <th>POPULATION_STATISTIC_PREFERRED</th>\n",
       "      <th>POPULATION_STATISTIC_REPORTED</th>\n",
       "      <th>REPOSITORY_ACCESSION</th>\n",
       "      <th>REPOSITORY_NAME</th>\n",
       "      <th>STUDY_ACCESSION</th>\n",
       "      <th>STUDY_TIME_COLLECTED</th>\n",
       "      <th>STUDY_TIME_COLLECTED_UNIT</th>\n",
       "      <th>SUBJECT_ACCESSION</th>\n",
       "      <th>WORKSPACE_FILE_INFO_ID</th>\n",
       "      <th>WORKSPACE_ID</th>\n",
       "    </tr>\n",
       "  </thead>\n",
       "  <tbody>\n",
       "    <tr>\n",
       "      <th>0</th>\n",
       "      <td>938535</td>\n",
       "      <td>ARM3054</td>\n",
       "      <td>BS890648</td>\n",
       "      <td>NaN</td>\n",
       "      <td>EXP14311</td>\n",
       "      <td>ES1006805</td>\n",
       "      <td>NaN</td>\n",
       "      <td>NaN</td>\n",
       "      <td>NaN</td>\n",
       "      <td>CD3-</td>\n",
       "      <td>NaN</td>\n",
       "      <td>CD3 Viability</td>\n",
       "      <td>percentage</td>\n",
       "      <td>percentage</td>\n",
       "      <td>NaN</td>\n",
       "      <td>42.90000</td>\n",
       "      <td>NaN</td>\n",
       "      <td>NaN</td>\n",
       "      <td>SDY736</td>\n",
       "      <td>0</td>\n",
       "      <td>Days</td>\n",
       "      <td>SUB167027</td>\n",
       "      <td>585115</td>\n",
       "      <td>3366</td>\n",
       "    </tr>\n",
       "    <tr>\n",
       "      <th>1</th>\n",
       "      <td>938985</td>\n",
       "      <td>ARM3054</td>\n",
       "      <td>BS890932</td>\n",
       "      <td>NaN</td>\n",
       "      <td>EXP14311</td>\n",
       "      <td>ES1007089</td>\n",
       "      <td>NaN</td>\n",
       "      <td>NaN</td>\n",
       "      <td>NaN</td>\n",
       "      <td>CD3+, CD4-, CD8+, CD28int, CD95low</td>\n",
       "      <td>NaN</td>\n",
       "      <td>naive thymus-derived CD8-positive, alpha-beta ...</td>\n",
       "      <td>cells/ul</td>\n",
       "      <td>cells/ul</td>\n",
       "      <td>NaN</td>\n",
       "      <td>41.09457</td>\n",
       "      <td>NaN</td>\n",
       "      <td>NaN</td>\n",
       "      <td>SDY736</td>\n",
       "      <td>0</td>\n",
       "      <td>Days</td>\n",
       "      <td>SUB167121</td>\n",
       "      <td>585115</td>\n",
       "      <td>3366</td>\n",
       "    </tr>\n",
       "    <tr>\n",
       "      <th>2</th>\n",
       "      <td>938370</td>\n",
       "      <td>ARM3054</td>\n",
       "      <td>BS890550</td>\n",
       "      <td>NaN</td>\n",
       "      <td>EXP14311</td>\n",
       "      <td>ES1006707</td>\n",
       "      <td>NaN</td>\n",
       "      <td>NaN</td>\n",
       "      <td>NaN</td>\n",
       "      <td>CD3-</td>\n",
       "      <td>NaN</td>\n",
       "      <td>CD3 Viability</td>\n",
       "      <td>cells/ul</td>\n",
       "      <td>cells/ul</td>\n",
       "      <td>NaN</td>\n",
       "      <td>780.10000</td>\n",
       "      <td>NaN</td>\n",
       "      <td>NaN</td>\n",
       "      <td>SDY736</td>\n",
       "      <td>0</td>\n",
       "      <td>Days</td>\n",
       "      <td>SUB167148</td>\n",
       "      <td>585115</td>\n",
       "      <td>3366</td>\n",
       "    </tr>\n",
       "    <tr>\n",
       "      <th>3</th>\n",
       "      <td>938872</td>\n",
       "      <td>ARM3055</td>\n",
       "      <td>BS890867</td>\n",
       "      <td>NaN</td>\n",
       "      <td>EXP14311</td>\n",
       "      <td>ES1007024</td>\n",
       "      <td>NaN</td>\n",
       "      <td>NaN</td>\n",
       "      <td>NaN</td>\n",
       "      <td>CD3+, CD4-, CD8+, CD28int, CD95low</td>\n",
       "      <td>NaN</td>\n",
       "      <td>naive thymus-derived CD8-positive, alpha-beta ...</td>\n",
       "      <td>cells/ul</td>\n",
       "      <td>cells/ul</td>\n",
       "      <td>NaN</td>\n",
       "      <td>76.85000</td>\n",
       "      <td>NaN</td>\n",
       "      <td>NaN</td>\n",
       "      <td>SDY736</td>\n",
       "      <td>0</td>\n",
       "      <td>Days</td>\n",
       "      <td>SUB167377</td>\n",
       "      <td>585115</td>\n",
       "      <td>3366</td>\n",
       "    </tr>\n",
       "    <tr>\n",
       "      <th>4</th>\n",
       "      <td>938877</td>\n",
       "      <td>ARM3054</td>\n",
       "      <td>BS890869</td>\n",
       "      <td>NaN</td>\n",
       "      <td>EXP14311</td>\n",
       "      <td>ES1007026</td>\n",
       "      <td>NaN</td>\n",
       "      <td>NaN</td>\n",
       "      <td>NaN</td>\n",
       "      <td>CD3+, CD4-, CD8+, CD28int, CD95low</td>\n",
       "      <td>NaN</td>\n",
       "      <td>naive thymus-derived CD8-positive, alpha-beta ...</td>\n",
       "      <td>percentage</td>\n",
       "      <td>percentage</td>\n",
       "      <td>NaN</td>\n",
       "      <td>67.80000</td>\n",
       "      <td>NaN</td>\n",
       "      <td>NaN</td>\n",
       "      <td>SDY736</td>\n",
       "      <td>0</td>\n",
       "      <td>Days</td>\n",
       "      <td>SUB167380</td>\n",
       "      <td>585115</td>\n",
       "      <td>3366</td>\n",
       "    </tr>\n",
       "  </tbody>\n",
       "</table>\n",
       "</div>"
      ],
      "text/plain": [
       "   RESULT_ID ARM_ACCESSION BIOSAMPLE_ACCESSION  COMMENTS EXPERIMENT_ACCESSION  \\\n",
       "0     938535       ARM3054            BS890648       NaN             EXP14311   \n",
       "1     938985       ARM3054            BS890932       NaN             EXP14311   \n",
       "2     938370       ARM3054            BS890550       NaN             EXP14311   \n",
       "3     938872       ARM3055            BS890867       NaN             EXP14311   \n",
       "4     938877       ARM3054            BS890869       NaN             EXP14311   \n",
       "\n",
       "  EXPSAMPLE_ACCESSION  PARENT_POPULATION_PREFERRED  \\\n",
       "0           ES1006805                          NaN   \n",
       "1           ES1007089                          NaN   \n",
       "2           ES1006707                          NaN   \n",
       "3           ES1007024                          NaN   \n",
       "4           ES1007026                          NaN   \n",
       "\n",
       "   PARENT_POPULATION_REPORTED  POPULATION_DEFNITION_PREFERRED  \\\n",
       "0                         NaN                             NaN   \n",
       "1                         NaN                             NaN   \n",
       "2                         NaN                             NaN   \n",
       "3                         NaN                             NaN   \n",
       "4                         NaN                             NaN   \n",
       "\n",
       "        POPULATION_DEFNITION_REPORTED  POPULATION_NAME_PREFERRED  \\\n",
       "0                                CD3-                        NaN   \n",
       "1  CD3+, CD4-, CD8+, CD28int, CD95low                        NaN   \n",
       "2                                CD3-                        NaN   \n",
       "3  CD3+, CD4-, CD8+, CD28int, CD95low                        NaN   \n",
       "4  CD3+, CD4-, CD8+, CD28int, CD95low                        NaN   \n",
       "\n",
       "                            POPULATION_NAME_REPORTED  \\\n",
       "0                                      CD3 Viability   \n",
       "1  naive thymus-derived CD8-positive, alpha-beta ...   \n",
       "2                                      CD3 Viability   \n",
       "3  naive thymus-derived CD8-positive, alpha-beta ...   \n",
       "4  naive thymus-derived CD8-positive, alpha-beta ...   \n",
       "\n",
       "  POPULATION_STAT_UNIT_PREFERRED POPULATION_STAT_UNIT_REPORTED  \\\n",
       "0                     percentage                    percentage   \n",
       "1                       cells/ul                      cells/ul   \n",
       "2                       cells/ul                      cells/ul   \n",
       "3                       cells/ul                      cells/ul   \n",
       "4                     percentage                    percentage   \n",
       "\n",
       "   POPULATION_STATISTIC_PREFERRED  POPULATION_STATISTIC_REPORTED  \\\n",
       "0                             NaN                       42.90000   \n",
       "1                             NaN                       41.09457   \n",
       "2                             NaN                      780.10000   \n",
       "3                             NaN                       76.85000   \n",
       "4                             NaN                       67.80000   \n",
       "\n",
       "   REPOSITORY_ACCESSION  REPOSITORY_NAME STUDY_ACCESSION  \\\n",
       "0                   NaN              NaN          SDY736   \n",
       "1                   NaN              NaN          SDY736   \n",
       "2                   NaN              NaN          SDY736   \n",
       "3                   NaN              NaN          SDY736   \n",
       "4                   NaN              NaN          SDY736   \n",
       "\n",
       "   STUDY_TIME_COLLECTED STUDY_TIME_COLLECTED_UNIT SUBJECT_ACCESSION  \\\n",
       "0                     0                      Days         SUB167027   \n",
       "1                     0                      Days         SUB167121   \n",
       "2                     0                      Days         SUB167148   \n",
       "3                     0                      Days         SUB167377   \n",
       "4                     0                      Days         SUB167380   \n",
       "\n",
       "   WORKSPACE_FILE_INFO_ID  WORKSPACE_ID  \n",
       "0                  585115          3366  \n",
       "1                  585115          3366  \n",
       "2                  585115          3366  \n",
       "3                  585115          3366  \n",
       "4                  585115          3366  "
      ]
     },
     "execution_count": 17,
     "metadata": {},
     "output_type": "execute_result"
    }
   ],
   "source": [
    "fcs_analyzed_result = pd.read_table(META_DATA_DIR + '/fcs_analyzed_result.txt',sep=\"\\t\")\n",
    "fcs_analyzed_result.head()"
   ]
  },
  {
   "cell_type": "code",
   "execution_count": 18,
   "metadata": {},
   "outputs": [
    {
     "data": {
      "text/plain": [
       "STUDY_TIME_COLLECTED\n",
       "0      808\n",
       "1        2\n",
       "7        2\n",
       "13       4\n",
       "34       2\n",
       "126      2\n",
       "176      2\n",
       "482      2\n",
       "Name: SUBJECT_ACCESSION, dtype: int64"
      ]
     },
     "execution_count": 18,
     "metadata": {},
     "output_type": "execute_result"
    }
   ],
   "source": [
    "fcs_analyzed_result.groupby('STUDY_TIME_COLLECTED').count()['SUBJECT_ACCESSION']"
   ]
  },
  {
   "cell_type": "markdown",
   "metadata": {},
   "source": [
    "We can focus on a subset of the information by filtering out columns that are not of interest. Similarly, most of the measures are taken at Study Day 0, and we can filter out results obtained at any other STUDY_TIME_COLLECTED. "
   ]
  },
  {
   "cell_type": "code",
   "execution_count": 19,
   "metadata": {
    "collapsed": true
   },
   "outputs": [],
   "source": [
    "keep = ['ARM_ACCESSION','SUBJECT_ACCESSION','POPULATION_DEFNITION_REPORTED',\n",
    "        'POPULATION_NAME_REPORTED','POPULATION_STAT_UNIT_REPORTED',\n",
    "        'POPULATION_STATISTIC_REPORTED','STUDY_TIME_COLLECTED']\n",
    "fcs_analyzed_result_short = fcs_analyzed_result[fcs_analyzed_result['STUDY_TIME_COLLECTED']==0][keep]"
   ]
  },
  {
   "cell_type": "code",
   "execution_count": 20,
   "metadata": {},
   "outputs": [
    {
     "data": {
      "text/plain": [
       "STUDY_TIME_COLLECTED\n",
       "0    808\n",
       "Name: SUBJECT_ACCESSION, dtype: int64"
      ]
     },
     "execution_count": 20,
     "metadata": {},
     "output_type": "execute_result"
    }
   ],
   "source": [
    "fcs_analyzed_result_short.groupby('STUDY_TIME_COLLECTED').count()['SUBJECT_ACCESSION']"
   ]
  },
  {
   "cell_type": "markdown",
   "metadata": {},
   "source": [
    "- Number of results per population reported"
   ]
  },
  {
   "cell_type": "code",
   "execution_count": 21,
   "metadata": {},
   "outputs": [
    {
     "data": {
      "text/plain": [
       "POPULATION_DEFNITION_REPORTED\n",
       "CD3+, CD4-, CD8+, CD28int, CD95low    354\n",
       "CD3-                                  454\n",
       "Name: SUBJECT_ACCESSION, dtype: int64"
      ]
     },
     "execution_count": 21,
     "metadata": {},
     "output_type": "execute_result"
    }
   ],
   "source": [
    "fcs_analyzed_result_short.groupby('POPULATION_DEFNITION_REPORTED').count()['SUBJECT_ACCESSION']"
   ]
  },
  {
   "cell_type": "code",
   "execution_count": 22,
   "metadata": {},
   "outputs": [
    {
     "data": {
      "text/html": [
       "<div>\n",
       "<style scoped>\n",
       "    .dataframe tbody tr th:only-of-type {\n",
       "        vertical-align: middle;\n",
       "    }\n",
       "\n",
       "    .dataframe tbody tr th {\n",
       "        vertical-align: top;\n",
       "    }\n",
       "\n",
       "    .dataframe thead th {\n",
       "        text-align: right;\n",
       "    }\n",
       "</style>\n",
       "<table border=\"1\" class=\"dataframe\">\n",
       "  <thead>\n",
       "    <tr style=\"text-align: right;\">\n",
       "      <th></th>\n",
       "      <th>ARM_ACCESSION</th>\n",
       "      <th>SUBJECT_ACCESSION</th>\n",
       "      <th>POPULATION_DEFNITION_REPORTED</th>\n",
       "      <th>POPULATION_NAME_REPORTED</th>\n",
       "      <th>POPULATION_STAT_UNIT_REPORTED</th>\n",
       "      <th>POPULATION_STATISTIC_REPORTED</th>\n",
       "      <th>STUDY_TIME_COLLECTED</th>\n",
       "    </tr>\n",
       "  </thead>\n",
       "  <tbody>\n",
       "    <tr>\n",
       "      <th>0</th>\n",
       "      <td>ARM3054</td>\n",
       "      <td>SUB167027</td>\n",
       "      <td>CD3-</td>\n",
       "      <td>CD3 Viability</td>\n",
       "      <td>percentage</td>\n",
       "      <td>42.90000</td>\n",
       "      <td>0</td>\n",
       "    </tr>\n",
       "    <tr>\n",
       "      <th>1</th>\n",
       "      <td>ARM3054</td>\n",
       "      <td>SUB167121</td>\n",
       "      <td>CD3+, CD4-, CD8+, CD28int, CD95low</td>\n",
       "      <td>naive thymus-derived CD8-positive, alpha-beta ...</td>\n",
       "      <td>cells/ul</td>\n",
       "      <td>41.09457</td>\n",
       "      <td>0</td>\n",
       "    </tr>\n",
       "    <tr>\n",
       "      <th>2</th>\n",
       "      <td>ARM3054</td>\n",
       "      <td>SUB167148</td>\n",
       "      <td>CD3-</td>\n",
       "      <td>CD3 Viability</td>\n",
       "      <td>cells/ul</td>\n",
       "      <td>780.10000</td>\n",
       "      <td>0</td>\n",
       "    </tr>\n",
       "    <tr>\n",
       "      <th>3</th>\n",
       "      <td>ARM3055</td>\n",
       "      <td>SUB167377</td>\n",
       "      <td>CD3+, CD4-, CD8+, CD28int, CD95low</td>\n",
       "      <td>naive thymus-derived CD8-positive, alpha-beta ...</td>\n",
       "      <td>cells/ul</td>\n",
       "      <td>76.85000</td>\n",
       "      <td>0</td>\n",
       "    </tr>\n",
       "    <tr>\n",
       "      <th>4</th>\n",
       "      <td>ARM3054</td>\n",
       "      <td>SUB167380</td>\n",
       "      <td>CD3+, CD4-, CD8+, CD28int, CD95low</td>\n",
       "      <td>naive thymus-derived CD8-positive, alpha-beta ...</td>\n",
       "      <td>percentage</td>\n",
       "      <td>67.80000</td>\n",
       "      <td>0</td>\n",
       "    </tr>\n",
       "    <tr>\n",
       "      <th>5</th>\n",
       "      <td>ARM3054</td>\n",
       "      <td>SUB167380</td>\n",
       "      <td>CD3+, CD4-, CD8+, CD28int, CD95low</td>\n",
       "      <td>naive thymus-derived CD8-positive, alpha-beta ...</td>\n",
       "      <td>cells/ul</td>\n",
       "      <td>4.15572</td>\n",
       "      <td>0</td>\n",
       "    </tr>\n",
       "    <tr>\n",
       "      <th>6</th>\n",
       "      <td>ARM3054</td>\n",
       "      <td>SUB167335</td>\n",
       "      <td>CD3+, CD4-, CD8+, CD28int, CD95low</td>\n",
       "      <td>naive thymus-derived CD8-positive, alpha-beta ...</td>\n",
       "      <td>percentage</td>\n",
       "      <td>38.10000</td>\n",
       "      <td>0</td>\n",
       "    </tr>\n",
       "    <tr>\n",
       "      <th>7</th>\n",
       "      <td>ARM3054</td>\n",
       "      <td>SUB167084</td>\n",
       "      <td>CD3-</td>\n",
       "      <td>CD3 Viability</td>\n",
       "      <td>cells/ul</td>\n",
       "      <td>389.40000</td>\n",
       "      <td>0</td>\n",
       "    </tr>\n",
       "    <tr>\n",
       "      <th>8</th>\n",
       "      <td>ARM3055</td>\n",
       "      <td>SUB167333</td>\n",
       "      <td>CD3+, CD4-, CD8+, CD28int, CD95low</td>\n",
       "      <td>naive thymus-derived CD8-positive, alpha-beta ...</td>\n",
       "      <td>cells/ul</td>\n",
       "      <td>166.48000</td>\n",
       "      <td>0</td>\n",
       "    </tr>\n",
       "    <tr>\n",
       "      <th>9</th>\n",
       "      <td>ARM3054</td>\n",
       "      <td>SUB167261</td>\n",
       "      <td>CD3-</td>\n",
       "      <td>CD3 Viability</td>\n",
       "      <td>cells/ul</td>\n",
       "      <td>455.94000</td>\n",
       "      <td>0</td>\n",
       "    </tr>\n",
       "  </tbody>\n",
       "</table>\n",
       "</div>"
      ],
      "text/plain": [
       "  ARM_ACCESSION SUBJECT_ACCESSION       POPULATION_DEFNITION_REPORTED  \\\n",
       "0       ARM3054         SUB167027                                CD3-   \n",
       "1       ARM3054         SUB167121  CD3+, CD4-, CD8+, CD28int, CD95low   \n",
       "2       ARM3054         SUB167148                                CD3-   \n",
       "3       ARM3055         SUB167377  CD3+, CD4-, CD8+, CD28int, CD95low   \n",
       "4       ARM3054         SUB167380  CD3+, CD4-, CD8+, CD28int, CD95low   \n",
       "5       ARM3054         SUB167380  CD3+, CD4-, CD8+, CD28int, CD95low   \n",
       "6       ARM3054         SUB167335  CD3+, CD4-, CD8+, CD28int, CD95low   \n",
       "7       ARM3054         SUB167084                                CD3-   \n",
       "8       ARM3055         SUB167333  CD3+, CD4-, CD8+, CD28int, CD95low   \n",
       "9       ARM3054         SUB167261                                CD3-   \n",
       "\n",
       "                            POPULATION_NAME_REPORTED  \\\n",
       "0                                      CD3 Viability   \n",
       "1  naive thymus-derived CD8-positive, alpha-beta ...   \n",
       "2                                      CD3 Viability   \n",
       "3  naive thymus-derived CD8-positive, alpha-beta ...   \n",
       "4  naive thymus-derived CD8-positive, alpha-beta ...   \n",
       "5  naive thymus-derived CD8-positive, alpha-beta ...   \n",
       "6  naive thymus-derived CD8-positive, alpha-beta ...   \n",
       "7                                      CD3 Viability   \n",
       "8  naive thymus-derived CD8-positive, alpha-beta ...   \n",
       "9                                      CD3 Viability   \n",
       "\n",
       "  POPULATION_STAT_UNIT_REPORTED  POPULATION_STATISTIC_REPORTED  \\\n",
       "0                    percentage                       42.90000   \n",
       "1                      cells/ul                       41.09457   \n",
       "2                      cells/ul                      780.10000   \n",
       "3                      cells/ul                       76.85000   \n",
       "4                    percentage                       67.80000   \n",
       "5                      cells/ul                        4.15572   \n",
       "6                    percentage                       38.10000   \n",
       "7                      cells/ul                      389.40000   \n",
       "8                      cells/ul                      166.48000   \n",
       "9                      cells/ul                      455.94000   \n",
       "\n",
       "   STUDY_TIME_COLLECTED  \n",
       "0                     0  \n",
       "1                     0  \n",
       "2                     0  \n",
       "3                     0  \n",
       "4                     0  \n",
       "5                     0  \n",
       "6                     0  \n",
       "7                     0  \n",
       "8                     0  \n",
       "9                     0  "
      ]
     },
     "execution_count": 22,
     "metadata": {},
     "output_type": "execute_result"
    }
   ],
   "source": [
    "fcs_analyzed_result_short.head(10)"
   ]
  },
  {
   "cell_type": "markdown",
   "metadata": {},
   "source": [
    "For ease of manipulation, we can subset each reported population into individual data structures, and look at the repartition of data between each arm of the study."
   ]
  },
  {
   "cell_type": "code",
   "execution_count": 23,
   "metadata": {
    "collapsed": true
   },
   "outputs": [],
   "source": [
    "name = 'CD3+, CD4-, CD8+, CD28int, CD95low'\n",
    "column_keep = ['ARM_ACCESSION','SUBJECT_ACCESSION','POPULATION_STAT_UNIT_REPORTED','POPULATION_STATISTIC_REPORTED']\n",
    "allCD3pos = fcs_analyzed_result_short[fcs_analyzed_result_short['POPULATION_DEFNITION_REPORTED']==name][column_keep]\n",
    "name = 'CD3-'\n",
    "allCD3neg = fcs_analyzed_result_short[fcs_analyzed_result_short['POPULATION_DEFNITION_REPORTED']==name][column_keep]"
   ]
  },
  {
   "cell_type": "code",
   "execution_count": 24,
   "metadata": {},
   "outputs": [
    {
     "data": {
      "text/plain": [
       "(354, 4)"
      ]
     },
     "execution_count": 24,
     "metadata": {},
     "output_type": "execute_result"
    }
   ],
   "source": [
    "allCD3pos.shape"
   ]
  },
  {
   "cell_type": "code",
   "execution_count": 25,
   "metadata": {},
   "outputs": [
    {
     "data": {
      "text/plain": [
       "(454, 4)"
      ]
     },
     "execution_count": 25,
     "metadata": {},
     "output_type": "execute_result"
    }
   ],
   "source": [
    "allCD3neg.shape"
   ]
  },
  {
   "cell_type": "code",
   "execution_count": 26,
   "metadata": {},
   "outputs": [
    {
     "data": {
      "text/html": [
       "<div>\n",
       "<style scoped>\n",
       "    .dataframe tbody tr th:only-of-type {\n",
       "        vertical-align: middle;\n",
       "    }\n",
       "\n",
       "    .dataframe tbody tr th {\n",
       "        vertical-align: top;\n",
       "    }\n",
       "\n",
       "    .dataframe thead th {\n",
       "        text-align: right;\n",
       "    }\n",
       "</style>\n",
       "<table border=\"1\" class=\"dataframe\">\n",
       "  <thead>\n",
       "    <tr style=\"text-align: right;\">\n",
       "      <th></th>\n",
       "      <th>ARM_ACCESSION</th>\n",
       "      <th>NAME</th>\n",
       "    </tr>\n",
       "  </thead>\n",
       "  <tbody>\n",
       "    <tr>\n",
       "      <th>0</th>\n",
       "      <td>ARM3054</td>\n",
       "      <td>CMV positive</td>\n",
       "    </tr>\n",
       "    <tr>\n",
       "      <th>1</th>\n",
       "      <td>ARM3055</td>\n",
       "      <td>CMV negative</td>\n",
       "    </tr>\n",
       "  </tbody>\n",
       "</table>\n",
       "</div>"
      ],
      "text/plain": [
       "  ARM_ACCESSION          NAME\n",
       "0       ARM3054  CMV positive\n",
       "1       ARM3055  CMV negative"
      ]
     },
     "execution_count": 26,
     "metadata": {},
     "output_type": "execute_result"
    }
   ],
   "source": [
    "arm_or_cohort[['ARM_ACCESSION','NAME']]"
   ]
  },
  {
   "cell_type": "markdown",
   "metadata": {},
   "source": [
    "In the case of **SDY736** the fcs derived analysis results were provided under 2 formats, cell counts and percentages. Both are captured in the same table, and need to be separated for proper subsequent analysis."
   ]
  },
  {
   "cell_type": "code",
   "execution_count": 27,
   "metadata": {},
   "outputs": [
    {
     "data": {
      "text/html": [
       "<div>\n",
       "<style scoped>\n",
       "    .dataframe tbody tr th:only-of-type {\n",
       "        vertical-align: middle;\n",
       "    }\n",
       "\n",
       "    .dataframe tbody tr th {\n",
       "        vertical-align: top;\n",
       "    }\n",
       "\n",
       "    .dataframe thead th {\n",
       "        text-align: right;\n",
       "    }\n",
       "</style>\n",
       "<table border=\"1\" class=\"dataframe\">\n",
       "  <thead>\n",
       "    <tr style=\"text-align: right;\">\n",
       "      <th>POPULATION_STAT_UNIT_REPORTED</th>\n",
       "      <th>cells/ul</th>\n",
       "      <th>percentage</th>\n",
       "    </tr>\n",
       "    <tr>\n",
       "      <th>ARM_ACCESSION</th>\n",
       "      <th></th>\n",
       "      <th></th>\n",
       "    </tr>\n",
       "  </thead>\n",
       "  <tbody>\n",
       "    <tr>\n",
       "      <th>ARM3054</th>\n",
       "      <td>98</td>\n",
       "      <td>74</td>\n",
       "    </tr>\n",
       "    <tr>\n",
       "      <th>ARM3055</th>\n",
       "      <td>104</td>\n",
       "      <td>78</td>\n",
       "    </tr>\n",
       "  </tbody>\n",
       "</table>\n",
       "</div>"
      ],
      "text/plain": [
       "POPULATION_STAT_UNIT_REPORTED  cells/ul  percentage\n",
       "ARM_ACCESSION                                      \n",
       "ARM3054                              98          74\n",
       "ARM3055                             104          78"
      ]
     },
     "execution_count": 27,
     "metadata": {},
     "output_type": "execute_result"
    }
   ],
   "source": [
    "pd.crosstab(allCD3pos.ARM_ACCESSION, allCD3pos.POPULATION_STAT_UNIT_REPORTED)"
   ]
  },
  {
   "cell_type": "code",
   "execution_count": 28,
   "metadata": {},
   "outputs": [
    {
     "data": {
      "text/html": [
       "<div>\n",
       "<style scoped>\n",
       "    .dataframe tbody tr th:only-of-type {\n",
       "        vertical-align: middle;\n",
       "    }\n",
       "\n",
       "    .dataframe tbody tr th {\n",
       "        vertical-align: top;\n",
       "    }\n",
       "\n",
       "    .dataframe thead th {\n",
       "        text-align: right;\n",
       "    }\n",
       "</style>\n",
       "<table border=\"1\" class=\"dataframe\">\n",
       "  <thead>\n",
       "    <tr style=\"text-align: right;\">\n",
       "      <th>POPULATION_STAT_UNIT_REPORTED</th>\n",
       "      <th>cells/ul</th>\n",
       "      <th>percentage</th>\n",
       "    </tr>\n",
       "    <tr>\n",
       "      <th>ARM_ACCESSION</th>\n",
       "      <th></th>\n",
       "      <th></th>\n",
       "    </tr>\n",
       "  </thead>\n",
       "  <tbody>\n",
       "    <tr>\n",
       "      <th>ARM3054</th>\n",
       "      <td>157</td>\n",
       "      <td>157</td>\n",
       "    </tr>\n",
       "    <tr>\n",
       "      <th>ARM3055</th>\n",
       "      <td>70</td>\n",
       "      <td>70</td>\n",
       "    </tr>\n",
       "  </tbody>\n",
       "</table>\n",
       "</div>"
      ],
      "text/plain": [
       "POPULATION_STAT_UNIT_REPORTED  cells/ul  percentage\n",
       "ARM_ACCESSION                                      \n",
       "ARM3054                             157         157\n",
       "ARM3055                              70          70"
      ]
     },
     "execution_count": 28,
     "metadata": {},
     "output_type": "execute_result"
    }
   ],
   "source": [
    "pd.crosstab(allCD3neg.ARM_ACCESSION, allCD3neg.POPULATION_STAT_UNIT_REPORTED)"
   ]
  },
  {
   "cell_type": "code",
   "execution_count": 29,
   "metadata": {},
   "outputs": [],
   "source": [
    "name = 'cells/ul'\n",
    "CD3pos = allCD3pos[allCD3pos['POPULATION_STAT_UNIT_REPORTED']==name]\n",
    "CD3neg = allCD3neg[allCD3neg['POPULATION_STAT_UNIT_REPORTED']==name]\n",
    "name = 'percentage'\n",
    "pCD3pos = allCD3pos[allCD3pos['POPULATION_STAT_UNIT_REPORTED']==name]\n",
    "pCD3neg = allCD3neg[allCD3neg['POPULATION_STAT_UNIT_REPORTED']==name]\n"
   ]
  },
  {
   "cell_type": "markdown",
   "metadata": {},
   "source": [
    "There are now 4 dataframes, each containing data corresponding to 2 different measures - cell counts and percentages - of 2 reported cell populations, differentiated by their CD3 status.  \n",
    "The POPULATION_STATISTIC_REPORTED column contains the reported value of the assay. We can look at the mean of these values (cell counts or percentages) in each group."
   ]
  },
  {
   "cell_type": "code",
   "execution_count": 30,
   "metadata": {},
   "outputs": [
    {
     "data": {
      "text/plain": [
       "ARM_ACCESSION\n",
       "ARM3054     92.282475\n",
       "ARM3055    115.522358\n",
       "Name: POPULATION_STATISTIC_REPORTED, dtype: float64"
      ]
     },
     "execution_count": 30,
     "metadata": {},
     "output_type": "execute_result"
    }
   ],
   "source": [
    "CD3pos.groupby('ARM_ACCESSION').mean()['POPULATION_STATISTIC_REPORTED']"
   ]
  },
  {
   "cell_type": "code",
   "execution_count": 31,
   "metadata": {},
   "outputs": [
    {
     "data": {
      "text/plain": [
       "ARM_ACCESSION\n",
       "ARM3054    29.381757\n",
       "ARM3055    44.078974\n",
       "Name: POPULATION_STATISTIC_REPORTED, dtype: float64"
      ]
     },
     "execution_count": 31,
     "metadata": {},
     "output_type": "execute_result"
    }
   ],
   "source": [
    "pCD3pos.groupby('ARM_ACCESSION').mean()['POPULATION_STATISTIC_REPORTED']"
   ]
  },
  {
   "cell_type": "code",
   "execution_count": 32,
   "metadata": {},
   "outputs": [
    {
     "data": {
      "text/plain": [
       "ARM_ACCESSION\n",
       "ARM3054    637.731529\n",
       "ARM3055    526.154429\n",
       "Name: POPULATION_STATISTIC_REPORTED, dtype: float64"
      ]
     },
     "execution_count": 32,
     "metadata": {},
     "output_type": "execute_result"
    }
   ],
   "source": [
    "CD3neg.groupby('ARM_ACCESSION').mean()['POPULATION_STATISTIC_REPORTED']"
   ]
  },
  {
   "cell_type": "code",
   "execution_count": 33,
   "metadata": {},
   "outputs": [
    {
     "data": {
      "text/plain": [
       "ARM_ACCESSION\n",
       "ARM3054    29.511465\n",
       "ARM3055    29.210000\n",
       "Name: POPULATION_STATISTIC_REPORTED, dtype: float64"
      ]
     },
     "execution_count": 33,
     "metadata": {},
     "output_type": "execute_result"
    }
   ],
   "source": [
    "pCD3neg.groupby('ARM_ACCESSION').mean()['POPULATION_STATISTIC_REPORTED']"
   ]
  },
  {
   "cell_type": "code",
   "execution_count": 34,
   "metadata": {
    "collapsed": true
   },
   "outputs": [],
   "source": [
    "#fcs_header = pd.read_table(META_DATA_DIR + '/fcs_header.txt',sep=\"\\t\")\n",
    "#fcs_header"
   ]
  },
  {
   "cell_type": "code",
   "execution_count": 35,
   "metadata": {},
   "outputs": [],
   "source": [
    "CD3p_CMVp = CD3pos[CD3pos['ARM_ACCESSION']=='ARM3054']['POPULATION_STATISTIC_REPORTED']\n",
    "CD3p_CMVn = CD3pos[CD3pos['ARM_ACCESSION']=='ARM3055']['POPULATION_STATISTIC_REPORTED']\n",
    "CD3n_CMVp = CD3neg[CD3neg['ARM_ACCESSION']=='ARM3054']['POPULATION_STATISTIC_REPORTED']\n",
    "CD3n_CMVn = CD3neg[CD3neg['ARM_ACCESSION']=='ARM3055']['POPULATION_STATISTIC_REPORTED']"
   ]
  },
  {
   "cell_type": "code",
   "execution_count": 36,
   "metadata": {},
   "outputs": [],
   "source": [
    "pCD3p_CMVp = pCD3pos[pCD3pos['ARM_ACCESSION']=='ARM3054']['POPULATION_STATISTIC_REPORTED']\n",
    "pCD3p_CMVn = pCD3pos[pCD3pos['ARM_ACCESSION']=='ARM3055']['POPULATION_STATISTIC_REPORTED']\n",
    "pCD3n_CMVp = pCD3neg[pCD3neg['ARM_ACCESSION']=='ARM3054']['POPULATION_STATISTIC_REPORTED']\n",
    "pCD3n_CMVn = pCD3neg[pCD3neg['ARM_ACCESSION']=='ARM3055']['POPULATION_STATISTIC_REPORTED']"
   ]
  },
  {
   "cell_type": "markdown",
   "metadata": {},
   "source": [
    "- Distribution of cell count measures per arm in the CD3+ reported population. \n",
    "  \n",
    "<div class=\"alert alert-block alert-info\">\n",
    "<i>Note:</i> matplotlib offers different plotting themes. Be aware that the color schemes are different depending on the theme chosen, which can be confusing in some instances. </div>"
   ]
  },
  {
   "cell_type": "code",
   "execution_count": 37,
   "metadata": {},
   "outputs": [
    {
     "data": {
      "image/png": "[encoded data removed]",
      "text/plain": [
       "<matplotlib.figure.Figure at 0x7feeec500b00>"
      ]
     },
     "metadata": {},
     "output_type": "display_data"
    }
   ],
   "source": [
    "plt.style.use('ggplot')\n",
    "kwargs = dict(histtype='stepfilled',alpha=0.3,normed=True,bins=40)\n",
    "plt.hist(CD3p_CMVp,**kwargs,label='CD3+, CMV+', color='blue')\n",
    "plt.hist(CD3p_CMVn,**kwargs,label='CD3+, CMV-', color='red')\n",
    "plt.legend();"
   ]
  },
  {
   "cell_type": "code",
   "execution_count": 38,
   "metadata": {},
   "outputs": [
    {
     "data": {
      "image/png": "[encoded data removed]",
      "text/plain": [
       "<matplotlib.figure.Figure at 0x7feeec4d2160>"
      ]
     },
     "metadata": {},
     "output_type": "display_data"
    }
   ],
   "source": [
    "plt.style.use('fivethirtyeight')\n",
    "kwargs = dict(histtype='stepfilled',alpha=0.3,normed=True,bins=40)\n",
    "plt.hist(CD3p_CMVp,**kwargs,label='CD3+, CMV+')\n",
    "plt.hist(CD3p_CMVn,**kwargs,label='CD3+, CMV-')\n",
    "plt.legend();"
   ]
  },
  {
   "cell_type": "code",
   "execution_count": 39,
   "metadata": {},
   "outputs": [
    {
     "data": {
      "image/png": "[encoded data removed]",
      "text/plain": [
       "<matplotlib.figure.Figure at 0x7feeec4c2b38>"
      ]
     },
     "metadata": {},
     "output_type": "display_data"
    }
   ],
   "source": [
    "sns.kdeplot(CD3p_CMVp,shade=True,label='CD3+. CMV+',color=\"blue\")\n",
    "sns.kdeplot(CD3p_CMVn,shade=True,label='CD3+, CMV-', color=\"red\")\n",
    "plt.xlabel(\"cells/ul\");"
   ]
  },
  {
   "cell_type": "markdown",
   "metadata": {},
   "source": [
    "- Distribution of percentages per arm in the CD3+ reported population."
   ]
  },
  {
   "cell_type": "code",
   "execution_count": 40,
   "metadata": {},
   "outputs": [
    {
     "data": {
      "image/png": "[encoded data removed]",
      "text/plain": [
       "<matplotlib.figure.Figure at 0x7feeec522e10>"
      ]
     },
     "metadata": {},
     "output_type": "display_data"
    }
   ],
   "source": [
    "sns.kdeplot(pCD3p_CMVp,shade=True,label='CD3+. CMV+',color=\"blue\")\n",
    "sns.kdeplot(pCD3p_CMVn,shade=True,label='CD3+, CMV-', color=\"red\");\n",
    "plt.xlabel(\"percentage\");"
   ]
  },
  {
   "cell_type": "markdown",
   "metadata": {},
   "source": [
    "- For comparison, distributions per arm in the CD3- population"
   ]
  },
  {
   "cell_type": "code",
   "execution_count": 41,
   "metadata": {},
   "outputs": [
    {
     "data": {
      "image/png": "[encoded data removed]",
      "text/plain": [
       "<matplotlib.figure.Figure at 0x7feeec444a58>"
      ]
     },
     "metadata": {},
     "output_type": "display_data"
    }
   ],
   "source": [
    "sns.kdeplot(CD3n_CMVp,shade=True,label='CD3-. CMV+', color=\"orange\")\n",
    "sns.kdeplot(CD3n_CMVn,shade=True,label='CD3-, CMV-', color=\"teal\")\n",
    "plt.xlabel(\"cells/ul\");"
   ]
  },
  {
   "cell_type": "code",
   "execution_count": 42,
   "metadata": {},
   "outputs": [
    {
     "data": {
      "image/png": "[encoded data removed]",
      "text/plain": [
       "<matplotlib.figure.Figure at 0x7feeec56e320>"
      ]
     },
     "metadata": {},
     "output_type": "display_data"
    }
   ],
   "source": [
    "sns.kdeplot(pCD3n_CMVp,shade=True,label='CD3-. CMV+', color=\"orange\")\n",
    "sns.kdeplot(pCD3n_CMVn,shade=True,label='CD3-, CMV-', color=\"teal\")\n",
    "plt.xlabel(\"percentage\");"
   ]
  },
  {
   "cell_type": "markdown",
   "metadata": {},
   "source": [
    "- Distribution of cell counts per arm in the CD3+ reported population, as boxplot."
   ]
  },
  {
   "cell_type": "code",
   "execution_count": 43,
   "metadata": {},
   "outputs": [
    {
     "data": {
      "image/png": "[encoded data removed]",
      "text/plain": [
       "<matplotlib.figure.Figure at 0x7feeec3c5780>"
      ]
     },
     "metadata": {},
     "output_type": "display_data"
    }
   ],
   "source": [
    "plt.style.use('ggplot')\n",
    "g = sns.factorplot('ARM_ACCESSION','POPULATION_STATISTIC_REPORTED',data=CD3pos,kind=\"box\")\n",
    "g.set_xticklabels(['CMV+', 'CMV-']).set_axis_labels(\"CD3+\", \"cells/ul\");"
   ]
  },
  {
   "cell_type": "markdown",
   "metadata": {},
   "source": [
    "- Distribution of percentages per arm in the CD3+ reported population."
   ]
  },
  {
   "cell_type": "code",
   "execution_count": 44,
   "metadata": {},
   "outputs": [
    {
     "data": {
      "image/png": "[encoded data removed]",
      "text/plain": [
       "<matplotlib.figure.Figure at 0x7feeec3db390>"
      ]
     },
     "metadata": {},
     "output_type": "display_data"
    }
   ],
   "source": [
    "plt.style.use('ggplot')\n",
    "g = sns.factorplot('ARM_ACCESSION','POPULATION_STATISTIC_REPORTED',data=pCD3pos,kind=\"box\")\n",
    "g.set_xticklabels(['CMV+', 'CMV-']).set_axis_labels(\"CD3+\", \"percentages\");"
   ]
  },
  {
   "cell_type": "markdown",
   "metadata": {},
   "source": [
    "- For comparison, distributions per arm in the CD3- population"
   ]
  },
  {
   "cell_type": "code",
   "execution_count": 45,
   "metadata": {},
   "outputs": [
    {
     "data": {
      "image/png": "[encoded data removed]",
      "text/plain": [
       "<matplotlib.figure.Figure at 0x7feeec30afd0>"
      ]
     },
     "metadata": {},
     "output_type": "display_data"
    }
   ],
   "source": [
    "plt.style.use('ggplot')\n",
    "g = sns.factorplot('ARM_ACCESSION','POPULATION_STATISTIC_REPORTED',data=CD3neg,kind=\"box\", palette=[\"orange\",\"teal\"])\n",
    "g.set_xticklabels(['CMV+', 'CMV-']).set_axis_labels(\"CD3-\", \"cells/ul\");"
   ]
  },
  {
   "cell_type": "code",
   "execution_count": 46,
   "metadata": {},
   "outputs": [
    {
     "data": {
      "image/png": "[encoded data removed]",
      "text/plain": [
       "<matplotlib.figure.Figure at 0x7feeec30abe0>"
      ]
     },
     "metadata": {},
     "output_type": "display_data"
    }
   ],
   "source": [
    "plt.style.use('ggplot')\n",
    "g = sns.factorplot('ARM_ACCESSION','POPULATION_STATISTIC_REPORTED',data=pCD3neg,kind=\"box\",palette=[\"orange\",\"teal\"])\n",
    "g.set_xticklabels(['CMV+', 'CMV-']).set_axis_labels(\"CD3-\", \"percentages\");"
   ]
  }
 ],
 "metadata": {
  "anaconda-cloud": {},
  "kernelspec": {
   "display_name": "Python [default]",
   "language": "python",
   "name": "python3"
  },
  "language_info": {
   "codemirror_mode": {
    "name": "ipython",
    "version": 3
   },
   "file_extension": ".py",
   "mimetype": "text/x-python",
   "name": "python",
   "nbconvert_exporter": "python",
   "pygments_lexer": "ipython3",
   "version": "3.5.2"
  }
 },
 "nbformat": 4,
 "nbformat_minor": 2
}
