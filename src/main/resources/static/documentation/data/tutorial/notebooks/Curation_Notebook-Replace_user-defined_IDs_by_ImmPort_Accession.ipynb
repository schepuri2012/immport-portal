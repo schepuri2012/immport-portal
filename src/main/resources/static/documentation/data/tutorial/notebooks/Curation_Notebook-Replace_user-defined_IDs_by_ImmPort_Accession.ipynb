{
 "cells": [
  {
   "cell_type": "markdown",
   "metadata": {},
   "source": [
    "*Quick reminder:* To run the code in a cell, either click on the \"play\" icon above, or press Shift+Enter. Cells can be run as many times as needed."
   ]
  },
  {
   "cell_type": "markdown",
   "metadata": {},
   "source": [
    "# Replace values in text files\n",
    "## *or* replace User-Defined ID by ImmPort Accessions\n",
    "<i><font size=2 color=\"grey\">Version 1.0, last modified September 2017<br>\n",
    "Python 3.6<br>\n",
    "</font></i>\n",
    "  \n",
    "  \n",
    "This notebook contains code to replace indicated values by others in a text file.\n",
    "\n",
    "**<u>Expected input:</u>**  \n",
    "  \n",
    "Mapping file indicating correspondance between values to replace and what to replace them with, and file to modify. Mapping file is expected to contain **columns**, file to modify is expected to be a **text file**.\n",
    "  \n",
    "**<u>Output:</u>**  \n",
    "\n",
    "Modified input file where values to replace are replaced by indicated value. The output filename will be the input filename appended with \"modified.txt\".  \n",
    "  \n",
    "**<u>Parameters:</u>**  \n",
    "<font color=\"DarkRed\"><strong>Please</strong></font> change the following parameters by commenting out or editing accordingly."
   ]
  },
  {
   "cell_type": "code",
   "execution_count": null,
   "metadata": {
    "collapsed": true
   },
   "outputs": [],
   "source": [
    "## Path to file containing mapping of values to modify and what to modify them with:\n",
    "mapping_file = \"placeholder/path/to/mapping_file\"\n",
    "\n",
    "## How are the columns separated?\n",
    "sep_map = \"\\t\"\n",
    "#sep_map = \",\"\n",
    "\n",
    "## Which column contains the values to replace? Count starts at 1.\n",
    "original_value = 1\n",
    "\n",
    "## Which column contains the values to replace them with? Count starts at 1.\n",
    "new_value = 2\n",
    "\n",
    "## Path to file to modify:\n",
    "input_file = \"placeholder/path/to/file_to_modify\"\n",
    "\n",
    "## How are the columns separated?\n",
    "sep_input = \"\\t\"\n",
    "#sep_input = \",\"\n",
    "\n",
    "## Which columns contains the value to replace? \n",
    "## Count starts at 1, 0 indicates that every field in the input file should be checked.\n",
    "replace_index = 1"
   ]
  },
  {
   "cell_type": "markdown",
   "metadata": {},
   "source": [
    "The following lines of code create a dictionary mapping values to their replacement."
   ]
  },
  {
   "cell_type": "code",
   "execution_count": null,
   "metadata": {
    "collapsed": true
   },
   "outputs": [],
   "source": [
    "## Create empties\n",
    "mapping = {}\n",
    "\n",
    "## Set up parameters:\n",
    "counter = 1\n",
    "original = original_value - 1\n",
    "new = new_value - 1\n",
    "replace_all = False\n",
    "idx_to_replace = -1\n",
    "if replace_index:\n",
    "    idx_to_replace = replace_index - 1\n",
    "else:\n",
    "    replace_all = True\n",
    "    \n",
    "## Create path to output file:\n",
    "output_file = \".\".join([input_file, \"modified.txt\"]) \n",
    "\n",
    "## Get replacement values for each value to replace\n",
    "try:\n",
    "    with open(mapping_file, \"r\") as mp:\n",
    "        for line in mp:\n",
    "            orig_val = line.strip().split(sep_map)[original]\n",
    "            new_val = line.strip().split(sep_map)[new]\n",
    "            mapping[orig_val.strip(\"\\\"\")] = new_val.strip(\"\\\"\")\n",
    "\n",
    "except:\n",
    "    print(\"There was a problem opening %s to get values to replace.\" % mapping_file)\n"
   ]
  },
  {
   "cell_type": "markdown",
   "metadata": {},
   "source": [
    "The following code goes through the input file and creates an output where the values are replaced."
   ]
  },
  {
   "cell_type": "code",
   "execution_count": null,
   "metadata": {
    "collapsed": true
   },
   "outputs": [],
   "source": [
    "try:\n",
    "    ## Create new file with replaced value:\n",
    "    with open(input_file, \"r\") as in_file, open(output_file, \"w\") as out_file:\n",
    "        ## If all fields have to be checked:\n",
    "        if replace_all:\n",
    "            add_quotes = False\n",
    "            for line in in_file:\n",
    "                elements = line.strip().split(sep_input)\n",
    "\n",
    "                ## Check if fields are quoted:\n",
    "                if counter == 1:\n",
    "                    if elements[0] != elements[0].strip(\"\\\"\"):\n",
    "                        add_quotes = True\n",
    "\n",
    "                ## Go through each value:\n",
    "                for i, element in enumerate(elements):\n",
    "                    if element.strip(\"\\\"\") in mapping:\n",
    "                        replacement = mapping[element.strip(\"\\\"\")]\n",
    "                        if add_quotes:\n",
    "                            replacement = '\"' + mapping[element.strip(\"\\\"\")] + '\"'\n",
    "                        elements[i] = replacement\n",
    "\n",
    "                ## Write to output file:\n",
    "                out_file.write(sep_input.join(elements) + \"\\n\")\n",
    "                counter += 1\n",
    "        else:\n",
    "            add_quotes = False\n",
    "            for line in in_file:\n",
    "                elements = line.strip().split(sep_input)\n",
    "\n",
    "                ## Check if fields ae quoted:\n",
    "                if counter == 1:\n",
    "                    if elements[0] != elements[0].strip(\"\\\"\"):\n",
    "                        add_quotes = True\n",
    "\n",
    "                ## Check if the value to replace has a mapped value:\n",
    "                replacement = elements[idx_to_replace]\n",
    "                if elements[idx_to_replace].strip(\"\\\"\") in mapping:\n",
    "                    replacement = mapping[elements[idx_to_replace].strip(\"\\\"\")]\n",
    "                    if add_quotes:\n",
    "                        replacement = '\"' + mapping[elements[idx_to_replace].strip(\"\\\"\")] + '\"'\n",
    "                elements[idx_to_replace] = replacement\n",
    "\n",
    "                ## Write to output file:\n",
    "                out_file.write(sep_input.join(elements) + \"\\n\")\n",
    "                counter += 1 \n",
    "    if replace_all:\n",
    "        print(\"Replacement of all values was successful. Output file is %s.\" % (output_file))\n",
    "    else:\n",
    "        print(\"Replacement of values in column %s was successful. Output file is %s.\" % (replace_index, output_file))\n",
    "except:\n",
    "    print(\"There was a problem replacing values from %s, or opening %s.\" % (input_file, output_file))\n",
    "    "
   ]
  }
 ],
 "metadata": {
  "anaconda-cloud": {},
  "kernelspec": {
   "display_name": "Python [conda root]",
   "language": "python",
   "name": "conda-root-py"
  },
  "language_info": {
   "codemirror_mode": {
    "name": "ipython",
    "version": 3
   },
   "file_extension": ".py",
   "mimetype": "text/x-python",
   "name": "python",
   "nbconvert_exporter": "python",
   "pygments_lexer": "ipython3",
   "version": "3.5.2"
  }
 },
 "nbformat": 4,
 "nbformat_minor": 1
}
