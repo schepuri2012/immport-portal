{
 "cells": [
  {
   "cell_type": "markdown",
   "metadata": {},
   "source": [
    "*Quick reminder:* To run the code in a cell, either click on the \"play\" icon above, or press Shift+Enter. Cells can be run as many times as needed."
   ]
  },
  {
   "cell_type": "code",
   "execution_count": null,
   "metadata": {
    "collapsed": true
   },
   "outputs": [],
   "source": [
    "import dateutil.parser as dparser"
   ]
  },
  {
   "cell_type": "markdown",
   "metadata": {},
   "source": [
    "# Change dates to Study Day\n",
    "<i><font size=2 color=\"grey\">Version 1.0, last modified September 2017<br>\n",
    "Python 3.6      \n",
    "</font></i>  \n",
    "  \n",
    "\n",
    "This notebook contains code to find dates in a file and change them to Study Days, given a Day 0 date. <font color=\"red\"><strong>Caution:</strong></font> In CSV files, dates containing commas will be misread.   \n",
    "\n",
    "**<u>Expected input:</u>**  \n",
    "  \n",
    "Input file to modify and Day 0 date. Input file must be a **text file**.\n",
    "  \n",
    "**<u>Output:</u>**  \n",
    "\n",
    "Modified input file. The output filename will be the input filename appended with \"dates_to_days.txt\"  \n",
    "  \n",
    "**<u>Parameters:</u>**  \n",
    "<font color=\"DarkRed\"><strong>Please</strong></font> change the following parameters by commenting out or editing accordingly."
   ]
  },
  {
   "cell_type": "code",
   "execution_count": null,
   "metadata": {
    "collapsed": true
   },
   "outputs": [],
   "source": [
    "## Path to file to modify:\n",
    "input_file = \"placeholder/path/to/input_file\"\n",
    "\n",
    "## How are the fields separated in the input file?\n",
    "sep_input = \"\\t\"\n",
    "#sep_input = \",\"\n",
    "\n",
    "## Is the day first in the dates to deidentify?\n",
    "day_first = False\n",
    "#day_first = True\n",
    "\n",
    "## Study Day 0 date?\n",
    "day0 = \"MM-DD-YYYY\""
   ]
  },
  {
   "cell_type": "markdown",
   "metadata": {},
   "source": [
    "The following lines of code go through each field in the input file, checks whether they contain a date in the format specified above, and replace them by study days (number of days to day 0)."
   ]
  },
  {
   "cell_type": "code",
   "execution_count": null,
   "metadata": {
    "collapsed": true
   },
   "outputs": [],
   "source": [
    "## Create empties\n",
    "nb_replacement = 0\n",
    "nb_line = 0\n",
    "add_quotes = False\n",
    "\n",
    "## Set up parameters\n",
    "d0 = dparser.parse(day0, dayfirst=False)\n",
    "\n",
    "## Create path to output file:\n",
    "output_file = \".\".join([input_file, \"modified.txt\"]) \n",
    "\n",
    "## Go through input file and change dates:\n",
    "try:\n",
    "    with open(input_file, \"r\") as f, open(output_file, \"w\") as out:\n",
    "        for line in f:\n",
    "            elements = line.strip().split(sep_input)\n",
    "            if nb_line == 0:\n",
    "                if elements[0] != elements[0].strip(\"\\\"\"):\n",
    "                    add_quotes = True\n",
    "\n",
    "            for i, element in enumerate(elements):\n",
    "                try:\n",
    "                    d = dparser.parse(element, fuzzy=True, dayfirst=day_first)\n",
    "                    diff_day = d - d0\n",
    "                    study_day = str(diff_day.days)\n",
    "                    elements[i] = study_day\n",
    "                    if add_quotes:\n",
    "                        elements[i] = \"\\\"\" + study_day + \"\\\"\"\n",
    "                    nb_replacement += 1\n",
    "                except:\n",
    "                    continue\n",
    "            out.write(sep_input.join(elements) + \"\\n\")\n",
    "            nb_line += 1    \n",
    "\n",
    "    print(\"%s dates were found and replaced in %s\\n\" % (nb_replacement, output_file))\n",
    "except:\n",
    "    print(\"Something went wrong with the files\")"
   ]
  }
 ],
 "metadata": {
  "anaconda-cloud": {},
  "kernelspec": {
   "display_name": "Python [conda root]",
   "language": "python",
   "name": "conda-root-py"
  },
  "language_info": {
   "codemirror_mode": {
    "name": "ipython",
    "version": 3
   },
   "file_extension": ".py",
   "mimetype": "text/x-python",
   "name": "python",
   "nbconvert_exporter": "python",
   "pygments_lexer": "ipython3",
   "version": "3.5.2"
  }
 },
 "nbformat": 4,
 "nbformat_minor": 1
}
