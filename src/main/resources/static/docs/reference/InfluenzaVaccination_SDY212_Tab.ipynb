{
 "cells": [
  {
   "cell_type": "markdown",
   "metadata": {},
   "source": [
    "#Example re-analysis of HAI (hemagglutination inhibition) data from one influenza vaccination study (SDY212) from ImmPort\n",
    "#Using IPython, IPython Notebook and Pandas"
   ]
  },
  {
   "cell_type": "markdown",
   "metadata": {},
   "source": [
    "##What is ImmPort ?\n",
    "\n",
    "The Immunology Database and Analysis Portal (ImmPort) project provides tools and services for the collection, QC, curation, and sharing of immunological data. The purpose of ImmPort is to provide a long term, sustainable source for promoting the re-use of these data provided by NIAID DAIT and DMID funded investigators.\n",
    "\n",
    "Study packages can be downloaded for free from ImmPort, but you must first register for an account. Study download packages are available in several formats, for the purpose of this tutorial we will be using the Tab version, which contain the data in text files using the \"tab\" as the column separator. Another popular format is the MySQL format, which can be used to populate a MySQL database.\n",
    "\n",
    "Details on the tables are available at this link. [Table Definitions](http://immport.org/immport-open/public/schema/schemaDefinition/study)."
   ]
  },
  {
   "cell_type": "markdown",
   "metadata": {},
   "source": [
    "##SDY122\n",
    "\n",
    "[SDY212](http://immport.org/immport-open/public/study/study/displayStudyDetail/SDY212) chosen for this tutorial is one of 118 studies currently available for download, and we will focus on the HAI results for this tutorial.\n",
    "\n",
    "<strong>Title:</strong>Apoptosis and other immune biomarkers predict influenza vaccine (TIV 2008) responsiveness\n",
    "\n",
    "<strong>Principal Investigator:</strong> Mark M. Davis  \n",
    "\n",
    "<strong>Description:</strong>In an effort to indentify benchmarks of immunological health, influenza vaccination was used in 30 young (20 to 30 years) and 59 older subjects (60 to 89 years) as models for strong and weak immune responses, respectively. "
   ]
  },
  {
   "cell_type": "markdown",
   "metadata": {},
   "source": [
    "##Learn more about [IPython Notebook](http://ipython.org/notebook.html), [MatplotLib](http://matplotlib.org/) and [Pandas](http://pandas.pydata.org/)\n",
    "The IPython notebook can be used for data analysis and as a teaching tool. Below are links to a talk by D.I. Ketcheson and A. Ahmadia, titled *Teaching Numerical Methods with IPython Notebooks* at the 2014 SciPy conference. Videos are available at YouTube: [Part 1](https://www.youtube.com/watch?v=L-caFdJMR9E) [Part 2](https://www.youtube.com/watch?v=cm0oVqbxssU) [Part 3](https://www.youtube.com/watch?v=rpGghGDEkZE)\n",
    "\n",
    "Another very good tutorial on data analysis with IPython Notebook and Pandas by Chris Fonnesbeck, titled *Statistcial Data Analysis in Python* at the 2013 SciPy conference. Videos are available at YouTube: [Part 1](https://www.youtube.com/watch?v=DXPwSiRTxYY) [Part 2](https://www.youtube.com/watch?v=TGEBpzJUxdI) [Part 3](https://www.youtube.com/watch?v=YZDtBEEZuAk) [Part 4](https://www.youtube.com/watch?v=5_rcdhBXD-0). Chris Fonnesbeck has another tutorial on *Bayesian Statistical Analysis* from the SciPy 2014 conference, that is also available at YouTube.\n",
    "\n",
    "For the machine learning fans, there is a tutorial by Jake Vanderplas and Olivier Grisel, titled *Exploring Machine Learning with Scikit-learn* from the PyCon 2014 conference available at YouTube: [Part 1](https://www.youtube.com/watch?v=HjAB45qsx_c)"
   ]
  },
  {
   "cell_type": "markdown",
   "metadata": {},
   "source": [
    "#Start Tutorial\n",
    "##Load in the Python libraries used for this analysis"
   ]
  },
  {
   "cell_type": "code",
   "execution_count": 1,
   "metadata": {
    "collapsed": false
   },
   "outputs": [],
   "source": [
    "%matplotlib inline\n",
    "import numpy as np\n",
    "import pandas as pd\n",
    "import matplotlib as mpl\n",
    "import matplotlib.pyplot as plt\n",
    "\n",
    "# Set some Pandas options\n",
    "pd.set_option('html',False)"
   ]
  },
  {
   "cell_type": "markdown",
   "metadata": {},
   "source": [
    "##Explore the Overall Study Design and Subject Characteristics\n",
    "\n",
    "In this section you will be introduced to some of the content that is available for download from ImmPort, that can be used to perform a re-analysis of the study. This section demonstrates loading in the information from TSV files, merging the contents and performing simple descriptive statistics.\n",
    "\n",
    "- subjects.txt - general subject demographic information.\n",
    "- arm_2_subject.txt - mapping from subjects to study arms/cohorts.\n",
    "- arm_or_cohort - study arm names and descriptions"
   ]
  },
  {
   "cell_type": "code",
   "execution_count": 2,
   "metadata": {
    "collapsed": false
   },
   "outputs": [],
   "source": [
    "subjects = pd.read_table(\"./Data/SDY212/Tab/subject.txt\",sep=\"\\t\")\n",
    "arm_2_subject = pd.read_table(\"./Data/SDY212/Tab/arm_2_subject.txt\",sep=\"\\t\")\n",
    "arm_or_cohort = pd.read_table(\"./Data/SDY212/Tab/arm_or_cohort.txt\",sep=\"\\t\")"
   ]
  },
  {
   "cell_type": "markdown",
   "metadata": {},
   "source": [
    "##Review the contents of these files\n",
    "\n",
    "In the first section print out the column names for each file loaded. The first dimension reported by **shape** is the number of rows and the second dimension is the number of columns. Because the number of rows reported for the **subjects** and **arms_2_subject** files match, this indicates the data has a mapping from a subject to a study arm."
   ]
  },
  {
   "cell_type": "code",
   "execution_count": 3,
   "metadata": {
    "collapsed": false
   },
   "outputs": [
    {
     "data": {
      "text/plain": [
       "Index([u'SUBJECT_ACCESSION', u'ANCESTRAL_POPULATION', u'DESCRIPTION',\n",
       "       u'ETHNICITY', u'GENDER', u'RACE', u'RACE_SPECIFY', u'SPECIES',\n",
       "       u'STRAIN', u'STRAIN_CHARACTERISTICS', u'WORKSPACE_ID'],\n",
       "      dtype='object')"
      ]
     },
     "execution_count": 3,
     "metadata": {},
     "output_type": "execute_result"
    }
   ],
   "source": [
    "subjects.columns"
   ]
  },
  {
   "cell_type": "code",
   "execution_count": 4,
   "metadata": {
    "collapsed": false
   },
   "outputs": [
    {
     "data": {
      "text/plain": [
       "Index([u'ARM_ACCESSION', u'SUBJECT_ACCESSION', u'AGE_EVENT',\n",
       "       u'AGE_EVENT_SPECIFY', u'AGE_UNIT', u'MAX_SUBJECT_AGE',\n",
       "       u'MIN_SUBJECT_AGE', u'SUBJECT_PHENOTYPE'],\n",
       "      dtype='object')"
      ]
     },
     "execution_count": 4,
     "metadata": {},
     "output_type": "execute_result"
    }
   ],
   "source": [
    "arm_2_subject.columns"
   ]
  },
  {
   "cell_type": "code",
   "execution_count": 5,
   "metadata": {
    "collapsed": false
   },
   "outputs": [
    {
     "data": {
      "text/plain": [
       "Index([u'ARM_ACCESSION', u'DESCRIPTION', u'NAME', u'STUDY_ACCESSION', u'TYPE',\n",
       "       u'WORKSPACE_ID'],\n",
       "      dtype='object')"
      ]
     },
     "execution_count": 5,
     "metadata": {},
     "output_type": "execute_result"
    }
   ],
   "source": [
    "arm_or_cohort.columns"
   ]
  },
  {
   "cell_type": "code",
   "execution_count": 6,
   "metadata": {
    "collapsed": false
   },
   "outputs": [
    {
     "data": {
      "text/plain": [
       "(91, 11)"
      ]
     },
     "execution_count": 6,
     "metadata": {},
     "output_type": "execute_result"
    }
   ],
   "source": [
    "subjects.shape"
   ]
  },
  {
   "cell_type": "code",
   "execution_count": 7,
   "metadata": {
    "collapsed": false
   },
   "outputs": [
    {
     "data": {
      "text/plain": [
       "(91, 8)"
      ]
     },
     "execution_count": 7,
     "metadata": {},
     "output_type": "execute_result"
    }
   ],
   "source": [
    "arm_2_subject.shape"
   ]
  },
  {
   "cell_type": "code",
   "execution_count": 8,
   "metadata": {
    "collapsed": false
   },
   "outputs": [
    {
     "data": {
      "text/plain": [
       "(2, 6)"
      ]
     },
     "execution_count": 8,
     "metadata": {},
     "output_type": "execute_result"
    }
   ],
   "source": [
    "arm_or_cohort.shape"
   ]
  },
  {
   "cell_type": "markdown",
   "metadata": {},
   "source": [
    "##Review the content by looking at the first row for each file."
   ]
  },
  {
   "cell_type": "code",
   "execution_count": 9,
   "metadata": {
    "collapsed": false
   },
   "outputs": [
    {
     "data": {
      "text/plain": [
       "SUBJECT_ACCESSION                                                 SUB134268\n",
       "ANCESTRAL_POPULATION                                                    NaN\n",
       "DESCRIPTION               This subject record was used to consolidate du...\n",
       "ETHNICITY                                            Not Hispanic or Latino\n",
       "GENDER                                                               Female\n",
       "RACE                                                                  White\n",
       "RACE_SPECIFY                                                            NaN\n",
       "SPECIES                                                        Homo sapiens\n",
       "STRAIN                                                                  NaN\n",
       "STRAIN_CHARACTERISTICS                                                  NaN\n",
       "WORKSPACE_ID                                                           2883\n",
       "Name: 0, dtype: object"
      ]
     },
     "execution_count": 9,
     "metadata": {},
     "output_type": "execute_result"
    }
   ],
   "source": [
    "subjects.ix[0]"
   ]
  },
  {
   "cell_type": "code",
   "execution_count": 10,
   "metadata": {
    "collapsed": false
   },
   "outputs": [
    {
     "data": {
      "text/plain": [
       "ARM_ACCESSION                    ARM894\n",
       "SUBJECT_ACCESSION             SUB134323\n",
       "AGE_EVENT            Age at Study Day 0\n",
       "AGE_EVENT_SPECIFY                   NaN\n",
       "AGE_UNIT                          Years\n",
       "MAX_SUBJECT_AGE                   23.82\n",
       "MIN_SUBJECT_AGE                   23.82\n",
       "SUBJECT_PHENOTYPE              Non-twin\n",
       "Name: 0, dtype: object"
      ]
     },
     "execution_count": 10,
     "metadata": {},
     "output_type": "execute_result"
    }
   ],
   "source": [
    "arm_2_subject.ix[0]"
   ]
  },
  {
   "cell_type": "code",
   "execution_count": 11,
   "metadata": {
    "collapsed": false
   },
   "outputs": [
    {
     "data": {
      "text/plain": [
       "  ARM_ACCESSION      NAME                                        DESCRIPTION\n",
       "0        ARM895  Cohort_2  Older participants aged 60 to 89 years, vaccin...\n",
       "1        ARM894  Cohort_1  Young participants aged 20 to 30 years, vaccin..."
      ]
     },
     "execution_count": 11,
     "metadata": {},
     "output_type": "execute_result"
    }
   ],
   "source": [
    "arm_or_cohort[['ARM_ACCESSION','NAME','DESCRIPTION']]"
   ]
  },
  {
   "cell_type": "markdown",
   "metadata": {},
   "source": [
    "##Rename the cohort names to something more meaningful."
   ]
  },
  {
   "cell_type": "code",
   "execution_count": 12,
   "metadata": {
    "collapsed": false
   },
   "outputs": [],
   "source": [
    "arm_or_cohort['ARM_NAME'] = ['Old','Young']"
   ]
  },
  {
   "cell_type": "code",
   "execution_count": 13,
   "metadata": {
    "collapsed": false
   },
   "outputs": [
    {
     "data": {
      "text/plain": [
       "  ARM_ACCESSION ARM_NAME                                        DESCRIPTION\n",
       "0        ARM895      Old  Older participants aged 60 to 89 years, vaccin...\n",
       "1        ARM894    Young  Young participants aged 20 to 30 years, vaccin..."
      ]
     },
     "execution_count": 13,
     "metadata": {},
     "output_type": "execute_result"
    }
   ],
   "source": [
    "arm_or_cohort[['ARM_ACCESSION','ARM_NAME','DESCRIPTION']]"
   ]
  },
  {
   "cell_type": "markdown",
   "metadata": {},
   "source": [
    "##Merge the subject, arm_2_subjects and arm_or_cohort information into one table\n",
    "\n",
    "We can merge the information from thes 3 tables into one Data Frame because the first 2 tables both contain the SUBJECT_ACCESSION column. The last 2 tables contain the ARM_ACCESSION column. After the merge, we will also drop columns not needed at this time for futher analysis."
   ]
  },
  {
   "cell_type": "code",
   "execution_count": 14,
   "metadata": {
    "collapsed": false
   },
   "outputs": [
    {
     "data": {
      "text/plain": [
       "SUBJECT_ACCESSION                                                 SUB134268\n",
       "ANCESTRAL_POPULATION                                                    NaN\n",
       "DESCRIPTION_x             This subject record was used to consolidate du...\n",
       "ETHNICITY                                            Not Hispanic or Latino\n",
       "GENDER                                                               Female\n",
       "RACE                                                                  White\n",
       "RACE_SPECIFY                                                            NaN\n",
       "SPECIES                                                        Homo sapiens\n",
       "STRAIN                                                                  NaN\n",
       "STRAIN_CHARACTERISTICS                                                  NaN\n",
       "WORKSPACE_ID_x                                                         2883\n",
       "ARM_ACCESSION                                                        ARM894\n",
       "AGE_EVENT                                                Age at Study Day 0\n",
       "AGE_EVENT_SPECIFY                                                       NaN\n",
       "AGE_UNIT                                                              Years\n",
       "MAX_SUBJECT_AGE                                                       29.71\n",
       "MIN_SUBJECT_AGE                                                       29.71\n",
       "SUBJECT_PHENOTYPE                                                  Non-twin\n",
       "DESCRIPTION_y             Young participants aged 20 to 30 years, vaccin...\n",
       "NAME                                                               Cohort_1\n",
       "STUDY_ACCESSION                                                      SDY212\n",
       "TYPE                                                           Experimental\n",
       "WORKSPACE_ID_y                                                         2883\n",
       "ARM_NAME                                                              Young\n",
       "Name: 0, dtype: object"
      ]
     },
     "execution_count": 14,
     "metadata": {},
     "output_type": "execute_result"
    }
   ],
   "source": [
    "subjects_merged = pd.merge(subjects,arm_2_subject,left_on='SUBJECT_ACCESSION',right_on='SUBJECT_ACCESSION')\n",
    "subjects_merged = pd.merge(subjects_merged,arm_or_cohort,left_on='ARM_ACCESSION',right_on='ARM_ACCESSION')\n",
    "subjects_merged.ix[0]"
   ]
  },
  {
   "cell_type": "markdown",
   "metadata": {},
   "source": [
    "##Drop columns not needed for this analysis."
   ]
  },
  {
   "cell_type": "code",
   "execution_count": 15,
   "metadata": {
    "collapsed": false
   },
   "outputs": [
    {
     "data": {
      "text/plain": [
       "(91, 6)"
      ]
     },
     "execution_count": 15,
     "metadata": {},
     "output_type": "execute_result"
    }
   ],
   "source": [
    "subjects_merged = subjects_merged[['SUBJECT_ACCESSION','ARM_ACCESSION','ARM_NAME','GENDER','RACE','MIN_SUBJECT_AGE']]\n",
    "subjects_merged.shape"
   ]
  },
  {
   "cell_type": "code",
   "execution_count": 16,
   "metadata": {
    "collapsed": false
   },
   "outputs": [
    {
     "data": {
      "text/plain": [
       "SUBJECT_ACCESSION    SUB134268\n",
       "ARM_ACCESSION           ARM894\n",
       "ARM_NAME                 Young\n",
       "GENDER                  Female\n",
       "RACE                     White\n",
       "MIN_SUBJECT_AGE          29.71\n",
       "Name: 0, dtype: object"
      ]
     },
     "execution_count": 16,
     "metadata": {},
     "output_type": "execute_result"
    }
   ],
   "source": [
    "subjects_merged.ix[0]"
   ]
  },
  {
   "cell_type": "markdown",
   "metadata": {},
   "source": [
    "#Simple descriptive statistics and charts of the study subjects\n",
    "\n",
    "Below we show some descriptive statistics and some simple plots of the data, just to get a feel for the distribution of age, gender and race. More formal plots can be be produced using the Matplotlib graphing library, which is used by Panda's for these basic plots. Note: The subjects in this set contain 2 subjects that do not have HAI results.\n",
    "\n",
    "##Descriptive Statistics"
   ]
  },
  {
   "cell_type": "code",
   "execution_count": 17,
   "metadata": {
    "collapsed": false
   },
   "outputs": [
    {
     "data": {
      "text/plain": [
       "ARM_NAME\n",
       "Old      61\n",
       "Young    30\n",
       "Name: SUBJECT_ACCESSION, dtype: int64"
      ]
     },
     "execution_count": 17,
     "metadata": {},
     "output_type": "execute_result"
    }
   ],
   "source": [
    "subjects_merged.groupby('ARM_NAME').count()['SUBJECT_ACCESSION']"
   ]
  },
  {
   "cell_type": "code",
   "execution_count": 18,
   "metadata": {
    "collapsed": false
   },
   "outputs": [
    {
     "data": {
      "text/plain": [
       "GENDER\n",
       "Female    54\n",
       "Male      37\n",
       "Name: SUBJECT_ACCESSION, dtype: int64"
      ]
     },
     "execution_count": 18,
     "metadata": {},
     "output_type": "execute_result"
    }
   ],
   "source": [
    "subjects_merged.groupby('GENDER').count()['SUBJECT_ACCESSION']"
   ]
  },
  {
   "cell_type": "code",
   "execution_count": 19,
   "metadata": {
    "collapsed": false
   },
   "outputs": [
    {
     "data": {
      "text/plain": [
       "RACE\n",
       "American Indian or Alaska Native     1\n",
       "Asian                                8\n",
       "Other                                7\n",
       "White                               75\n",
       "Name: SUBJECT_ACCESSION, dtype: int64"
      ]
     },
     "execution_count": 19,
     "metadata": {},
     "output_type": "execute_result"
    }
   ],
   "source": [
    "subjects_merged.groupby('RACE').count()['SUBJECT_ACCESSION']"
   ]
  },
  {
   "cell_type": "code",
   "execution_count": 20,
   "metadata": {
    "collapsed": false
   },
   "outputs": [
    {
     "data": {
      "text/plain": [
       "                MIN_SUBJECT_AGE\n",
       "ARM_NAME                       \n",
       "Old      count        61.000000\n",
       "         mean         77.151803\n",
       "         std           9.558915\n",
       "         min          61.200000\n",
       "         25%          68.080000\n",
       "         50%          78.750000\n",
       "         75%          85.170000\n",
       "         max          90.000000\n",
       "Young    count        30.000000\n",
       "         mean         25.403000\n",
       "         std           2.670702\n",
       "         min          20.680000\n",
       "         25%          23.882500\n",
       "         50%          25.050000\n",
       "         75%          27.115000\n",
       "         max          30.750000"
      ]
     },
     "execution_count": 20,
     "metadata": {},
     "output_type": "execute_result"
    }
   ],
   "source": [
    "subjects_by_arm = subjects_merged.groupby('ARM_NAME')\n",
    "subjects_by_arm.describe()"
   ]
  },
  {
   "cell_type": "markdown",
   "metadata": {},
   "source": [
    "#Chart Descriptive Statistics\n",
    "##Set style to ggplot\n",
    "\n",
    "The rand_jiiter function is used seperate the dots on the plots, similar to the \"jitter\" functionality in the \"R\" \"ggplot2\" package. Use of jitter may be discouraged by some statisticians.\n",
    "\n",
    "In the first set of plots we will be using the plotting functionality in the Pandas package, which uses matplotlib, but for most of the plots we will be using matplotlib directly."
   ]
  },
  {
   "cell_type": "code",
   "execution_count": 21,
   "metadata": {
    "collapsed": false
   },
   "outputs": [],
   "source": [
    "plt.style.use('ggplot')\n",
    "def rand_jitter(arr):\n",
    "    stdev = .001*(max(arr)-min(arr))\n",
    "    return arr + np.random.randn(len(arr)) * stdev\n",
    "\n",
    "def rand_jitter_log(arr):\n",
    "    stdev = .01*(max(arr)-min(arr))\n",
    "    return arr + np.random.randn(len(arr)) * stdev"
   ]
  },
  {
   "cell_type": "markdown",
   "metadata": {},
   "source": [
    "##Count of Subjects by Arm and Gender"
   ]
  },
  {
   "cell_type": "code",
   "execution_count": 22,
   "metadata": {
    "collapsed": false
   },
   "outputs": [
    {
     "data": {
      "text/plain": [
       "<matplotlib.legend.Legend at 0x3ab3ba8>"
      ]
     },
     "execution_count": 22,
     "metadata": {},
     "output_type": "execute_result"
    },
    {
     "data": {
      "image/png": "[encoded data removed]",
      "text/plain": [
       "<matplotlib.figure.Figure at 0xbaea198>"
      ]
     },
     "metadata": {},
     "output_type": "display_data"
    }
   ],
   "source": [
    "arm_counts = pd.crosstab(subjects_merged.ARM_NAME,subjects_merged.GENDER)\n",
    "ax2 = arm_counts.plot(kind='bar', color=['red','blue'],grid=False,legend=False)\n",
    "ax2.legend(loc=\"right\",bbox_to_anchor=(1.4,0.1))"
   ]
  },
  {
   "cell_type": "markdown",
   "metadata": {},
   "source": [
    "##Count of Subjects Arm and Race"
   ]
  },
  {
   "cell_type": "code",
   "execution_count": 23,
   "metadata": {
    "collapsed": false
   },
   "outputs": [
    {
     "data": {
      "text/plain": [
       "<matplotlib.legend.Legend at 0x3ab3cf8>"
      ]
     },
     "execution_count": 23,
     "metadata": {},
     "output_type": "execute_result"
    },
    {
     "data": {
      "image/png": "[encoded data removed]",
      "text/plain": [
       "<matplotlib.figure.Figure at 0xbb644a8>"
      ]
     },
     "metadata": {},
     "output_type": "display_data"
    }
   ],
   "source": [
    "arm_counts = pd.crosstab(subjects_merged.ARM_NAME,subjects_merged.RACE)\n",
    "ax2 = arm_counts.plot(kind='bar',grid=False,legend=False)\n",
    "ax2.legend(loc=\"right\",bbox_to_anchor=(1.8,0.2))"
   ]
  },
  {
   "cell_type": "markdown",
   "metadata": {},
   "source": [
    "##Prepare data for analysis"
   ]
  },
  {
   "cell_type": "code",
   "execution_count": 24,
   "metadata": {
    "collapsed": false
   },
   "outputs": [],
   "source": [
    "subjects_old_female = subjects_merged[(subjects_merged['ARM_NAME']==\"Old\") & (subjects_merged['GENDER']==\"Female\")]\n",
    "subjects_old_male = subjects_merged[(subjects_merged['ARM_NAME']==\"Old\") & (subjects_merged['GENDER']==\"Male\")]\n",
    "subjects_young_female = subjects_merged[(subjects_merged['ARM_NAME']==\"Young\") & (subjects_merged['GENDER']==\"Female\")]\n",
    "subjects_young_male = subjects_merged[(subjects_merged['ARM_NAME']==\"Young\") & (subjects_merged['GENDER']==\"Male\")]\n"
   ]
  },
  {
   "cell_type": "markdown",
   "metadata": {},
   "source": [
    "##Age at Enrollment by ARM and Gender"
   ]
  },
  {
   "cell_type": "code",
   "execution_count": 25,
   "metadata": {
    "collapsed": false
   },
   "outputs": [
    {
     "data": {
      "image/png": "[encoded data removed]",
      "text/plain": [
       "<matplotlib.figure.Figure at 0xbda0eb8>"
      ]
     },
     "metadata": {},
     "output_type": "display_data"
    }
   ],
   "source": [
    "fig, (ax1,ax2) = plt.subplots(1,2,figsize=(10,8),sharey=True)\n",
    "data = [subjects_old_female.MIN_SUBJECT_AGE,subjects_old_male.MIN_SUBJECT_AGE]\n",
    "ax1.boxplot(data)\n",
    "ax1.set_xticklabels(['Female','Male'])\n",
    "ax1.set_ylabel(\"Age At Enrollment\")\n",
    "ax1.tick_params(axis='y', direction='in',length=1)\n",
    "ax1.set_title(\"Old\")\n",
    "\n",
    "# Plot the points, using rand_jitter\n",
    "x = np.random.normal(1,.04,len(subjects_old_female.MIN_SUBJECT_AGE))\n",
    "ax1.plot(x,rand_jitter(subjects_old_female.MIN_SUBJECT_AGE),'r.',alpha=0.2)\n",
    "x = np.random.normal(2,.04,len(subjects_old_male.MIN_SUBJECT_AGE))\n",
    "ax1.plot(x,rand_jitter(subjects_old_male.MIN_SUBJECT_AGE),'r.',alpha=0.2)\n",
    "\n",
    "data = [subjects_young_female.MIN_SUBJECT_AGE,subjects_young_male.MIN_SUBJECT_AGE]\n",
    "ax2.boxplot(data)\n",
    "ax2.set_xticklabels(['Female','Male'])\n",
    "ax2.tick_params(axis='y', direction='in',length=1)\n",
    "ax2.set_title(\"Young\")\n",
    "\n",
    "# Plot the points, using rand_jitter\n",
    "x = np.random.normal(1,.04,len(subjects_young_female.MIN_SUBJECT_AGE))\n",
    "ax2.plot(x,rand_jitter(subjects_young_female.MIN_SUBJECT_AGE),'r.',alpha=0.2)\n",
    "x = np.random.normal(2,.04,len(subjects_young_male.MIN_SUBJECT_AGE))\n",
    "ax2.plot(x,rand_jitter(subjects_young_male.MIN_SUBJECT_AGE),'r.',alpha=0.2)\n",
    "\n",
    "plt.show()"
   ]
  },
  {
   "cell_type": "markdown",
   "metadata": {},
   "source": [
    "# Analyzing the HAI Results\n",
    "\n",
    "##Read in the hai_result.txt data"
   ]
  },
  {
   "cell_type": "code",
   "execution_count": 26,
   "metadata": {
    "collapsed": false
   },
   "outputs": [
    {
     "data": {
      "text/plain": [
       "Index([u'RESULT_ID', u'ARM_ACCESSION', u'BIOSAMPLE_ACCESSION', u'COMMENTS',\n",
       "       u'EXPERIMENT_ACCESSION', u'EXPSAMPLE_ACCESSION', u'STUDY_ACCESSION',\n",
       "       u'STUDY_TIME_COLLECTED', u'STUDY_TIME_COLLECTED_UNIT',\n",
       "       u'SUBJECT_ACCESSION', u'UNIT_PREFERRED', u'UNIT_REPORTED',\n",
       "       u'VALUE_PREFERRED', u'VALUE_REPORTED', u'VIRUS_STRAIN_PREFERRED',\n",
       "       u'VIRUS_STRAIN_REPORTED', u'WORKSPACE_ID'],\n",
       "      dtype='object')"
      ]
     },
     "execution_count": 26,
     "metadata": {},
     "output_type": "execute_result"
    }
   ],
   "source": [
    "hai_result = pd.read_table(\"./Data/SDY212/Tab/hai_result.txt\",sep=\"\\t\")\n",
    "hai_result.columns"
   ]
  },
  {
   "cell_type": "code",
   "execution_count": 27,
   "metadata": {
    "collapsed": false
   },
   "outputs": [
    {
     "data": {
      "text/plain": [
       "   RESULT_ID ARM_ACCESSION BIOSAMPLE_ACCESSION  COMMENTS EXPERIMENT_ACCESSION  \\\n",
       "0       7026        ARM895            BS697116       NaN             EXP13382   \n",
       "1       6588        ARM895            BS694690       NaN             EXP13382   \n",
       "2       6710        ARM895            BS694651       NaN             EXP13382   \n",
       "3       6763        ARM895            BS694682       NaN             EXP13382   \n",
       "4       6939        ARM895            BS697087       NaN             EXP13382   \n",
       "\n",
       "  EXPSAMPLE_ACCESSION STUDY_ACCESSION  STUDY_TIME_COLLECTED  \\\n",
       "0            ES760524          SDY212                    28   \n",
       "1            ES742127          SDY212                     0   \n",
       "2            ES742011          SDY212                     0   \n",
       "3            ES742102          SDY212                     0   \n",
       "4            ES760437          SDY212                    28   \n",
       "\n",
       "  STUDY_TIME_COLLECTED_UNIT SUBJECT_ACCESSION  UNIT_PREFERRED  UNIT_REPORTED  \\\n",
       "0                      Days         SUB134316             NaN            NaN   \n",
       "1                      Days         SUB134280             NaN            NaN   \n",
       "2                      Days         SUB134239             NaN            NaN   \n",
       "3                      Days         SUB134272             NaN            NaN   \n",
       "4                      Days         SUB134287             NaN            NaN   \n",
       "\n",
       "   VALUE_PREFERRED  VALUE_REPORTED VIRUS_STRAIN_PREFERRED  \\\n",
       "0               80              80     A/Brisbane/59/2007   \n",
       "1               10              10       B/Florida/4/2006   \n",
       "2               40              40     A/Brisbane/10/2007   \n",
       "3               10              10     A/Brisbane/59/2007   \n",
       "4               80              80     A/Brisbane/59/2007   \n",
       "\n",
       "  VIRUS_STRAIN_REPORTED  WORKSPACE_ID  \n",
       "0                  H1N1          2883  \n",
       "1                     B          2883  \n",
       "2                  H3N2          2883  \n",
       "3                  H1N1          2883  \n",
       "4                  H1N1          2883  "
      ]
     },
     "execution_count": 27,
     "metadata": {},
     "output_type": "execute_result"
    }
   ],
   "source": [
    "hai_result.head()"
   ]
  },
  {
   "cell_type": "markdown",
   "metadata": {},
   "source": [
    "##Drop columns not necessary for analysis and merge in information from the subjects data frame"
   ]
  },
  {
   "cell_type": "code",
   "execution_count": 28,
   "metadata": {
    "collapsed": false
   },
   "outputs": [
    {
     "data": {
      "text/plain": [
       "  ARM_ACCESSION SUBJECT_ACCESSION  STUDY_TIME_COLLECTED  VALUE_PREFERRED  \\\n",
       "0        ARM895         SUB134316                    28               80   \n",
       "1        ARM895         SUB134280                     0               10   \n",
       "2        ARM895         SUB134239                     0               40   \n",
       "3        ARM895         SUB134272                     0               10   \n",
       "4        ARM895         SUB134287                    28               80   \n",
       "\n",
       "  VIRUS_STRAIN_REPORTED  \n",
       "0                  H1N1  \n",
       "1                     B  \n",
       "2                  H3N2  \n",
       "3                  H1N1  \n",
       "4                  H1N1  "
      ]
     },
     "execution_count": 28,
     "metadata": {},
     "output_type": "execute_result"
    }
   ],
   "source": [
    "hai_result = hai_result[['ARM_ACCESSION','SUBJECT_ACCESSION','STUDY_TIME_COLLECTED','VALUE_PREFERRED','VIRUS_STRAIN_REPORTED']]\n",
    "hai_result.head()"
   ]
  },
  {
   "cell_type": "code",
   "execution_count": 29,
   "metadata": {
    "collapsed": false
   },
   "outputs": [
    {
     "data": {
      "text/plain": [
       "  ARM_ACCESSION_x SUBJECT_ACCESSION  STUDY_TIME_COLLECTED  VALUE_PREFERRED  \\\n",
       "0          ARM895         SUB134316                    28               80   \n",
       "1          ARM895         SUB134316                     0               10   \n",
       "2          ARM895         SUB134316                    28               10   \n",
       "3          ARM895         SUB134316                    28               80   \n",
       "4          ARM895         SUB134316                     0               20   \n",
       "5          ARM895         SUB134316                     0               10   \n",
       "6          ARM895         SUB134280                     0               10   \n",
       "7          ARM895         SUB134280                     0               20   \n",
       "8          ARM895         SUB134280                    28               20   \n",
       "9          ARM895         SUB134280                    28              640   \n",
       "\n",
       "  VIRUS_STRAIN_REPORTED ARM_ACCESSION_y ARM_NAME  GENDER   RACE  \\\n",
       "0                  H1N1          ARM895      Old  Female  White   \n",
       "1                     B          ARM895      Old  Female  White   \n",
       "2                     B          ARM895      Old  Female  White   \n",
       "3                  H3N2          ARM895      Old  Female  White   \n",
       "4                  H1N1          ARM895      Old  Female  White   \n",
       "5                  H3N2          ARM895      Old  Female  White   \n",
       "6                     B          ARM895      Old  Female  White   \n",
       "7                  H1N1          ARM895      Old  Female  White   \n",
       "8                  H1N1          ARM895      Old  Female  White   \n",
       "9                  H3N2          ARM895      Old  Female  White   \n",
       "\n",
       "   MIN_SUBJECT_AGE  \n",
       "0            84.90  \n",
       "1            84.90  \n",
       "2            84.90  \n",
       "3            84.90  \n",
       "4            84.90  \n",
       "5            84.90  \n",
       "6            77.27  \n",
       "7            77.27  \n",
       "8            77.27  \n",
       "9            77.27  "
      ]
     },
     "execution_count": 29,
     "metadata": {},
     "output_type": "execute_result"
    }
   ],
   "source": [
    "hai_result_merge = pd.merge(hai_result,subjects_merged,left_on='SUBJECT_ACCESSION',right_on='SUBJECT_ACCESSION')\n",
    "hai_result_merge.head(10)"
   ]
  },
  {
   "cell_type": "markdown",
   "metadata": {},
   "source": [
    "##Identify the day 0 rows, remove extra columns, and rename VALUE_PREFERRED to Day0"
   ]
  },
  {
   "cell_type": "code",
   "execution_count": 30,
   "metadata": {
    "collapsed": false
   },
   "outputs": [
    {
     "data": {
      "text/plain": [
       "  SUBJECT_ACCESSION  Day0 VIRUS_STRAIN_REPORTED ARM_NAME  GENDER   RACE  \\\n",
       "1         SUB134316    10                     B      Old  Female  White   \n",
       "4         SUB134316    20                  H1N1      Old  Female  White   \n",
       "5         SUB134316    10                  H3N2      Old  Female  White   \n",
       "6         SUB134280    10                     B      Old  Female  White   \n",
       "7         SUB134280    20                  H1N1      Old  Female  White   \n",
       "\n",
       "   MIN_SUBJECT_AGE  \n",
       "1            84.90  \n",
       "4            84.90  \n",
       "5            84.90  \n",
       "6            77.27  \n",
       "7            77.27  "
      ]
     },
     "execution_count": 30,
     "metadata": {},
     "output_type": "execute_result"
    }
   ],
   "source": [
    "study_day_0 = hai_result_merge[hai_result_merge['STUDY_TIME_COLLECTED'] == 0].copy()\n",
    "study_day_0.drop(['ARM_ACCESSION_x','ARM_ACCESSION_y','STUDY_TIME_COLLECTED'],axis=1, inplace=True)\n",
    "study_day_0.rename(columns={'VALUE_PREFERRED':'Day0'},inplace=True)\n",
    "study_day_0.head(5)"
   ]
  },
  {
   "cell_type": "markdown",
   "metadata": {},
   "source": [
    "##Identify the day 28 rows, remove extra columns, and rename VALUE_PREFERRED to Day28"
   ]
  },
  {
   "cell_type": "code",
   "execution_count": 31,
   "metadata": {
    "collapsed": false
   },
   "outputs": [
    {
     "data": {
      "text/plain": [
       "  SUBJECT_ACCESSION  Day28 VIRUS_STRAIN_REPORTED ARM_NAME\n",
       "0         SUB134316     80                  H1N1      Old\n",
       "2         SUB134316     10                     B      Old\n",
       "3         SUB134316     80                  H3N2      Old\n",
       "8         SUB134280     20                  H1N1      Old\n",
       "9         SUB134280    640                  H3N2      Old"
      ]
     },
     "execution_count": 31,
     "metadata": {},
     "output_type": "execute_result"
    }
   ],
   "source": [
    "study_day_28 = hai_result_merge[hai_result_merge['STUDY_TIME_COLLECTED'] == 28].copy()\n",
    "study_day_28.drop(['ARM_ACCESSION_x','ARM_ACCESSION_y','STUDY_TIME_COLLECTED','GENDER','RACE','MIN_SUBJECT_AGE'],axis=1, inplace=True)\n",
    "study_day_28.rename(columns={'VALUE_PREFERRED':'Day28'},inplace=True)\n",
    "study_day_28.head(5)"
   ]
  },
  {
   "cell_type": "code",
   "execution_count": 32,
   "metadata": {
    "collapsed": false
   },
   "outputs": [
    {
     "data": {
      "text/plain": [
       "(267, 7)"
      ]
     },
     "execution_count": 32,
     "metadata": {},
     "output_type": "execute_result"
    }
   ],
   "source": [
    "study_day_0.shape"
   ]
  },
  {
   "cell_type": "code",
   "execution_count": 33,
   "metadata": {
    "collapsed": false
   },
   "outputs": [
    {
     "data": {
      "text/plain": [
       "(267, 4)"
      ]
     },
     "execution_count": 33,
     "metadata": {},
     "output_type": "execute_result"
    }
   ],
   "source": [
    "study_day_28.shape"
   ]
  },
  {
   "cell_type": "markdown",
   "metadata": {},
   "source": [
    "##Merge the day 0 and day 28 content into one data frame"
   ]
  },
  {
   "cell_type": "code",
   "execution_count": 34,
   "metadata": {
    "collapsed": false
   },
   "outputs": [
    {
     "data": {
      "text/plain": [
       "  SUBJECT_ACCESSION  Day0 VIRUS_STRAIN_REPORTED ARM_NAME  GENDER   RACE  \\\n",
       "0         SUB134316    10                     B      Old  Female  White   \n",
       "1         SUB134316    20                  H1N1      Old  Female  White   \n",
       "2         SUB134316    10                  H3N2      Old  Female  White   \n",
       "3         SUB134280    10                     B      Old  Female  White   \n",
       "4         SUB134280    20                  H1N1      Old  Female  White   \n",
       "\n",
       "   MIN_SUBJECT_AGE  Day28  \n",
       "0            84.90     10  \n",
       "1            84.90     80  \n",
       "2            84.90     80  \n",
       "3            77.27     10  \n",
       "4            77.27     20  "
      ]
     },
     "execution_count": 34,
     "metadata": {},
     "output_type": "execute_result"
    }
   ],
   "source": [
    "join_columns = ['SUBJECT_ACCESSION','ARM_NAME','VIRUS_STRAIN_REPORTED']\n",
    "hai_analysis = pd.merge(study_day_0,study_day_28,left_on=join_columns,right_on=join_columns)\n",
    "hai_analysis.head()"
   ]
  },
  {
   "cell_type": "markdown",
   "metadata": {},
   "source": [
    "##Move Day0 right before Day28\n",
    "\n",
    "Make the data a little easier to review."
   ]
  },
  {
   "cell_type": "code",
   "execution_count": 35,
   "metadata": {
    "collapsed": false
   },
   "outputs": [
    {
     "data": {
      "text/plain": [
       "  SUBJECT_ACCESSION VIRUS_STRAIN_REPORTED ARM_NAME  GENDER   RACE  \\\n",
       "0         SUB134316                     B      Old  Female  White   \n",
       "1         SUB134316                  H1N1      Old  Female  White   \n",
       "2         SUB134316                  H3N2      Old  Female  White   \n",
       "3         SUB134280                     B      Old  Female  White   \n",
       "4         SUB134280                  H1N1      Old  Female  White   \n",
       "\n",
       "   MIN_SUBJECT_AGE  Day0  Day28  \n",
       "0            84.90    10     10  \n",
       "1            84.90    20     80  \n",
       "2            84.90    10     80  \n",
       "3            77.27    10     10  \n",
       "4            77.27    20     20  "
      ]
     },
     "execution_count": 35,
     "metadata": {},
     "output_type": "execute_result"
    }
   ],
   "source": [
    "day_0 = hai_analysis['Day0']\n",
    "hai_analysis.drop(['Day0'],axis=1, inplace=True)\n",
    "hai_analysis.insert(6,'Day0',day_0)\n",
    "hai_analysis.head()\n",
    "                "
   ]
  },
  {
   "cell_type": "markdown",
   "metadata": {},
   "source": [
    "##Calculate the fold change from day 0 to day 28, converting to log2 values to improve the display of level of change."
   ]
  },
  {
   "cell_type": "code",
   "execution_count": 36,
   "metadata": {
    "collapsed": false
   },
   "outputs": [
    {
     "data": {
      "text/plain": [
       "  SUBJECT_ACCESSION VIRUS_STRAIN_REPORTED ARM_NAME  GENDER   RACE  \\\n",
       "0         SUB134316                     B      Old  Female  White   \n",
       "1         SUB134316                  H1N1      Old  Female  White   \n",
       "2         SUB134316                  H3N2      Old  Female  White   \n",
       "3         SUB134280                     B      Old  Female  White   \n",
       "4         SUB134280                  H1N1      Old  Female  White   \n",
       "\n",
       "   MIN_SUBJECT_AGE  Day0  Day28  FOLD_CHANGE  FOLD_CHANGE_LOG2  \n",
       "0            84.90    10     10            1                 0  \n",
       "1            84.90    20     80            4                 2  \n",
       "2            84.90    10     80            8                 3  \n",
       "3            77.27    10     10            1                 0  \n",
       "4            77.27    20     20            1                 0  "
      ]
     },
     "execution_count": 36,
     "metadata": {},
     "output_type": "execute_result"
    }
   ],
   "source": [
    "hai_analysis['FOLD_CHANGE'] = hai_analysis['Day28']/hai_analysis['Day0']\n",
    "hai_analysis['FOLD_CHANGE_LOG2'] = np.log2(hai_analysis['FOLD_CHANGE'])\n",
    "hai_analysis.head()"
   ]
  },
  {
   "cell_type": "markdown",
   "metadata": {},
   "source": [
    "##Review the data"
   ]
  },
  {
   "cell_type": "code",
   "execution_count": 37,
   "metadata": {
    "collapsed": false
   },
   "outputs": [],
   "source": [
    "#pd.set_option('display.max_rows', 500)\n",
    "#hai_analysis[['SUBJECT_ACCESSION','ARM_NAME','VIRUS_STRAIN_REPORTED','Day0','Day28','FOLD_CHANGE','FOLD_CHANGE_LOG2']]"
   ]
  },
  {
   "cell_type": "markdown",
   "metadata": {},
   "source": [
    "##Separate the data into groups for analysis"
   ]
  },
  {
   "cell_type": "code",
   "execution_count": 38,
   "metadata": {
    "collapsed": false
   },
   "outputs": [],
   "source": [
    "B_strain = hai_analysis[hai_analysis['VIRUS_STRAIN_REPORTED']==\"B\"]\n",
    "B_strain_young = hai_analysis[(hai_analysis['VIRUS_STRAIN_REPORTED']==\"B\") & (hai_analysis['ARM_NAME']==\"Young\")]\n",
    "B_strain_old = hai_analysis[(hai_analysis['VIRUS_STRAIN_REPORTED']==\"B\") & (hai_analysis['ARM_NAME']==\"Old\")]\n",
    "H1N1_strain = hai_analysis[hai_analysis['VIRUS_STRAIN_REPORTED']==\"H1N1\"]\n",
    "H1N1_strain_young = hai_analysis[(hai_analysis['VIRUS_STRAIN_REPORTED']==\"H1N1\") & (hai_analysis['ARM_NAME']==\"Young\")]\n",
    "H1N1_strain_old = hai_analysis[(hai_analysis['VIRUS_STRAIN_REPORTED']==\"H1N1\") & (hai_analysis['ARM_NAME']==\"Old\")]\n",
    "H3N2_strain = hai_analysis[hai_analysis['VIRUS_STRAIN_REPORTED']==\"H3N2\"]\n",
    "H3N2_strain_young = hai_analysis[(hai_analysis['VIRUS_STRAIN_REPORTED']==\"H3N2\") & (hai_analysis['ARM_NAME']==\"Young\")]\n",
    "H3N2_strain_old = hai_analysis[(hai_analysis['VIRUS_STRAIN_REPORTED']==\"H3N2\") & (hai_analysis['ARM_NAME']==\"Old\")]"
   ]
  },
  {
   "cell_type": "markdown",
   "metadata": {},
   "source": [
    "##Plot of post(Day 28) vs. pre (Day 0) vaccination HAI titer. Colored by virus strain.\n",
    "\n",
    "This plot shows the typical triangular shape. If a subject already has a certain HAI titer for one strains before vaccination (x axis), it will most likely not go down after vaccination (y axis). This results in this shape.\n",
    "\n",
    "The first plot does not use the rand_jitter function to seperate the points and the second plot does use the rand_jitter function."
   ]
  },
  {
   "cell_type": "code",
   "execution_count": 39,
   "metadata": {
    "collapsed": false
   },
   "outputs": [
    {
     "data": {
      "image/png": "[encoded data removed]",
      "text/plain": [
       "<matplotlib.figure.Figure at 0xbf1f048>"
      ]
     },
     "metadata": {},
     "output_type": "display_data"
    }
   ],
   "source": [
    "fig, (ax) = plt.subplots(1,1,figsize=(8, 8))\n",
    "ax.scatter(B_strain['Day0'],B_strain['Day28'],label=\"B\",c=\"red\")\n",
    "ax.scatter(H1N1_strain['Day0'],H1N1_strain['Day28'],label=\"H1N1\",c=\"green\")\n",
    "ax.scatter(H3N2_strain['Day0'],H3N2_strain['Day28'],label=\"H3N2\",c=\"blue\")\n",
    "ax.set_xlabel('HAI titer pre vacination')\n",
    "ax.set_ylabel('HAI titer post vacination')\n",
    "ax.set_xlim(left=-100)\n",
    "ax.set_ylim(bottom=-100)\n",
    "ax.legend(bbox_to_anchor=(1.2, .5),scatterpoints=1,title=\"Virus Strain\")\n",
    "plt.show()"
   ]
  },
  {
   "cell_type": "code",
   "execution_count": 40,
   "metadata": {
    "collapsed": false
   },
   "outputs": [
    {
     "data": {
      "image/png": "[encoded data removed]",
      "text/plain": [
       "<matplotlib.figure.Figure at 0xd1e6da0>"
      ]
     },
     "metadata": {},
     "output_type": "display_data"
    }
   ],
   "source": [
    "fig, (ax) = plt.subplots(1,1,figsize=(8, 8))\n",
    "ax.scatter(rand_jitter_log(np.log2(B_strain['Day0'])),rand_jitter_log(np.log2(B_strain['Day28'])),label=\"B\",c=\"red\")\n",
    "ax.scatter(rand_jitter_log(np.log2(H1N1_strain['Day0'])),rand_jitter_log(np.log2(H1N1_strain['Day28'])),label=\"H1N1\",c=\"green\")\n",
    "ax.scatter(rand_jitter_log(np.log2(H3N2_strain['Day0'])),rand_jitter_log(np.log2(H3N2_strain['Day28'])),label=\"H3N2\",c=\"blue\")\n",
    "ax.set_xlabel('HAI titer pre vacination')\n",
    "ax.set_ylabel('HAI titer post vacination')\n",
    "ax.legend(bbox_to_anchor=(1.2, .5),scatterpoints=1,title=\"Virus Strain\")\n",
    "plt.show()"
   ]
  },
  {
   "cell_type": "markdown",
   "metadata": {},
   "source": [
    "##Plot of post (Day 28) vs. pre (Day 0) by Virus Strain"
   ]
  },
  {
   "cell_type": "code",
   "execution_count": 41,
   "metadata": {
    "collapsed": false
   },
   "outputs": [
    {
     "data": {
      "image/png": "[encoded data removed]",
      "text/plain": [
       "<matplotlib.figure.Figure at 0xd4f7320>"
      ]
     },
     "metadata": {},
     "output_type": "display_data"
    }
   ],
   "source": [
    "fig, (ax1,ax2,ax3) = plt.subplots(1,3,figsize=(8, 8),sharex=True)\n",
    "ax1.scatter(rand_jitter_log(np.log2(B_strain['Day0'])),rand_jitter_log(np.log2(B_strain['Day28'])),label=\"B\",c=\"red\")\n",
    "ax1.set_ylabel('HAI titer post vacination')\n",
    "ax1.set_title(\"B\")\n",
    "\n",
    "ax2.scatter(rand_jitter_log(np.log2(H1N1_strain['Day0'])),rand_jitter_log(np.log2(H1N1_strain['Day28'])),label=\"H1N1\",c=\"green\")\n",
    "ax2.set_yticklabels([])\n",
    "ax2.set_title(\"H1N1\")\n",
    "\n",
    "ax3.scatter(rand_jitter_log(np.log2(H3N2_strain['Day0'])),rand_jitter_log(np.log2(H3N2_strain['Day28'])),label=\"H3N2\",c=\"blue\")\n",
    "ax3.set_yticklabels([])\n",
    "ax3.set_title(\"H3N2\")\n",
    "fig.text(0.5,0,'HAI titer pre vacination',ha='center')\n",
    "plt.tight_layout()\n",
    "plt.show()"
   ]
  },
  {
   "cell_type": "markdown",
   "metadata": {},
   "source": [
    "##Plot of HAI response vs. pre (Day 0) vaccination HAI titer"
   ]
  },
  {
   "cell_type": "code",
   "execution_count": 42,
   "metadata": {
    "collapsed": false
   },
   "outputs": [
    {
     "data": {
      "image/png": "[encoded data removed]",
      "text/plain": [
       "<matplotlib.figure.Figure at 0xd94d978>"
      ]
     },
     "metadata": {},
     "output_type": "display_data"
    }
   ],
   "source": [
    "fig, (ax) = plt.subplots(1,1,figsize=(8, 8))\n",
    "ax.scatter(rand_jitter_log(np.log2(B_strain['Day0'])),rand_jitter_log(B_strain['FOLD_CHANGE_LOG2']),label=\"B\",c=\"red\")\n",
    "ax.scatter(rand_jitter_log(np.log2(H1N1_strain['Day0'])),rand_jitter_log(H1N1_strain['FOLD_CHANGE_LOG2']),label=\"H1N1\",c=\"green\")\n",
    "ax.scatter(rand_jitter_log(np.log2(H3N2_strain['Day0'])),rand_jitter_log(H3N2_strain['FOLD_CHANGE_LOG2']),label=\"H3N2\",c=\"blue\")\n",
    "ax.set_ylabel('HAI Response (post/pre)')\n",
    "ax.set_xlabel('HAI titer pre vacination')\n",
    "ax.hlines(2,0,12,linestyles='dashed')\n",
    "ax.text(10,2.5,\"High responders\")\n",
    "ax.text(10,1.5,\"Low responders\")\n",
    "\n",
    "ax.legend(bbox_to_anchor=(1.2, .5),scatterpoints=1,title=\"Virus Strain\")\n",
    "plt.show()"
   ]
  },
  {
   "cell_type": "markdown",
   "metadata": {},
   "source": [
    "#Examining if age of the subjects and the virus strain influence the influenza vaccine response\n",
    "Plotting boxplots of the HAI responses separate by virus strain, we can see that the response varies by virus type."
   ]
  },
  {
   "cell_type": "code",
   "execution_count": 43,
   "metadata": {
    "collapsed": false
   },
   "outputs": [
    {
     "data": {
      "image/png": "[encoded data removed]",
      "text/plain": [
       "<matplotlib.figure.Figure at 0xd505e48>"
      ]
     },
     "metadata": {},
     "output_type": "display_data"
    }
   ],
   "source": [
    "fig, (ax) = plt.subplots(1,1,figsize=(8, 8))\n",
    "data = [B_strain['FOLD_CHANGE_LOG2'],H1N1_strain['FOLD_CHANGE_LOG2'],H3N2_strain['FOLD_CHANGE_LOG2']]\n",
    "ax.boxplot(data)\n",
    "ax.set_xticklabels(['B','H1N1','H3N2'])\n",
    "strain = ['B','H1N1','H3N2']\n",
    "for i in [1,2,3]:\n",
    "    y = rand_jitter_log(hai_analysis.FOLD_CHANGE_LOG2[hai_analysis.VIRUS_STRAIN_REPORTED==strain[i-1]])\n",
    "    x = np.random.normal(i,0.04,size=len(y))\n",
    "    ax.plot(x,y,'r.',alpha=0.2)\n",
    "    ax.set_ylabel(\"HAI response (Post vaccination/Pre vaccination)\")\n",
    "plt.show()"
   ]
  },
  {
   "cell_type": "markdown",
   "metadata": {},
   "source": [
    "##Response varies by age group (arm)\n",
    "Showing the response data per age group (arm) points tothe idea that the HAI response also varies by arm"
   ]
  },
  {
   "cell_type": "code",
   "execution_count": 44,
   "metadata": {
    "collapsed": false
   },
   "outputs": [
    {
     "data": {
      "image/png": "[encoded data removed]",
      "text/plain": [
       "<matplotlib.figure.Figure at 0xe2dcc18>"
      ]
     },
     "metadata": {},
     "output_type": "display_data"
    }
   ],
   "source": [
    "fig, (ax) = plt.subplots(1,1,figsize=(8, 8))\n",
    "data = [hai_analysis.FOLD_CHANGE_LOG2[hai_analysis.ARM_NAME==\"Old\"],hai_analysis.FOLD_CHANGE_LOG2[hai_analysis.ARM_NAME==\"Young\"]]\n",
    "ax.boxplot(data)\n",
    "ax.set_xticklabels(['Old','Young'])\n",
    "arm = ['Old','Young']\n",
    "for i in [1,2]:\n",
    "    y = rand_jitter_log(hai_analysis.FOLD_CHANGE_LOG2[hai_analysis.ARM_NAME==arm[i-1]])\n",
    "    x = np.random.normal(i,0.04,size=len(y))\n",
    "    ax.plot(x,y,'r.',alpha=0.2)\n",
    "    ax.set_ylabel(\"HAI response (Post vaccination/Pre vaccination)\")\n",
    "plt.show()"
   ]
  },
  {
   "cell_type": "markdown",
   "metadata": {},
   "source": [
    "##Response varies by 2 factors: Strain and Age\n",
    "Next, we focussed on the combination of these two factors. Do the young people have a higher response for each of the\n",
    "three virus strains ?"
   ]
  },
  {
   "cell_type": "code",
   "execution_count": 45,
   "metadata": {
    "collapsed": false
   },
   "outputs": [
    {
     "data": {
      "image/png": "[encoded data removed]",
      "text/plain": [
       "<matplotlib.figure.Figure at 0xe30e128>"
      ]
     },
     "metadata": {},
     "output_type": "display_data"
    }
   ],
   "source": [
    "fig, (ax1,ax2,ax3) = plt.subplots(1,3,figsize=(10, 5))\n",
    "data = [B_strain_old.FOLD_CHANGE_LOG2,B_strain_young.FOLD_CHANGE_LOG2]\n",
    "ax1.boxplot(data)\n",
    "ax1.set_xticklabels(['Old','Young'])\n",
    "ax1.set_title(\"B\")\n",
    "ax1.tick_params(axis='y', direction='in',length=1)\n",
    "arm = ['Old','Young']\n",
    "for i in [1,2]:\n",
    "    y = rand_jitter_log(B_strain.FOLD_CHANGE_LOG2[B_strain.ARM_NAME==arm[i-1]])\n",
    "    x = np.random.normal(i,0.04,size=len(y))\n",
    "    ax1.plot(x,y,'r.',alpha=0.2)\n",
    "    ax1.set_ylabel(\"HAI response (Post vaccination/Pre vaccination)\")\n",
    "    \n",
    "data = [H1N1_strain_old.FOLD_CHANGE_LOG2,H1N1_strain_young.FOLD_CHANGE_LOG2]\n",
    "ax2.boxplot(data)\n",
    "ax2.set_xticklabels(['Old','Young'])\n",
    "ax2.set_title(\"H1N1\")\n",
    "ax2.set_yticklabels([])\n",
    "ax2.tick_params(axis='y', direction='in',length=1)\n",
    "arm = ['Old','Young']\n",
    "for i in [1,2]:\n",
    "    y = rand_jitter(H1N1_strain.FOLD_CHANGE_LOG2[H1N1_strain.ARM_NAME==arm[i-1]])\n",
    "    x = np.random.normal(i,0.04,size=len(y))\n",
    "    ax2.plot(x,y,'r.',alpha=0.2)\n",
    "    \n",
    "data = [H3N2_strain_old.FOLD_CHANGE_LOG2,H3N2_strain_young.FOLD_CHANGE_LOG2]\n",
    "ax3.boxplot(data)\n",
    "ax3.set_xticklabels(['Old','Young'])\n",
    "ax3.set_title(\"H3N2\")\n",
    "ax3.set_yticklabels([])\n",
    "ax3.tick_params(axis='y', direction='in',length=1)\n",
    "arm = ['Old','Young']\n",
    "for i in [1,2]:\n",
    "    y = rand_jitter_log(H3N2_strain.FOLD_CHANGE_LOG2[H3N2_strain.ARM_NAME==arm[i-1]])\n",
    "    x = np.random.normal(i,0.04,size=len(y))\n",
    "    ax3.plot(x,y,'r.',alpha=0.2)\n",
    "    \n",
    "plt.show()"
   ]
  },
  {
   "cell_type": "markdown",
   "metadata": {},
   "source": [
    "In this figure, we can see that it seems like that the response to the H3N2 strain is independent from the age group; while for the H1N1 and B strains, the young people respond on average stronger than the old ones. To test this, we run Wilcoxon rank sum tests."
   ]
  },
  {
   "cell_type": "markdown",
   "metadata": {},
   "source": [
    "# Run independent 2-group Mann-whitney U Test\n",
    "\n",
    "The documentation for this test states: \"This test corrects for ties and by default uses a continuity correction. The reported p-value is for a one-sided hypothesis, to get the two-sided p-value multiply the returned p-value by 2.\""
   ]
  },
  {
   "cell_type": "code",
   "execution_count": 46,
   "metadata": {
    "collapsed": false
   },
   "outputs": [
    {
     "name": "stdout",
     "output_type": "stream",
     "text": [
      "0.0109153291517 628.0 0.0218306583033\n"
     ]
    }
   ],
   "source": [
    "from scipy import stats\n",
    "t1 = B_strain_young.FOLD_CHANGE_LOG2\n",
    "t2 = B_strain_old.FOLD_CHANGE_LOG2\n",
    "\n",
    "u_stat, p_val = stats.mannwhitneyu(t1, t2)\n",
    "\n",
    "print p_val, u_stat, p_val * 2"
   ]
  },
  {
   "cell_type": "code",
   "execution_count": 47,
   "metadata": {
    "collapsed": false
   },
   "outputs": [
    {
     "name": "stdout",
     "output_type": "stream",
     "text": [
      "0.00157769523287 550.0 0.00315539046574\n"
     ]
    }
   ],
   "source": [
    "t1 = H1N1_strain_young.FOLD_CHANGE_LOG2\n",
    "t2 = H1N1_strain_old.FOLD_CHANGE_LOG2\n",
    "\n",
    "u_stat, p_val = stats.mannwhitneyu(t1, t2)\n",
    "\n",
    "print p_val, u_stat, p_val * 2"
   ]
  },
  {
   "cell_type": "code",
   "execution_count": 48,
   "metadata": {
    "collapsed": false
   },
   "outputs": [
    {
     "name": "stdout",
     "output_type": "stream",
     "text": [
      "0.311037225027 814.0 0.622074450053\n"
     ]
    }
   ],
   "source": [
    "t1 = H3N2_strain_young.FOLD_CHANGE_LOG2\n",
    "t2 = H3N2_strain_old.FOLD_CHANGE_LOG2\n",
    "\n",
    "u_stat, p_val = stats.mannwhitneyu(t1, t2)\n",
    "\n",
    "print p_val, u_stat, p_val * 2"
   ]
  },
  {
   "cell_type": "markdown",
   "metadata": {},
   "source": [
    "The results of this statistical tests show that the HAI response is significantly different between the age groups at\n",
    "a 0.05 level for the B and H1N1 strains, while not for the H3N2 strain"
   ]
  }
 ],
 "metadata": {
  "kernelspec": {
   "display_name": "Python 2",
   "language": "python",
   "name": "python2"
  },
  "language_info": {
   "codemirror_mode": {
    "name": "ipython",
    "version": 2
   },
   "file_extension": ".py",
   "mimetype": "text/x-python",
   "name": "python",
   "nbconvert_exporter": "python",
   "pygments_lexer": "ipython2",
   "version": "2.7.11"
  }
 },
 "nbformat": 4,
 "nbformat_minor": 0
}
